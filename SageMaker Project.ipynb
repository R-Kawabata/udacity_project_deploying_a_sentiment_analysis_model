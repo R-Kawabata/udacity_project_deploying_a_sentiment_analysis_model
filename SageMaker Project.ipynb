{
 "cells": [
  {
   "cell_type": "markdown",
   "metadata": {},
   "source": [
    "# Creating a Sentiment Analysis Web App\n",
    "## Using PyTorch and SageMaker\n",
    "\n",
    "_Deep Learning Nanodegree Program | Deployment_\n",
    "\n",
    "---\n",
    "\n",
    "Now that we have a basic understanding of how SageMaker works we will try to use it to construct a complete project from end to end. Our goal will be to have a simple web page which a user can use to enter a movie review. The web page will then send the review off to our deployed model which will predict the sentiment of the entered review.\n",
    "\n",
    "## Instructions\n",
    "\n",
    "Some template code has already been provided for you, and you will need to implement additional functionality to successfully complete this notebook. You will not need to modify the included code beyond what is requested. Sections that begin with '**TODO**' in the header indicate that you need to complete or implement some portion within them. Instructions will be provided for each section and the specifics of the implementation are marked in the code block with a `# TODO: ...` comment. Please be sure to read the instructions carefully!\n",
    "\n",
    "In addition to implementing code, there will be questions for you to answer which relate to the task and your implementation. Each section where you will answer a question is preceded by a '**Question:**' header. Carefully read each question and provide your answer below the '**Answer:**' header by editing the Markdown cell.\n",
    "\n",
    "> **Note**: Code and Markdown cells can be executed using the **Shift+Enter** keyboard shortcut. In addition, a cell can be edited by typically clicking it (double-click for Markdown cells) or by pressing **Enter** while it is highlighted.\n",
    "\n",
    "## General Outline\n",
    "\n",
    "Recall the general outline for SageMaker projects using a notebook instance.\n",
    "\n",
    "1. Download or otherwise retrieve the data.\n",
    "2. Process / Prepare the data.\n",
    "3. Upload the processed data to S3.\n",
    "4. Train a chosen model.\n",
    "5. Test the trained model (typically using a batch transform job).\n",
    "6. Deploy the trained model.\n",
    "7. Use the deployed model.\n",
    "\n",
    "For this project, you will be following the steps in the general outline with some modifications. \n",
    "\n",
    "First, you will not be testing the model in its own step. You will still be testing the model, however, you will do it by deploying your model and then using the deployed model by sending the test data to it. One of the reasons for doing this is so that you can make sure that your deployed model is working correctly before moving forward.\n",
    "\n",
    "In addition, you will deploy and use your trained model a second time. In the second iteration you will customize the way that your trained model is deployed by including some of your own code. In addition, your newly deployed model will be used in the sentiment analysis web app."
   ]
  },
  {
   "cell_type": "code",
   "execution_count": 1,
   "metadata": {},
   "outputs": [
    {
     "name": "stdout",
     "output_type": "stream",
     "text": [
      "Collecting sagemaker==1.72.0\n",
      "  Downloading sagemaker-1.72.0.tar.gz (297 kB)\n",
      "\u001b[K     |████████████████████████████████| 297 kB 6.9 MB/s eta 0:00:01\n",
      "\u001b[?25hRequirement already satisfied: boto3>=1.14.12 in /home/ec2-user/anaconda3/envs/amazonei_pytorch_latest_p36/lib/python3.6/site-packages (from sagemaker==1.72.0) (1.16.63)\n",
      "Requirement already satisfied: numpy>=1.9.0 in /home/ec2-user/anaconda3/envs/amazonei_pytorch_latest_p36/lib/python3.6/site-packages (from sagemaker==1.72.0) (1.19.5)\n",
      "Requirement already satisfied: protobuf>=3.1 in /home/ec2-user/anaconda3/envs/amazonei_pytorch_latest_p36/lib/python3.6/site-packages (from sagemaker==1.72.0) (3.14.0)\n",
      "Requirement already satisfied: scipy>=0.19.0 in /home/ec2-user/anaconda3/envs/amazonei_pytorch_latest_p36/lib/python3.6/site-packages (from sagemaker==1.72.0) (1.3.0)\n",
      "Requirement already satisfied: protobuf3-to-dict>=0.1.5 in /home/ec2-user/anaconda3/envs/amazonei_pytorch_latest_p36/lib/python3.6/site-packages (from sagemaker==1.72.0) (0.1.5)\n",
      "Requirement already satisfied: importlib-metadata>=1.4.0 in /home/ec2-user/anaconda3/envs/amazonei_pytorch_latest_p36/lib/python3.6/site-packages (from sagemaker==1.72.0) (3.4.0)\n",
      "Requirement already satisfied: packaging>=20.0 in /home/ec2-user/anaconda3/envs/amazonei_pytorch_latest_p36/lib/python3.6/site-packages (from sagemaker==1.72.0) (20.8)\n",
      "Collecting smdebug-rulesconfig==0.1.4\n",
      "  Downloading smdebug_rulesconfig-0.1.4-py2.py3-none-any.whl (10 kB)\n",
      "Requirement already satisfied: s3transfer<0.4.0,>=0.3.0 in /home/ec2-user/anaconda3/envs/amazonei_pytorch_latest_p36/lib/python3.6/site-packages (from boto3>=1.14.12->sagemaker==1.72.0) (0.3.4)\n",
      "Requirement already satisfied: jmespath<1.0.0,>=0.7.1 in /home/ec2-user/anaconda3/envs/amazonei_pytorch_latest_p36/lib/python3.6/site-packages (from boto3>=1.14.12->sagemaker==1.72.0) (0.10.0)\n",
      "Requirement already satisfied: botocore<1.20.0,>=1.19.63 in /home/ec2-user/anaconda3/envs/amazonei_pytorch_latest_p36/lib/python3.6/site-packages (from boto3>=1.14.12->sagemaker==1.72.0) (1.19.63)\n",
      "Requirement already satisfied: python-dateutil<3.0.0,>=2.1 in /home/ec2-user/anaconda3/envs/amazonei_pytorch_latest_p36/lib/python3.6/site-packages (from botocore<1.20.0,>=1.19.63->boto3>=1.14.12->sagemaker==1.72.0) (2.8.1)\n",
      "Requirement already satisfied: urllib3<1.27,>=1.25.4 in /home/ec2-user/anaconda3/envs/amazonei_pytorch_latest_p36/lib/python3.6/site-packages (from botocore<1.20.0,>=1.19.63->boto3>=1.14.12->sagemaker==1.72.0) (1.26.2)\n",
      "Requirement already satisfied: zipp>=0.5 in /home/ec2-user/anaconda3/envs/amazonei_pytorch_latest_p36/lib/python3.6/site-packages (from importlib-metadata>=1.4.0->sagemaker==1.72.0) (3.4.0)\n",
      "Requirement already satisfied: typing-extensions>=3.6.4 in /home/ec2-user/anaconda3/envs/amazonei_pytorch_latest_p36/lib/python3.6/site-packages (from importlib-metadata>=1.4.0->sagemaker==1.72.0) (3.7.4.3)\n",
      "Requirement already satisfied: pyparsing>=2.0.2 in /home/ec2-user/anaconda3/envs/amazonei_pytorch_latest_p36/lib/python3.6/site-packages (from packaging>=20.0->sagemaker==1.72.0) (2.4.7)\n",
      "Requirement already satisfied: six>=1.9 in /home/ec2-user/anaconda3/envs/amazonei_pytorch_latest_p36/lib/python3.6/site-packages (from protobuf>=3.1->sagemaker==1.72.0) (1.15.0)\n",
      "Building wheels for collected packages: sagemaker\n",
      "  Building wheel for sagemaker (setup.py) ... \u001b[?25ldone\n",
      "\u001b[?25h  Created wheel for sagemaker: filename=sagemaker-1.72.0-py2.py3-none-any.whl size=386357 sha256=efe01daef44bd8de275abeace404bb467b30b311404dfaf410f8b0d412f9e148\n",
      "  Stored in directory: /home/ec2-user/.cache/pip/wheels/c3/58/70/85faf4437568bfaa4c419937569ba1fe54d44c5db42406bbd7\n",
      "Successfully built sagemaker\n",
      "Installing collected packages: smdebug-rulesconfig, sagemaker\n",
      "  Attempting uninstall: smdebug-rulesconfig\n",
      "    Found existing installation: smdebug-rulesconfig 1.0.1\n",
      "    Uninstalling smdebug-rulesconfig-1.0.1:\n",
      "      Successfully uninstalled smdebug-rulesconfig-1.0.1\n",
      "  Attempting uninstall: sagemaker\n",
      "    Found existing installation: sagemaker 2.24.1\n",
      "    Uninstalling sagemaker-2.24.1:\n",
      "      Successfully uninstalled sagemaker-2.24.1\n",
      "Successfully installed sagemaker-1.72.0 smdebug-rulesconfig-0.1.4\n",
      "\u001b[33mWARNING: You are using pip version 20.3.3; however, version 21.0.1 is available.\n",
      "You should consider upgrading via the '/home/ec2-user/anaconda3/envs/amazonei_pytorch_latest_p36/bin/python -m pip install --upgrade pip' command.\u001b[0m\n"
     ]
    }
   ],
   "source": [
    "# Make sure that we use SageMaker 1.x\n",
    "!pip install sagemaker==1.72.0"
   ]
  },
  {
   "cell_type": "markdown",
   "metadata": {},
   "source": [
    "## Step 1: Downloading the data\n",
    "\n",
    "As in the XGBoost in SageMaker notebook, we will be using the [IMDb dataset](http://ai.stanford.edu/~amaas/data/sentiment/)\n",
    "\n",
    "> Maas, Andrew L., et al. [Learning Word Vectors for Sentiment Analysis](http://ai.stanford.edu/~amaas/data/sentiment/). In _Proceedings of the 49th Annual Meeting of the Association for Computational Linguistics: Human Language Technologies_. Association for Computational Linguistics, 2011."
   ]
  },
  {
   "cell_type": "code",
   "execution_count": 2,
   "metadata": {},
   "outputs": [
    {
     "name": "stdout",
     "output_type": "stream",
     "text": [
      "mkdir: cannot create directory ‘../data’: File exists\n",
      "--2021-02-16 13:44:20--  http://ai.stanford.edu/~amaas/data/sentiment/aclImdb_v1.tar.gz\n",
      "Resolving ai.stanford.edu (ai.stanford.edu)... 171.64.68.10\n",
      "Connecting to ai.stanford.edu (ai.stanford.edu)|171.64.68.10|:80... connected.\n",
      "HTTP request sent, awaiting response... 200 OK\n",
      "Length: 84125825 (80M) [application/x-gzip]\n",
      "Saving to: ‘../data/aclImdb_v1.tar.gz’\n",
      "\n",
      "../data/aclImdb_v1. 100%[===================>]  80.23M  33.9MB/s    in 2.4s    \n",
      "\n",
      "2021-02-16 13:44:23 (33.9 MB/s) - ‘../data/aclImdb_v1.tar.gz’ saved [84125825/84125825]\n",
      "\n"
     ]
    }
   ],
   "source": [
    "%mkdir ../data\n",
    "!wget -O ../data/aclImdb_v1.tar.gz http://ai.stanford.edu/~amaas/data/sentiment/aclImdb_v1.tar.gz\n",
    "!tar -zxf ../data/aclImdb_v1.tar.gz -C ../data"
   ]
  },
  {
   "cell_type": "markdown",
   "metadata": {},
   "source": [
    "## Step 2: Preparing and Processing the data\n",
    "\n",
    "Also, as in the XGBoost notebook, we will be doing some initial data processing. The first few steps are the same as in the XGBoost example. To begin with, we will read in each of the reviews and combine them into a single input structure. Then, we will split the dataset into a training set and a testing set."
   ]
  },
  {
   "cell_type": "code",
   "execution_count": 3,
   "metadata": {},
   "outputs": [],
   "source": [
    "import os\n",
    "import glob\n",
    "\n",
    "def read_imdb_data(data_dir='../data/aclImdb'):\n",
    "    data = {}\n",
    "    labels = {}\n",
    "    \n",
    "    for data_type in ['train', 'test']:\n",
    "        data[data_type] = {}\n",
    "        labels[data_type] = {}\n",
    "        \n",
    "        for sentiment in ['pos', 'neg']:\n",
    "            data[data_type][sentiment] = []\n",
    "            labels[data_type][sentiment] = []\n",
    "            \n",
    "            path = os.path.join(data_dir, data_type, sentiment, '*.txt')\n",
    "            files = glob.glob(path)\n",
    "            \n",
    "            for f in files:\n",
    "                with open(f) as review:\n",
    "                    data[data_type][sentiment].append(review.read())\n",
    "                    # Here we represent a positive review by '1' and a negative review by '0'\n",
    "                    labels[data_type][sentiment].append(1 if sentiment == 'pos' else 0)\n",
    "                    \n",
    "            assert len(data[data_type][sentiment]) == len(labels[data_type][sentiment]), \\\n",
    "                    \"{}/{} data size does not match labels size\".format(data_type, sentiment)\n",
    "                \n",
    "    return data, labels"
   ]
  },
  {
   "cell_type": "code",
   "execution_count": 4,
   "metadata": {},
   "outputs": [
    {
     "name": "stdout",
     "output_type": "stream",
     "text": [
      "IMDB reviews: train = 12500 pos / 12500 neg, test = 12500 pos / 12500 neg\n"
     ]
    }
   ],
   "source": [
    "data, labels = read_imdb_data()\n",
    "print(\"IMDB reviews: train = {} pos / {} neg, test = {} pos / {} neg\".format(\n",
    "            len(data['train']['pos']), len(data['train']['neg']),\n",
    "            len(data['test']['pos']), len(data['test']['neg'])))"
   ]
  },
  {
   "cell_type": "markdown",
   "metadata": {},
   "source": [
    "Now that we've read the raw training and testing data from the downloaded dataset, we will combine the positive and negative reviews and shuffle the resulting records."
   ]
  },
  {
   "cell_type": "code",
   "execution_count": 5,
   "metadata": {},
   "outputs": [],
   "source": [
    "from sklearn.utils import shuffle\n",
    "\n",
    "def prepare_imdb_data(data, labels):\n",
    "    \"\"\"Prepare training and test sets from IMDb movie reviews.\"\"\"\n",
    "    \n",
    "    #Combine positive and negative reviews and labels\n",
    "    data_train = data['train']['pos'] + data['train']['neg']\n",
    "    data_test = data['test']['pos'] + data['test']['neg']\n",
    "    labels_train = labels['train']['pos'] + labels['train']['neg']\n",
    "    labels_test = labels['test']['pos'] + labels['test']['neg']\n",
    "    \n",
    "    #Shuffle reviews and corresponding labels within training and test sets\n",
    "    data_train, labels_train = shuffle(data_train, labels_train)\n",
    "    data_test, labels_test = shuffle(data_test, labels_test)\n",
    "    \n",
    "    # Return a unified training data, test data, training labels, test labets\n",
    "    return data_train, data_test, labels_train, labels_test"
   ]
  },
  {
   "cell_type": "code",
   "execution_count": 6,
   "metadata": {},
   "outputs": [
    {
     "name": "stdout",
     "output_type": "stream",
     "text": [
      "IMDb reviews (combined): train = 25000, test = 25000\n"
     ]
    }
   ],
   "source": [
    "train_X, test_X, train_y, test_y = prepare_imdb_data(data, labels)\n",
    "print(\"IMDb reviews (combined): train = {}, test = {}\".format(len(train_X), len(test_X)))"
   ]
  },
  {
   "cell_type": "markdown",
   "metadata": {},
   "source": [
    "Now that we have our training and testing sets unified and prepared, we should do a quick check and see an example of the data our model will be trained on. This is generally a good idea as it allows you to see how each of the further processing steps affects the reviews and it also ensures that the data has been loaded correctly."
   ]
  },
  {
   "cell_type": "code",
   "execution_count": 7,
   "metadata": {
    "scrolled": true
   },
   "outputs": [
    {
     "name": "stdout",
     "output_type": "stream",
     "text": [
      "Rumour has it that around the time that ABBA  the multi-award winning Swedish disco favourites 's star had reached its zenith, the band grew disillusioned with singing in English and yearned to perform in their native tongue. Soon after, problems began to emerge in the onetime-wed locked-watertight partnership and recordings became less and less frequent. The band dissolved, albeit unofficially, in 1982 and pop lost one of its most celebrated artists. Although they have never admitted that there's any truth in those rumours, the fact remains that ABBA would never have been so successful had they only recorded in their native tongue. If you want to appeal to the largest money-making media market in the entire world, then you must cater for English speaking audiences.<br /><br />It's amazing for me how such a small island that's located a stone-throw away from the European continent could have created perhaps the most recognised, although not most widely spoken, language in the world. Everyone speaks a little bit of English; whether it be simply 'hello' or a common swear word - you'll find an English speaker almost everywhere. Pedro Galindo obviously didn't agree, because Trampa Infernal was never subtitled for global consumption until it was released recently on budget DVD. That's a real shame, because it's actually a decent slasher movie that's a lot better than many of its English-speaking genre compatriots.<br /><br />The film launches in the somewhat unfamiliar territory of a pistol duel. Two unidentified characters are shown sneaking around a dilapidated complex searching out one another for the inevitable final showdown. After some suspense and a couple of near misses, one of the pistoleers emerges victoriously. Next we learn that they were only paintball guns and the two competitors are actually youngsters from the local town. Nacho and Mauricio are fiercest rivals and Mauricio is always trying to prove himself to be better than his soft-spoken opponent, but as of yet he hasn't succeeded.<br /><br />Later that night, whilst the victorious gunslinger celebrates his triumph with his girlfriend Alejandra and his buddy Charly, Mauricio enters the bar and says that he has one last challenge for his glorious nemesis. He says that this will be the competition that will prove to the town once and for all who deserves the uttermost respect. Nacho is at first reluctant because Alejandra warns him of the perils of continual competitiveness, but he eventually succumbs to the weight of peer pressure and agrees; much to the distaste of his morally superior partner.<br /><br />They plan to head out to the remote region of Filo de Caballo, because recent press coverage has reported that numerous people have been butchered by what locals believe to be a vicious bear. Mauricio proposes that whoever murders the animal can be regarded as the greatest and he also promises that it will be the last battle that he wages against his adversary.<br /><br />After visiting the armoury to stock up on weapons and ignoring the warnings of the elderly store-keeper, the group set out to the remoteness of the secluded woodland. Hunters become hunted as they learn that the 'bear' is actually a homicidal Vietnam vet who is still unaware that the war has ended and considers all humans as his enemy. What started as a competitive adventure suddenly becomes a battle for survival as they are stalked and slaughtered by the malevolent assassin.<br /><br />I picked up Trampa whilst studying in Madrid from a Mexican student who lived in the dorm room next-door to me. I remember that the copy I watched was faulty and the tape ended about 10 minutes before the final credits rolled, which meant I never got to see the final scenes. Thankfully I came across the budget DVD recently on Amazon and immediately added it to my collection. <br /><br />Gallindo's slasher is a surprisingly good effort that excels from its skillful direction and enthusiastic plot, which attempts to cover areas not usually approached by slasher movies. It is in fact so good that it reminded me on more than one occasion of the Arnold Schwarzenegger classic Predator. This is especially evident in the scenes that show the creepily-masked assassin jogging through the forest and stalking the panic-stricken troupe as they struggle to escape the maniac's playground.<br /><br />Despite Gallindo's obvious awareness of genre platitudes (the bogeyman even uses a claw-fingered glove a la Freddy Kruegar); Trampa also attempts to add something different to the standard template. Whilst the majority of the runtime plays by the concrete rules of the category, the final third heralds a significant step in individuality as the maniac arms himself with a machine gun and entices the hero to his lair for the final showdown. From here on, the film rapidly swaps genres and becomes almost an action film, which depending on your taste will either excite or disappoint you. The last slasher that tried to crossbreed the two styles was that shoddy eighties entry 'The Majorettes', which is not necessarily a good thing.<br /><br />As is the case with many Latin films (especially Spanish flicks by Almodovar and Amenabar), Trampa has a subtle undercurrent of a moral to its story, which is conveyed successfully without being rammed down the viewer's throat. Over indulge in the temptations of competitive masculinity and you may not always be the winner. It's a sugar-coated point, but it's handled delicately enough not to detract from the fun of the feature.<br /><br />Trampa may be cheesy, but it deserves to be seen and recognised as one of the better late slashers. The killer looks great in creepy army fatigues and white Valentine-style mask and the attempts at originality just about work. It may lack the gore that most sincere horror fans enjoy, but it has enough in terms of suspense and creativity to warrant at least one viewing.\n",
      "1\n"
     ]
    }
   ],
   "source": [
    "print(train_X[100])\n",
    "print(train_y[100])"
   ]
  },
  {
   "cell_type": "markdown",
   "metadata": {},
   "source": [
    "The first step in processing the reviews is to make sure that any html tags that appear should be removed. In addition we wish to tokenize our input, that way words such as *entertained* and *entertaining* are considered the same with regard to sentiment analysis."
   ]
  },
  {
   "cell_type": "code",
   "execution_count": 8,
   "metadata": {},
   "outputs": [],
   "source": [
    "import nltk\n",
    "from nltk.corpus import stopwords\n",
    "from nltk.stem.porter import *\n",
    "\n",
    "import re\n",
    "from bs4 import BeautifulSoup\n",
    "\n",
    "def review_to_words(review):\n",
    "    nltk.download(\"stopwords\", quiet=True)\n",
    "    stemmer = PorterStemmer()\n",
    "    \n",
    "    text = BeautifulSoup(review, \"html.parser\").get_text() # Remove HTML tags\n",
    "    text = re.sub(r\"[^a-zA-Z0-9]\", \" \", text.lower()) # Convert to lower case\n",
    "    words = text.split() # Split string into words\n",
    "    words = [w for w in words if w not in stopwords.words(\"english\")] # Remove stopwords\n",
    "    words = [PorterStemmer().stem(w) for w in words] # stem\n",
    "    \n",
    "    return words"
   ]
  },
  {
   "cell_type": "markdown",
   "metadata": {},
   "source": [
    "The `review_to_words` method defined above uses `BeautifulSoup` to remove any html tags that appear and uses the `nltk` package to tokenize the reviews. As a check to ensure we know how everything is working, try applying `review_to_words` to one of the reviews in the training set."
   ]
  },
  {
   "cell_type": "code",
   "execution_count": 9,
   "metadata": {},
   "outputs": [
    {
     "name": "stdout",
     "output_type": "stream",
     "text": [
      "Wow! The sort of movie you could watch ten times and still delight in its nuances. Absolutely incredible! If this was Visconti's debut film, i shudder to think what would happen if he got any better from film to film. The only other one of his i've seen (at time of writing) is Death in Venice - which was absolutely incredible: more dazzling visually than Ossessione (Obsession). One of the most beautiful films i've ever seen, but its story was not as involving as Ossessione. If you click on \"miscellaneous\" on this page's links, there are stills from the movie on those websites. They won't really do justice to the experience of the movie: such graceful camera movements, such beautiful composition, such wonderful faces, such terrific characters, such a great story development, the first movie adapted from James M Cain's \"The Postman Always Rings Twice.\"<br /><br />I can't believe this was made in 43, eight years before Brando was supposed to have introduced realistic acting to the world with Streetcar Named Desire (1951). The actors in this may not have used the method technique, ie they may not have truly felt everything themselves (i don't know anything about it) - but they're some of the best, most genuine and realistic performances up to this date in cinema. Also, eight years before Streetcar Named Desire brought a new sensuality to the screen, Ossessione was electrifyingly sensual! The most sensual thing since the beginning of cinema! Yes, i'm being superlative, but Ossessione was just that terrific.<br /><br />The reason Ossessione didn't cause the impact Streetcar did was that it was made in fascist Italy and banned by Mussolini, and re-cut in America. American audiences didn't see its full glory till 59, eight years AFTER Streetcar.<br /><br />I won't say any more about it - just writing to tell you its one of the best, most beautiful and exciting movies i've ever seen, and tell you to go out and see it! Like another reviewer, i'm going to buy it as soon as i can find it!\n",
      "\n",
      "['wow', 'sort', 'movi', 'could', 'watch', 'ten', 'time', 'still', 'delight', 'nuanc', 'absolut', 'incred', 'visconti', 'debut', 'film', 'shudder', 'think', 'would', 'happen', 'got', 'better', 'film', 'film', 'one', 'seen', 'time', 'write', 'death', 'venic', 'absolut', 'incred', 'dazzl', 'visual', 'ossession', 'obsess', 'one', 'beauti', 'film', 'ever', 'seen', 'stori', 'involv', 'ossession', 'click', 'miscellan', 'page', 'link', 'still', 'movi', 'websit', 'realli', 'justic', 'experi', 'movi', 'grace', 'camera', 'movement', 'beauti', 'composit', 'wonder', 'face', 'terrif', 'charact', 'great', 'stori', 'develop', 'first', 'movi', 'adapt', 'jame', 'cain', 'postman', 'alway', 'ring', 'twice', 'believ', 'made', '43', 'eight', 'year', 'brando', 'suppos', 'introduc', 'realist', 'act', 'world', 'streetcar', 'name', 'desir', '1951', 'actor', 'may', 'use', 'method', 'techniqu', 'ie', 'may', 'truli', 'felt', 'everyth', 'know', 'anyth', 'best', 'genuin', 'realist', 'perform', 'date', 'cinema', 'also', 'eight', 'year', 'streetcar', 'name', 'desir', 'brought', 'new', 'sensual', 'screen', 'ossession', 'electrifyingli', 'sensual', 'sensual', 'thing', 'sinc', 'begin', 'cinema', 'ye', 'superl', 'ossession', 'terrif', 'reason', 'ossession', 'caus', 'impact', 'streetcar', 'made', 'fascist', 'itali', 'ban', 'mussolini', 'cut', 'america', 'american', 'audienc', 'see', 'full', 'glori', 'till', '59', 'eight', 'year', 'streetcar', 'say', 'write', 'tell', 'one', 'best', 'beauti', 'excit', 'movi', 'ever', 'seen', 'tell', 'go', 'see', 'like', 'anoth', 'review', 'go', 'buy', 'soon', 'find']\n"
     ]
    }
   ],
   "source": [
    "# TODO: Apply review_to_words to a review (train_X[100] or any other review)\n",
    "print(train_X[101] + '\\n')\n",
    "print(review_to_words(train_X[101]))"
   ]
  },
  {
   "cell_type": "markdown",
   "metadata": {},
   "source": [
    "**Question:** Above we mentioned that `review_to_words` method removes html formatting and allows us to tokenize the words found in a review, for example, converting *entertained* and *entertaining* into *entertain* so that they are treated as though they are the same word. What else, if anything, does this method do to the input?"
   ]
  },
  {
   "cell_type": "markdown",
   "metadata": {},
   "source": [
    "**Answer:**\n",
    "- Convert to lower case\n",
    "- Remove stopwords"
   ]
  },
  {
   "cell_type": "markdown",
   "metadata": {},
   "source": [
    "The method below applies the `review_to_words` method to each of the reviews in the training and testing datasets. In addition it caches the results. This is because performing this processing step can take a long time. This way if you are unable to complete the notebook in the current session, you can come back without needing to process the data a second time."
   ]
  },
  {
   "cell_type": "code",
   "execution_count": 10,
   "metadata": {},
   "outputs": [],
   "source": [
    "import pickle\n",
    "\n",
    "cache_dir = os.path.join(\"../cache\", \"sentiment_analysis\")  # where to store cache files\n",
    "os.makedirs(cache_dir, exist_ok=True)  # ensure cache directory exists\n",
    "\n",
    "def preprocess_data(data_train, data_test, labels_train, labels_test,\n",
    "                    cache_dir=cache_dir, cache_file=\"preprocessed_data.pkl\"):\n",
    "    \"\"\"Convert each review to words; read from cache if available.\"\"\"\n",
    "\n",
    "    # If cache_file is not None, try to read from it first\n",
    "    cache_data = None\n",
    "    if cache_file is not None:\n",
    "        try:\n",
    "            with open(os.path.join(cache_dir, cache_file), \"rb\") as f:\n",
    "                cache_data = pickle.load(f)\n",
    "            print(\"Read preprocessed data from cache file:\", cache_file)\n",
    "        except:\n",
    "            pass  # unable to read from cache, but that's okay\n",
    "    \n",
    "    # If cache is missing, then do the heavy lifting\n",
    "    if cache_data is None:\n",
    "        # Preprocess training and test data to obtain words for each review\n",
    "        #words_train = list(map(review_to_words, data_train))\n",
    "        #words_test = list(map(review_to_words, data_test))\n",
    "        words_train = [review_to_words(review) for review in data_train]\n",
    "        words_test = [review_to_words(review) for review in data_test]\n",
    "        \n",
    "        # Write to cache file for future runs\n",
    "        if cache_file is not None:\n",
    "            cache_data = dict(words_train=words_train, words_test=words_test,\n",
    "                              labels_train=labels_train, labels_test=labels_test)\n",
    "            with open(os.path.join(cache_dir, cache_file), \"wb\") as f:\n",
    "                pickle.dump(cache_data, f)\n",
    "            print(\"Wrote preprocessed data to cache file:\", cache_file)\n",
    "    else:\n",
    "        # Unpack data loaded from cache file\n",
    "        words_train, words_test, labels_train, labels_test = (cache_data['words_train'],\n",
    "                cache_data['words_test'], cache_data['labels_train'], cache_data['labels_test'])\n",
    "    \n",
    "    return words_train, words_test, labels_train, labels_test"
   ]
  },
  {
   "cell_type": "code",
   "execution_count": 11,
   "metadata": {},
   "outputs": [
    {
     "name": "stdout",
     "output_type": "stream",
     "text": [
      "Read preprocessed data from cache file: preprocessed_data.pkl\n"
     ]
    }
   ],
   "source": [
    "# Preprocess data\n",
    "train_X, test_X, train_y, test_y = preprocess_data(train_X, test_X, train_y, test_y)"
   ]
  },
  {
   "cell_type": "markdown",
   "metadata": {},
   "source": [
    "## Transform the data\n",
    "\n",
    "In the XGBoost notebook we transformed the data from its word representation to a bag-of-words feature representation. For the model we are going to construct in this notebook we will construct a feature representation which is very similar. To start, we will represent each word as an integer. Of course, some of the words that appear in the reviews occur very infrequently and so likely don't contain much information for the purposes of sentiment analysis. The way we will deal with this problem is that we will fix the size of our working vocabulary and we will only include the words that appear most frequently. We will then combine all of the infrequent words into a single category and, in our case, we will label it as `1`.\n",
    "\n",
    "Since we will be using a recurrent neural network, it will be convenient if the length of each review is the same. To do this, we will fix a size for our reviews and then pad short reviews with the category 'no word' (which we will label `0`) and truncate long reviews."
   ]
  },
  {
   "cell_type": "markdown",
   "metadata": {},
   "source": [
    "### (TODO) Create a word dictionary\n",
    "\n",
    "To begin with, we need to construct a way to map words that appear in the reviews to integers. Here we fix the size of our vocabulary (including the 'no word' and 'infrequent' categories) to be `5000` but you may wish to change this to see how it affects the model.\n",
    "\n",
    "> **TODO:** Complete the implementation for the `build_dict()` method below. Note that even though the vocab_size is set to `5000`, we only want to construct a mapping for the most frequently appearing `4998` words. This is because we want to reserve the special labels `0` for 'no word' and `1` for 'infrequent word'."
   ]
  },
  {
   "cell_type": "code",
   "execution_count": 12,
   "metadata": {},
   "outputs": [],
   "source": [
    "import numpy as np\n",
    "\n",
    "def build_dict(data, vocab_size = 5000):\n",
    "    \"\"\"Construct and return a dictionary mapping each of the most frequently appearing words to a unique integer.\"\"\"\n",
    "    \n",
    "    # TODO: Determine how often each word appears in `data`. Note that `data` is a list of sentences and that a\n",
    "    #       sentence is a list of words.\n",
    "    \n",
    "    word_count = {} # A dict storing the words that appear in the reviews along with how often they occur\n",
    "    word_count = word_counter(data)\n",
    "    \n",
    "    # TODO: Sort the words found in `data` so that sorted_words[0] is the most frequently appearing word and\n",
    "    #       sorted_words[-1] is the least frequently appearing word.\n",
    "    \n",
    "    sorted_words = sorted(word_count, key=word_count.get, reverse=True)\n",
    "    \n",
    "    word_dict = {} # This is what we are building, a dictionary that translates words into integers\n",
    "    for idx, word in enumerate(sorted_words[:vocab_size - 2]): # The -2 is so that we save room for the 'no word'\n",
    "        word_dict[word] = idx + 2                              # 'infrequent' labels\n",
    "        \n",
    "    return word_dict\n",
    "\n",
    "# helper function\n",
    "def word_counter(data):\n",
    "    \n",
    "    word_count = {}\n",
    "    for review in data:\n",
    "        for word in review:\n",
    "            if word in word_count:\n",
    "                word_count[word] += 1\n",
    "            else:\n",
    "                word_count[word] = 1\n",
    "    return word_count"
   ]
  },
  {
   "cell_type": "code",
   "execution_count": 13,
   "metadata": {},
   "outputs": [
    {
     "name": "stdout",
     "output_type": "stream",
     "text": [
      "{'movi': 2, 'film': 3, 'one': 4, 'like': 5, 'time': 6, 'good': 7, 'make': 8, 'charact': 9, 'get': 10, 'see': 11, 'watch': 12, 'stori': 13, 'even': 14, 'would': 15, 'realli': 16, 'well': 17, 'scene': 18, 'look': 19, 'show': 20, 'much': 21, 'end': 22, 'peopl': 23, 'bad': 24, 'go': 25, 'great': 26, 'also': 27, 'first': 28, 'love': 29, 'think': 30, 'way': 31, 'act': 32, 'play': 33, 'made': 34, 'thing': 35, 'could': 36, 'know': 37, 'say': 38, 'seem': 39, 'work': 40, 'plot': 41, 'two': 42, 'actor': 43, 'year': 44, 'come': 45, 'mani': 46, 'seen': 47, 'take': 48, 'life': 49, 'want': 50, 'never': 51, 'littl': 52, 'best': 53, 'tri': 54, 'man': 55, 'ever': 56, 'give': 57, 'better': 58, 'still': 59, 'perform': 60, 'find': 61, 'feel': 62, 'part': 63, 'back': 64, 'use': 65, 'someth': 66, 'director': 67, 'actual': 68, 'interest': 69, 'lot': 70, 'real': 71, 'old': 72, 'cast': 73, 'though': 74, 'live': 75, 'star': 76, 'enjoy': 77, 'guy': 78, 'anoth': 79, 'new': 80, 'role': 81, 'noth': 82, '10': 83, 'funni': 84, 'music': 85, 'point': 86, 'start': 87, 'set': 88, 'girl': 89, 'origin': 90, 'day': 91, 'world': 92, 'everi': 93, 'believ': 94, 'turn': 95, 'quit': 96, 'direct': 97, 'us': 98, 'thought': 99, 'fact': 100, 'minut': 101, 'horror': 102, 'kill': 103, 'action': 104, 'comedi': 105, 'pretti': 106, 'young': 107, 'wonder': 108, 'happen': 109, 'around': 110, 'got': 111, 'effect': 112, 'right': 113, 'long': 114, 'howev': 115, 'big': 116, 'line': 117, 'famili': 118, 'enough': 119, 'seri': 120, 'may': 121, 'need': 122, 'fan': 123, 'bit': 124, 'script': 125, 'beauti': 126, 'person': 127, 'becom': 128, 'without': 129, 'must': 130, 'alway': 131, 'friend': 132, 'tell': 133, 'reason': 134, 'saw': 135, 'last': 136, 'final': 137, 'kid': 138, 'almost': 139, 'put': 140, 'least': 141, 'sure': 142, 'done': 143, 'whole': 144, 'place': 145, 'complet': 146, 'kind': 147, 'differ': 148, 'expect': 149, 'shot': 150, 'far': 151, 'mean': 152, 'anyth': 153, 'book': 154, 'laugh': 155, 'might': 156, 'name': 157, 'sinc': 158, 'begin': 159, '2': 160, 'probabl': 161, 'woman': 162, 'help': 163, 'entertain': 164, 'let': 165, 'screen': 166, 'call': 167, 'tv': 168, 'moment': 169, 'away': 170, 'read': 171, 'yet': 172, 'rather': 173, 'worst': 174, 'run': 175, 'fun': 176, 'lead': 177, 'hard': 178, 'audienc': 179, 'idea': 180, 'anyon': 181, 'episod': 182, 'american': 183, 'found': 184, 'appear': 185, 'bore': 186, 'especi': 187, 'although': 188, 'hope': 189, 'keep': 190, 'cours': 191, 'anim': 192, 'job': 193, 'goe': 194, 'move': 195, 'sens': 196, 'dvd': 197, 'version': 198, 'war': 199, 'money': 200, 'someon': 201, 'mind': 202, 'mayb': 203, 'problem': 204, 'true': 205, 'hous': 206, 'everyth': 207, 'nice': 208, 'second': 209, 'rate': 210, 'three': 211, 'night': 212, 'follow': 213, 'face': 214, 'recommend': 215, 'main': 216, 'product': 217, 'worth': 218, 'leav': 219, 'human': 220, 'special': 221, 'excel': 222, 'togeth': 223, 'wast': 224, 'sound': 225, 'everyon': 226, 'john': 227, 'hand': 228, '1': 229, 'father': 230, 'later': 231, 'eye': 232, 'said': 233, 'view': 234, 'instead': 235, 'review': 236, 'boy': 237, 'high': 238, 'hour': 239, 'miss': 240, 'classic': 241, 'talk': 242, 'wife': 243, 'understand': 244, 'left': 245, 'care': 246, 'black': 247, 'death': 248, 'open': 249, 'murder': 250, 'write': 251, 'half': 252, 'head': 253, 'rememb': 254, 'chang': 255, 'viewer': 256, 'fight': 257, 'gener': 258, 'surpris': 259, 'includ': 260, 'short': 261, 'die': 262, 'fall': 263, 'less': 264, 'els': 265, 'entir': 266, 'piec': 267, 'involv': 268, 'pictur': 269, 'simpli': 270, 'top': 271, 'home': 272, 'power': 273, 'total': 274, 'usual': 275, 'budget': 276, 'attempt': 277, 'suppos': 278, 'releas': 279, 'hollywood': 280, 'terribl': 281, 'song': 282, 'men': 283, 'possibl': 284, 'featur': 285, 'portray': 286, 'disappoint': 287, 'poor': 288, '3': 289, 'coupl': 290, 'stupid': 291, 'camera': 292, 'dead': 293, 'wrong': 294, 'low': 295, 'produc': 296, 'video': 297, 'either': 298, 'aw': 299, 'definit': 300, 'except': 301, 'rest': 302, 'given': 303, 'absolut': 304, 'women': 305, 'lack': 306, 'word': 307, 'writer': 308, 'titl': 309, 'talent': 310, 'decid': 311, 'full': 312, 'perfect': 313, 'along': 314, 'style': 315, 'close': 316, 'truli': 317, 'school': 318, 'save': 319, 'emot': 320, 'age': 321, 'sex': 322, 'next': 323, 'bring': 324, 'mr': 325, 'case': 326, 'killer': 327, 'heart': 328, 'comment': 329, 'sort': 330, 'creat': 331, 'perhap': 332, 'came': 333, 'brother': 334, 'sever': 335, 'joke': 336, 'art': 337, 'dialogu': 338, 'game': 339, 'small': 340, 'base': 341, 'flick': 342, 'written': 343, 'sequenc': 344, 'meet': 345, 'earli': 346, 'often': 347, 'other': 348, 'mother': 349, 'develop': 350, 'humor': 351, 'actress': 352, 'consid': 353, 'dark': 354, 'guess': 355, 'amaz': 356, 'unfortun': 357, 'lost': 358, 'light': 359, 'exampl': 360, 'cinema': 361, 'drama': 362, 'ye': 363, 'white': 364, 'experi': 365, 'imagin': 366, 'mention': 367, 'stop': 368, 'natur': 369, 'forc': 370, 'manag': 371, 'felt': 372, 'cut': 373, 'present': 374, 'children': 375, 'fail': 376, 'son': 377, 'qualiti': 378, 'support': 379, 'car': 380, 'ask': 381, 'hit': 382, 'side': 383, 'voic': 384, 'extrem': 385, 'impress': 386, 'evil': 387, 'wors': 388, 'stand': 389, 'went': 390, 'certainli': 391, 'basic': 392, 'oh': 393, 'overal': 394, 'favorit': 395, 'horribl': 396, 'mysteri': 397, 'number': 398, 'type': 399, 'danc': 400, 'wait': 401, 'hero': 402, 'alreadi': 403, '5': 404, 'learn': 405, 'matter': 406, '4': 407, 'michael': 408, 'genr': 409, 'fine': 410, 'despit': 411, 'throughout': 412, 'walk': 413, 'success': 414, 'histori': 415, 'question': 416, 'zombi': 417, 'town': 418, 'relationship': 419, 'realiz': 420, 'child': 421, 'past': 422, 'daughter': 423, 'late': 424, 'b': 425, 'wish': 426, 'hate': 427, 'credit': 428, 'event': 429, 'theme': 430, 'touch': 431, 'citi': 432, 'today': 433, 'sometim': 434, 'behind': 435, 'god': 436, 'twist': 437, 'sit': 438, 'annoy': 439, 'deal': 440, 'stay': 441, 'abl': 442, 'rent': 443, 'pleas': 444, 'edit': 445, 'blood': 446, 'deserv': 447, 'anyway': 448, 'comic': 449, 'appar': 450, 'soon': 451, 'gave': 452, 'etc': 453, 'level': 454, 'slow': 455, 'chanc': 456, 'score': 457, 'bodi': 458, 'brilliant': 459, 'incred': 460, 'figur': 461, 'situat': 462, 'self': 463, 'major': 464, 'stuff': 465, 'decent': 466, 'element': 467, 'return': 468, 'dream': 469, 'obvious': 470, 'continu': 471, 'order': 472, 'pace': 473, 'ridicul': 474, 'happi': 475, 'highli': 476, 'add': 477, 'group': 478, 'thank': 479, 'ladi': 480, 'novel': 481, 'pain': 482, 'speak': 483, 'career': 484, 'shoot': 485, 'strang': 486, 'heard': 487, 'sad': 488, 'husband': 489, 'polic': 490, 'import': 491, 'break': 492, 'took': 493, 'cannot': 494, 'strong': 495, 'robert': 496, 'predict': 497, 'violenc': 498, 'hilari': 499, 'recent': 500, 'countri': 501, 'known': 502, 'particularli': 503, 'pick': 504, 'documentari': 505, 'season': 506, 'critic': 507, 'jame': 508, 'compar': 509, 'alon': 510, 'obviou': 511, 'told': 512, 'state': 513, 'rock': 514, 'visual': 515, 'offer': 516, 'theater': 517, 'exist': 518, 'opinion': 519, 'gore': 520, 'hold': 521, 'crap': 522, 'result': 523, 'realiti': 524, 'hear': 525, 'room': 526, 'clich': 527, 'effort': 528, 'thriller': 529, 'caus': 530, 'serious': 531, 'explain': 532, 'sequel': 533, 'king': 534, 'local': 535, 'ago': 536, 'none': 537, 'hell': 538, 'note': 539, 'allow': 540, 'sister': 541, 'david': 542, 'simpl': 543, 'femal': 544, 'deliv': 545, 'ok': 546, 'convinc': 547, 'class': 548, 'check': 549, 'suspens': 550, 'win': 551, 'buy': 552, 'oscar': 553, 'huge': 554, 'valu': 555, 'sexual': 556, 'cool': 557, 'scari': 558, 'similar': 559, 'excit': 560, 'apart': 561, 'exactli': 562, 'provid': 563, 'avoid': 564, 'shown': 565, 'seriou': 566, 'english': 567, 'whose': 568, 'taken': 569, 'cinematographi': 570, 'shock': 571, 'polit': 572, 'spoiler': 573, 'offic': 574, 'across': 575, 'middl': 576, 'street': 577, 'pass': 578, 'messag': 579, 'silli': 580, 'somewhat': 581, 'charm': 582, 'modern': 583, 'filmmak': 584, 'confus': 585, 'form': 586, 'tale': 587, 'singl': 588, 'jack': 589, 'mostli': 590, 'william': 591, 'attent': 592, 'carri': 593, 'sing': 594, 'five': 595, 'subject': 596, 'richard': 597, 'prove': 598, 'stage': 599, 'team': 600, 'cop': 601, 'unlik': 602, 'georg': 603, 'televis': 604, 'monster': 605, 'earth': 606, 'villain': 607, 'cover': 608, 'pay': 609, 'marri': 610, 'toward': 611, 'build': 612, 'pull': 613, 'parent': 614, 'due': 615, 'respect': 616, 'fill': 617, 'four': 618, 'dialog': 619, 'remind': 620, 'futur': 621, 'typic': 622, 'weak': 623, '7': 624, 'cheap': 625, 'intellig': 626, 'atmospher': 627, 'british': 628, 'clearli': 629, '80': 630, 'paul': 631, 'dog': 632, 'non': 633, '8': 634, 'fast': 635, 'artist': 636, 'knew': 637, 'crime': 638, 'easili': 639, 'escap': 640, 'doubt': 641, 'adult': 642, 'detail': 643, 'date': 644, 'member': 645, 'fire': 646, 'romant': 647, 'gun': 648, 'drive': 649, 'straight': 650, 'beyond': 651, 'fit': 652, 'attack': 653, 'imag': 654, 'upon': 655, 'posit': 656, 'whether': 657, 'fantast': 658, 'peter': 659, 'aspect': 660, 'appreci': 661, 'captur': 662, 'ten': 663, 'plan': 664, 'discov': 665, 'remain': 666, 'near': 667, 'period': 668, 'realist': 669, 'air': 670, 'mark': 671, 'red': 672, 'dull': 673, 'adapt': 674, 'within': 675, 'spend': 676, 'lose': 677, 'color': 678, 'materi': 679, 'chase': 680, 'mari': 681, 'storylin': 682, 'forget': 683, 'bunch': 684, 'clear': 685, 'lee': 686, 'victim': 687, 'nearli': 688, 'box': 689, 'york': 690, 'inspir': 691, 'match': 692, 'finish': 693, 'mess': 694, 'standard': 695, 'easi': 696, 'truth': 697, 'busi': 698, 'suffer': 699, 'space': 700, 'dramat': 701, 'bill': 702, 'western': 703, 'e': 704, 'list': 705, 'battl': 706, 'notic': 707, 'de': 708, 'french': 709, 'ad': 710, '9': 711, 'tom': 712, 'larg': 713, 'among': 714, 'eventu': 715, 'accept': 716, 'train': 717, 'agre': 718, 'soundtrack': 719, 'spirit': 720, 'third': 721, 'teenag': 722, 'adventur': 723, 'soldier': 724, 'suggest': 725, 'famou': 726, 'sorri': 727, 'drug': 728, 'babi': 729, 'cri': 730, 'normal': 731, 'troubl': 732, 'ultim': 733, 'contain': 734, 'certain': 735, 'cultur': 736, 'romanc': 737, 'rare': 738, 'lame': 739, 'somehow': 740, 'mix': 741, 'disney': 742, 'gone': 743, 'cartoon': 744, 'student': 745, 'fear': 746, 'reveal': 747, 'suck': 748, 'kept': 749, 'attract': 750, 'appeal': 751, 'premis': 752, 'secret': 753, 'greatest': 754, 'design': 755, 'shame': 756, 'throw': 757, 'copi': 758, 'scare': 759, 'wit': 760, 'admit': 761, 'america': 762, 'relat': 763, 'brought': 764, 'particular': 765, 'screenplay': 766, 'whatev': 767, 'pure': 768, '70': 769, 'harri': 770, 'averag': 771, 'master': 772, 'describ': 773, 'treat': 774, 'male': 775, '20': 776, 'issu': 777, 'fantasi': 778, 'warn': 779, 'inde': 780, 'forward': 781, 'background': 782, 'free': 783, 'project': 784, 'memor': 785, 'japanes': 786, 'poorli': 787, 'award': 788, 'locat': 789, 'potenti': 790, 'amus': 791, 'struggl': 792, 'weird': 793, 'magic': 794, 'societi': 795, 'okay': 796, 'imdb': 797, 'accent': 798, 'doctor': 799, 'hot': 800, 'water': 801, 'express': 802, 'dr': 803, '30': 804, 'alien': 805, 'odd': 806, 'choic': 807, 'crazi': 808, 'studio': 809, 'fiction': 810, 'control': 811, 'becam': 812, 'masterpiec': 813, 'fli': 814, 'difficult': 815, 'joe': 816, 'scream': 817, 'costum': 818, 'lover': 819, 'uniqu': 820, 'refer': 821, 'remak': 822, 'girlfriend': 823, 'vampir': 824, 'prison': 825, 'execut': 826, 'wear': 827, 'jump': 828, 'unless': 829, 'wood': 830, 'creepi': 831, 'cheesi': 832, 'superb': 833, 'otherwis': 834, 'parti': 835, 'roll': 836, 'ghost': 837, 'public': 838, 'mad': 839, 'depict': 840, 'week': 841, 'moral': 842, 'earlier': 843, 'badli': 844, 'jane': 845, 'fi': 846, 'dumb': 847, 'grow': 848, 'flaw': 849, 'deep': 850, 'sci': 851, 'cat': 852, 'maker': 853, 'connect': 854, 'footag': 855, 'older': 856, 'plenti': 857, 'bother': 858, 'outsid': 859, 'stick': 860, 'gay': 861, 'catch': 862, 'plu': 863, 'co': 864, 'popular': 865, 'equal': 866, 'social': 867, 'quickli': 868, 'disturb': 869, 'perfectli': 870, 'dress': 871, 'era': 872, '90': 873, 'mistak': 874, 'lie': 875, 'ride': 876, 'previou': 877, 'combin': 878, 'concept': 879, 'band': 880, 'answer': 881, 'surviv': 882, 'rich': 883, 'front': 884, 'sweet': 885, 'christma': 886, 'insid': 887, 'eat': 888, 'concern': 889, 'bare': 890, 'listen': 891, 'ben': 892, 'beat': 893, 'c': 894, 'serv': 895, 'term': 896, 'la': 897, 'meant': 898, 'german': 899, 'hardli': 900, 'stereotyp': 901, 'law': 902, 'innoc': 903, 'desper': 904, 'memori': 905, 'promis': 906, 'intent': 907, 'cute': 908, 'inform': 909, 'variou': 910, 'steal': 911, 'brain': 912, 'post': 913, 'tone': 914, 'island': 915, 'amount': 916, 'compani': 917, 'track': 918, 'nuditi': 919, 'store': 920, 'claim': 921, 'flat': 922, 'hair': 923, '50': 924, 'land': 925, 'univers': 926, 'danger': 927, 'kick': 928, 'fairli': 929, 'scott': 930, 'player': 931, 'step': 932, 'plain': 933, 'crew': 934, 'toni': 935, 'share': 936, 'tast': 937, 'centuri': 938, 'achiev': 939, 'engag': 940, 'cold': 941, 'travel': 942, 'rip': 943, 'record': 944, 'suit': 945, 'manner': 946, 'sadli': 947, 'tension': 948, 'spot': 949, 'wrote': 950, 'intens': 951, 'fascin': 952, 'familiar': 953, 'remark': 954, 'burn': 955, 'depth': 956, 'histor': 957, 'destroy': 958, 'sleep': 959, 'purpos': 960, 'languag': 961, 'ignor': 962, 'ruin': 963, 'delight': 964, 'unbeliev': 965, 'italian': 966, 'soul': 967, 'collect': 968, 'abil': 969, 'detect': 970, 'clever': 971, 'violent': 972, 'rape': 973, 'reach': 974, 'door': 975, 'trash': 976, 'liter': 977, 'scienc': 978, 'reveng': 979, 'caught': 980, 'commun': 981, 'creatur': 982, 'trip': 983, 'approach': 984, 'fashion': 985, 'intrigu': 986, 'paint': 987, 'skill': 988, 'introduc': 989, 'channel': 990, 'complex': 991, 'camp': 992, 'christian': 993, 'extra': 994, 'hole': 995, 'mental': 996, 'ann': 997, 'limit': 998, 'immedi': 999, '6': 1000, 'slightli': 1001, 'mere': 1002, 'comput': 1003, 'million': 1004, 'conclus': 1005, 'slasher': 1006, 'imposs': 1007, 'suddenli': 1008, 'crimin': 1009, 'teen': 1010, 'neither': 1011, 'physic': 1012, 'spent': 1013, 'nation': 1014, 'respons': 1015, 'planet': 1016, 'receiv': 1017, 'fake': 1018, 'blue': 1019, 'sick': 1020, 'bizarr': 1021, 'embarrass': 1022, 'indian': 1023, '15': 1024, 'ring': 1025, 'drop': 1026, 'pop': 1027, 'drag': 1028, 'haunt': 1029, 'suspect': 1030, 'pointless': 1031, 'search': 1032, 'edg': 1033, 'handl': 1034, 'biggest': 1035, 'common': 1036, 'arriv': 1037, 'faith': 1038, 'hurt': 1039, 'technic': 1040, 'angel': 1041, 'dad': 1042, 'genuin': 1043, 'awesom': 1044, 'f': 1045, 'solid': 1046, 'van': 1047, 'colleg': 1048, 'focu': 1049, 'former': 1050, 'count': 1051, 'tear': 1052, 'heavi': 1053, 'wall': 1054, 'rais': 1055, 'laughabl': 1056, 'visit': 1057, 'younger': 1058, 'fair': 1059, 'sign': 1060, 'excus': 1061, 'cult': 1062, 'tough': 1063, 'key': 1064, 'motion': 1065, 'super': 1066, 'desir': 1067, 'addit': 1068, 'stun': 1069, 'cloth': 1070, 'exploit': 1071, 'smith': 1072, 'tortur': 1073, 'davi': 1074, 'race': 1075, 'cross': 1076, 'author': 1077, 'jim': 1078, 'focus': 1079, 'minor': 1080, 'consist': 1081, 'compel': 1082, 'chemistri': 1083, 'commit': 1084, 'pathet': 1085, 'park': 1086, 'obsess': 1087, 'tradit': 1088, 'frank': 1089, 'grade': 1090, 'asid': 1091, '60': 1092, 'brutal': 1093, 'steve': 1094, 'somewher': 1095, 'rule': 1096, 'u': 1097, 'depress': 1098, 'explor': 1099, 'opportun': 1100, 'grant': 1101, 'honest': 1102, 'besid': 1103, 'anti': 1104, 'dub': 1105, 'trailer': 1106, 'intend': 1107, 'bar': 1108, 'west': 1109, 'scientist': 1110, 'longer': 1111, 'regard': 1112, 'judg': 1113, 'decad': 1114, 'silent': 1115, 'creativ': 1116, 'armi': 1117, 'wild': 1118, 'stewart': 1119, 'g': 1120, 'south': 1121, 'draw': 1122, 'road': 1123, 'govern': 1124, 'ex': 1125, 'boss': 1126, 'practic': 1127, 'club': 1128, 'festiv': 1129, 'surprisingli': 1130, 'motiv': 1131, 'gang': 1132, 'redeem': 1133, 'page': 1134, 'green': 1135, 'london': 1136, 'display': 1137, 'aliv': 1138, 'militari': 1139, 'idiot': 1140, 'machin': 1141, 'repeat': 1142, 'thrill': 1143, 'nobodi': 1144, 'yeah': 1145, 'folk': 1146, '100': 1147, '40': 1148, 'garbag': 1149, 'journey': 1150, 'smile': 1151, 'ground': 1152, 'tire': 1153, 'mood': 1154, 'bought': 1155, 'cost': 1156, 'sam': 1157, 'stone': 1158, 'noir': 1159, 'mouth': 1160, 'agent': 1161, 'terrif': 1162, 'utterli': 1163, 'requir': 1164, 'sexi': 1165, 'honestli': 1166, 'area': 1167, 'geniu': 1168, 'report': 1169, 'enter': 1170, 'humour': 1171, 'glad': 1172, 'investig': 1173, 'serial': 1174, 'narr': 1175, 'occasion': 1176, 'passion': 1177, 'marriag': 1178, 'climax': 1179, 'studi': 1180, 'industri': 1181, 'charli': 1182, 'demon': 1183, 'center': 1184, 'ship': 1185, 'nowher': 1186, 'loos': 1187, 'hors': 1188, 'bear': 1189, 'hang': 1190, 'wow': 1191, 'graphic': 1192, 'admir': 1193, 'giant': 1194, 'send': 1195, 'loud': 1196, 'damn': 1197, 'rel': 1198, 'profession': 1199, 'nake': 1200, 'subtl': 1201, 'blow': 1202, 'bottom': 1203, 'batman': 1204, 'insult': 1205, 'kelli': 1206, 'boyfriend': 1207, 'r': 1208, 'doubl': 1209, 'initi': 1210, 'frame': 1211, 'gem': 1212, 'opera': 1213, 'affect': 1214, 'cinemat': 1215, 'church': 1216, 'challeng': 1217, 'drawn': 1218, 'fulli': 1219, 'j': 1220, 'l': 1221, 'nightmar': 1222, 'seek': 1223, 'evid': 1224, 'essenti': 1225, 'arm': 1226, 'conflict': 1227, 'henri': 1228, 'grace': 1229, 'wind': 1230, 'christoph': 1231, 'witch': 1232, 'assum': 1233, 'narrat': 1234, 'push': 1235, 'hunt': 1236, 'chri': 1237, 'wise': 1238, 'repres': 1239, 'nomin': 1240, 'month': 1241, 'hide': 1242, 'affair': 1243, 'sceneri': 1244, 'avail': 1245, 'smart': 1246, 'bond': 1247, 'justic': 1248, 'thu': 1249, 'interview': 1250, 'outstand': 1251, 'flashback': 1252, 'satisfi': 1253, 'presenc': 1254, 'constantli': 1255, 'bed': 1256, 'central': 1257, 'content': 1258, 'sell': 1259, 'iron': 1260, 'gag': 1261, 'everybodi': 1262, 'slowli': 1263, 'hotel': 1264, 'hire': 1265, 'system': 1266, 'charl': 1267, 'hey': 1268, 'thrown': 1269, 'individu': 1270, 'adam': 1271, 'jone': 1272, 'mediocr': 1273, 'allen': 1274, 'billi': 1275, 'ray': 1276, 'lesson': 1277, 'cameo': 1278, 'photographi': 1279, 'fellow': 1280, 'pari': 1281, 'strike': 1282, 'absurd': 1283, 'independ': 1284, 'rise': 1285, 'brief': 1286, 'neg': 1287, 'phone': 1288, 'impact': 1289, 'ill': 1290, 'model': 1291, 'born': 1292, 'spoil': 1293, 'fresh': 1294, 'angl': 1295, 'abus': 1296, 'likabl': 1297, 'discuss': 1298, 'hill': 1299, 'ahead': 1300, 'sight': 1301, 'sent': 1302, 'photograph': 1303, 'occur': 1304, 'shine': 1305, 'logic': 1306, 'blame': 1307, 'bruce': 1308, 'mainli': 1309, 'skip': 1310, 'forev': 1311, 'commerci': 1312, 'teacher': 1313, 'surround': 1314, 'held': 1315, 'segment': 1316, 'blond': 1317, 'zero': 1318, 'resembl': 1319, 'summer': 1320, 'satir': 1321, 'trap': 1322, 'queen': 1323, 'six': 1324, 'fool': 1325, 'ball': 1326, 'tragedi': 1327, 'twice': 1328, 'sub': 1329, 'reaction': 1330, 'pack': 1331, 'bomb': 1332, 'will': 1333, 'hospit': 1334, 'protagonist': 1335, 'mile': 1336, 'sport': 1337, 'trust': 1338, 'vote': 1339, 'mom': 1340, 'drink': 1341, 'jerri': 1342, 'encount': 1343, 'plane': 1344, 'current': 1345, 'station': 1346, 'program': 1347, 'al': 1348, 'celebr': 1349, 'choos': 1350, 'martin': 1351, 'join': 1352, 'favourit': 1353, 'round': 1354, 'field': 1355, 'tragic': 1356, 'lord': 1357, 'vision': 1358, 'jean': 1359, 'robot': 1360, 'tie': 1361, 'arthur': 1362, 'random': 1363, 'roger': 1364, 'fortun': 1365, 'psycholog': 1366, 'intern': 1367, 'dread': 1368, 'prefer': 1369, 'nonsens': 1370, 'improv': 1371, 'epic': 1372, 'highlight': 1373, 'legend': 1374, 'pleasur': 1375, 'formula': 1376, 'tape': 1377, 'dollar': 1378, '11': 1379, 'object': 1380, 'gorgeou': 1381, 'thin': 1382, 'fox': 1383, 'wide': 1384, 'porn': 1385, 'influenc': 1386, 'buddi': 1387, 'ugli': 1388, 'prepar': 1389, 'ii': 1390, 'nasti': 1391, 'progress': 1392, 'warm': 1393, 'reflect': 1394, 'supposedli': 1395, 'youth': 1396, 'worthi': 1397, 'length': 1398, 'unusu': 1399, 'latter': 1400, 'crash': 1401, 'seven': 1402, 'superior': 1403, 'shop': 1404, 'childhood': 1405, 'remot': 1406, 'theatr': 1407, 'disgust': 1408, 'paid': 1409, 'funniest': 1410, 'pilot': 1411, 'trick': 1412, 'fell': 1413, 'castl': 1414, 'convers': 1415, 'rob': 1416, 'establish': 1417, 'gangster': 1418, 'disast': 1419, 'heaven': 1420, 'mine': 1421, 'disappear': 1422, 'ident': 1423, 'suicid': 1424, 'decis': 1425, 'forgotten': 1426, 'tend': 1427, 'mask': 1428, 'singer': 1429, 'heroin': 1430, 'partner': 1431, 'brian': 1432, 'desert': 1433, 'recogn': 1434, 'alan': 1435, 'sky': 1436, 'p': 1437, 'thoroughli': 1438, 'ms': 1439, 'stuck': 1440, 'replac': 1441, 'accur': 1442, 'market': 1443, 'commentari': 1444, 'danni': 1445, 'clue': 1446, 'eddi': 1447, 'andi': 1448, 'uncl': 1449, 'seemingli': 1450, 'devil': 1451, 'jackson': 1452, 'refus': 1453, 'pair': 1454, 'therefor': 1455, 'that': 1456, 'accid': 1457, 'fault': 1458, 'river': 1459, 'fate': 1460, 'unit': 1461, 'ed': 1462, 'tune': 1463, 'afraid': 1464, 'stephen': 1465, 'hidden': 1466, 'clean': 1467, 'russian': 1468, 'readi': 1469, 'instanc': 1470, 'irrit': 1471, 'convey': 1472, 'captain': 1473, 'quick': 1474, 'test': 1475, 'european': 1476, 'frustrat': 1477, 'daniel': 1478, 'insan': 1479, 'rescu': 1480, '1950': 1481, 'chines': 1482, 'wed': 1483, 'food': 1484, 'angri': 1485, 'dirti': 1486, 'lock': 1487, 'joy': 1488, 'steven': 1489, 'price': 1490, 'cage': 1491, 'bland': 1492, 'rang': 1493, 'anymor': 1494, 'wooden': 1495, 'news': 1496, 'rush': 1497, 'jason': 1498, 'n': 1499, '12': 1500, 'led': 1501, 'board': 1502, 'martial': 1503, 'twenti': 1504, 'worri': 1505, 'symbol': 1506, 'transform': 1507, 'cgi': 1508, 'hunter': 1509, 'johnni': 1510, 'onto': 1511, 'sentiment': 1512, 'invent': 1513, 'piti': 1514, 'x': 1515, 'process': 1516, 'explan': 1517, 'attitud': 1518, 'owner': 1519, 'awar': 1520, 'aim': 1521, 'target': 1522, 'floor': 1523, 'energi': 1524, 'necessari': 1525, 'favor': 1526, 'opposit': 1527, 'religi': 1528, 'insight': 1529, 'chick': 1530, 'blind': 1531, 'window': 1532, 'movement': 1533, 'research': 1534, 'possess': 1535, 'deepli': 1536, 'comparison': 1537, 'mountain': 1538, 'whatsoev': 1539, 'grand': 1540, 'comed': 1541, 'rain': 1542, 'began': 1543, 'mid': 1544, 'shadow': 1545, 'bank': 1546, 'parodi': 1547, 'princ': 1548, 'weapon': 1549, 'credibl': 1550, 'friendship': 1551, 'pre': 1552, 'taylor': 1553, 'flesh': 1554, 'teach': 1555, 'dougla': 1556, 'hint': 1557, 'bloodi': 1558, 'terror': 1559, 'protect': 1560, 'marvel': 1561, 'anybodi': 1562, 'superman': 1563, 'drunk': 1564, 'load': 1565, 'leader': 1566, 'accord': 1567, 'watchabl': 1568, 'brown': 1569, 'freddi': 1570, 'tim': 1571, 'seat': 1572, 'appropri': 1573, 'jeff': 1574, 'hitler': 1575, 'charg': 1576, 'unknown': 1577, 'knock': 1578, 'keaton': 1579, 'villag': 1580, 'media': 1581, 'enemi': 1582, 'empti': 1583, 'england': 1584, 'unnecessari': 1585, 'dare': 1586, 'wave': 1587, 'utter': 1588, 'buck': 1589, 'perspect': 1590, 'craft': 1591, 'strength': 1592, 'contrast': 1593, 'correct': 1594, 'kiss': 1595, 'nativ': 1596, 'ford': 1597, 'anywher': 1598, 'knowledg': 1599, 'nazi': 1600, 'magnific': 1601, 'speed': 1602, 'soap': 1603, 'chill': 1604, 'distract': 1605, '1980': 1606, 'mission': 1607, 'ice': 1608, 'breath': 1609, 'fred': 1610, 'jr': 1611, 'crowd': 1612, 'moon': 1613, 'joan': 1614, '000': 1615, 'frighten': 1616, 'soft': 1617, 'kate': 1618, 'dan': 1619, 'dick': 1620, 'hundr': 1621, 'nick': 1622, 'somebodi': 1623, 'radio': 1624, 'dozen': 1625, 'simon': 1626, 'andrew': 1627, 'academi': 1628, 'loss': 1629, 'thousand': 1630, 'shakespear': 1631, 'vehicl': 1632, 'account': 1633, 'root': 1634, 'quot': 1635, 'sum': 1636, '1970': 1637, 'convent': 1638, 'behavior': 1639, 'leg': 1640, 'regular': 1641, 'gold': 1642, 'worker': 1643, 'pretenti': 1644, 'demand': 1645, 'compet': 1646, 'privat': 1647, 'explos': 1648, 'lynch': 1649, 'interpret': 1650, 'stretch': 1651, 'notabl': 1652, 'japan': 1653, 'candi': 1654, 'tarzan': 1655, 'constant': 1656, 'debut': 1657, 'revolv': 1658, 'prais': 1659, 'translat': 1660, 'sea': 1661, 'spi': 1662, 'threaten': 1663, 'sat': 1664, 'jesu': 1665, 'technolog': 1666, 'failur': 1667, 'franc': 1668, 'ass': 1669, 'quiet': 1670, 'toy': 1671, 'punch': 1672, 'aid': 1673, 'met': 1674, 'kevin': 1675, 'higher': 1676, 'interact': 1677, 'abandon': 1678, 'vh': 1679, 'mike': 1680, 'command': 1681, 'confront': 1682, 'bet': 1683, 'separ': 1684, 'recal': 1685, 'servic': 1686, 'techniqu': 1687, 'stunt': 1688, 'gotten': 1689, 'belong': 1690, 'site': 1691, 'cabl': 1692, 'bug': 1693, 'foot': 1694, 'freak': 1695, 'african': 1696, 'jimmi': 1697, 'bright': 1698, 'capabl': 1699, 'fu': 1700, 'stock': 1701, 'presid': 1702, 'clark': 1703, 'boat': 1704, 'succeed': 1705, 'fat': 1706, 'structur': 1707, 'spanish': 1708, 'gene': 1709, 'kidnap': 1710, 'paper': 1711, 'whilst': 1712, 'belief': 1713, 'factor': 1714, 'realis': 1715, 'witti': 1716, 'realism': 1717, 'attend': 1718, 'educ': 1719, 'tree': 1720, 'complic': 1721, 'bob': 1722, 'broken': 1723, 'assist': 1724, 'finest': 1725, 'santa': 1726, 'depart': 1727, 'determin': 1728, 'observ': 1729, 'smoke': 1730, 'up': 1731, 'v': 1732, 'fame': 1733, 'oper': 1734, 'lewi': 1735, 'hat': 1736, 'rubbish': 1737, 'domin': 1738, 'routin': 1739, 'morgan': 1740, 'kinda': 1741, 'safe': 1742, 'advanc': 1743, 'lone': 1744, 'foreign': 1745, 'hook': 1746, 'rank': 1747, 'numer': 1748, 'washington': 1749, 'shallow': 1750, 'civil': 1751, 'shape': 1752, 'werewolf': 1753, 'vs': 1754, 'rose': 1755, 'gari': 1756, 'morn': 1757, 'ordinari': 1758, 'accomplish': 1759, 'winner': 1760, 'kong': 1761, 'whenev': 1762, 'grab': 1763, 'virtual': 1764, 'peac': 1765, 'offens': 1766, 'h': 1767, 'luck': 1768, 'patient': 1769, 'bigger': 1770, 'unfunni': 1771, 'complain': 1772, 'contriv': 1773, 'welcom': 1774, 'activ': 1775, 'con': 1776, 'pretend': 1777, 'dimension': 1778, 'trek': 1779, 'cain': 1780, 'code': 1781, 'eric': 1782, 'wake': 1783, 'dri': 1784, 'lesbian': 1785, 'flash': 1786, 'manipul': 1787, 'statu': 1788, 'dancer': 1789, 'guard': 1790, 'albert': 1791, 'corrupt': 1792, 'speech': 1793, 'signific': 1794, 'context': 1795, 'gain': 1796, 'awkward': 1797, 'sourc': 1798, 'anthoni': 1799, 'psycho': 1800, 'clip': 1801, 'sean': 1802, 'corni': 1803, '13': 1804, 'advic': 1805, 'reli': 1806, 'w': 1807, 'religion': 1808, 'theatric': 1809, 'priest': 1810, 'curiou': 1811, 'addict': 1812, 'flow': 1813, 'jennif': 1814, 'skin': 1815, 'asian': 1816, 'howard': 1817, 'specif': 1818, 'secur': 1819, 'golden': 1820, 'promot': 1821, 'core': 1822, 'luke': 1823, 'comfort': 1824, 'organ': 1825, 'lucki': 1826, 'cash': 1827, 'cheat': 1828, 'dislik': 1829, 'associ': 1830, 'lower': 1831, 'degre': 1832, 'spell': 1833, 'balanc': 1834, 'regret': 1835, 'frequent': 1836, 'contribut': 1837, 'devic': 1838, 'frankli': 1839, 'wing': 1840, 'forgiv': 1841, 'print': 1842, 'sake': 1843, 'lake': 1844, 'thoma': 1845, 'mass': 1846, 'betti': 1847, 'unexpect': 1848, 'crack': 1849, 'gordon': 1850, 'grown': 1851, 'unfold': 1852, 'amateur': 1853, 'depend': 1854, 'construct': 1855, 'invit': 1856, 'categori': 1857, 'honor': 1858, 'intellectu': 1859, 'anna': 1860, 'matur': 1861, 'grew': 1862, 'walter': 1863, 'condit': 1864, 'spectacular': 1865, 'sudden': 1866, 'mirror': 1867, 'sole': 1868, 'veteran': 1869, 'grip': 1870, 'liner': 1871, 'robin': 1872, 'experienc': 1873, 'overli': 1874, 'demonstr': 1875, 'freedom': 1876, 'gift': 1877, 'meanwhil': 1878, 'card': 1879, 'unabl': 1880, 'crappi': 1881, 'sheriff': 1882, 'section': 1883, 'subtitl': 1884, 'circumst': 1885, 'brilliantli': 1886, 'drew': 1887, 'oliv': 1888, 'theori': 1889, 'colour': 1890, 'matt': 1891, 'altern': 1892, 'cook': 1893, 'laughter': 1894, 'path': 1895, 'sheer': 1896, 'pile': 1897, 'parker': 1898, 'defin': 1899, 'accident': 1900, 'hall': 1901, 'sinatra': 1902, 'lawyer': 1903, 'relief': 1904, 'treatment': 1905, 'wander': 1906, 'dragon': 1907, 'captiv': 1908, 'hank': 1909, 'moor': 1910, 'gratuit': 1911, 'halloween': 1912, 'cowboy': 1913, 'barbara': 1914, 'jacki': 1915, 'broadway': 1916, 'k': 1917, 'wayn': 1918, 'wound': 1919, 'unintent': 1920, 'kung': 1921, 'surreal': 1922, 'spoof': 1923, 'statement': 1924, 'canadian': 1925, 'winter': 1926, 'compos': 1927, 'treasur': 1928, 'fish': 1929, 'gonna': 1930, 'fare': 1931, 'cheer': 1932, 'woodi': 1933, 'emerg': 1934, 'unrealist': 1935, 'sensit': 1936, 'victor': 1937, 'ran': 1938, 'neighbor': 1939, 'driven': 1940, 'sympathet': 1941, 'glass': 1942, 'topic': 1943, 'authent': 1944, 'overlook': 1945, 'menac': 1946, 'expos': 1947, 'ancient': 1948, 'gross': 1949, 'handsom': 1950, 'michel': 1951, 'chief': 1952, 'network': 1953, 'nevertheless': 1954, 'pleasant': 1955, 'comedian': 1956, 'feet': 1957, 'stranger': 1958, 'built': 1959, 'russel': 1960, 'contemporari': 1961, 'cinderella': 1962, 'consider': 1963, 'letter': 1964, 'earn': 1965, 'gori': 1966, 'underr': 1967, 'miser': 1968, 'endless': 1969, 'blockbust': 1970, 'brook': 1971, 'switch': 1972, 'solv': 1973, 'bullet': 1974, 'convict': 1975, 'joseph': 1976, 'virgin': 1977, 'victoria': 1978, 'edward': 1979, 'scale': 1980, '0': 1981, 'cynic': 1982, 'scenario': 1983, 'chosen': 1984, 'alex': 1985, 'sword': 1986, 'outrag': 1987, 'gut': 1988, 'com': 1989, 'curs': 1990, 'driver': 1991, 'wrap': 1992, 'proper': 1993, 'screenwrit': 1994, 'substanc': 1995, 'juli': 1996, 'monkey': 1997, 'uk': 1998, 'par': 1999, 'remov': 2000, 'indic': 2001, 'court': 2002, 'bird': 2003, 'roy': 2004, 'naiv': 2005, 'inevit': 2006, 'grave': 2007, 'nanci': 2008, 'consequ': 2009, 'loser': 2010, 'rental': 2011, 'advertis': 2012, 'fatal': 2013, 'slap': 2014, 'bridg': 2015, 'invis': 2016, 'germani': 2017, 'le': 2018, 'brave': 2019, 'footbal': 2020, 'anger': 2021, 'ador': 2022, 'loui': 2023, 'provok': 2024, 'chan': 2025, 'anderson': 2026, 'alcohol': 2027, 'ryan': 2028, 'stumbl': 2029, 'professor': 2030, 'willi': 2031, 'sharp': 2032, 'australian': 2033, '1930': 2034, 'patrick': 2035, 'bat': 2036, 'assassin': 2037, 'eight': 2038, 'saturday': 2039, 'refresh': 2040, 'ape': 2041, 'heck': 2042, 'cell': 2043, 'deni': 2044, 'trilog': 2045, 'strongli': 2046, 'liber': 2047, 'amateurish': 2048, 'lousi': 2049, 'sin': 2050, 'resid': 2051, 'vagu': 2052, 'justifi': 2053, 'san': 2054, 'indi': 2055, 'reput': 2056, 'sympathi': 2057, 'creator': 2058, 'defeat': 2059, 'terrifi': 2060, 'mini': 2061, 'prevent': 2062, 'tediou': 2063, 'task': 2064, 'expert': 2065, 'tabl': 2066, 'endur': 2067, 'che': 2068, 'employ': 2069, 'basebal': 2070, 'offend': 2071, 'imit': 2072, 'trial': 2073, 'rival': 2074, 'fairi': 2075, 'weekend': 2076, 'pitch': 2077, 'dig': 2078, 'complaint': 2079, 'europ': 2080, 'beach': 2081, 'max': 2082, 'format': 2083, 'purchas': 2084, 'murphi': 2085, 'risk': 2086, 'bite': 2087, 'reminisc': 2088, 'hype': 2089, 'glimps': 2090, 'nois': 2091, 'tini': 2092, 'titan': 2093, 'harsh': 2094, 'powel': 2095, 'strip': 2096, 'till': 2097, '14': 2098, 'north': 2099, 'prime': 2100, 'asleep': 2101, 'fals': 2102, 'revel': 2103, 'africa': 2104, 'descript': 2105, 'destruct': 2106, 'texa': 2107, 'semi': 2108, 'inner': 2109, 'sitcom': 2110, 'surfac': 2111, 'uninterest': 2112, 'arrest': 2113, 'excess': 2114, 'spin': 2115, 'maintain': 2116, 'twin': 2117, 'hitchcock': 2118, 'makeup': 2119, 'massiv': 2120, 'argu': 2121, 'dinosaur': 2122, 'controversi': 2123, 'kim': 2124, 'ideal': 2125, 'reject': 2126, 'melodrama': 2127, 'ludicr': 2128, 'stare': 2129, 'expens': 2130, 'insist': 2131, 'press': 2132, 'atroci': 2133, 'host': 2134, 'subplot': 2135, 'erot': 2136, 'ga': 2137, 'supernatur': 2138, 'nail': 2139, 'ala': 2140, 'forest': 2141, 'columbo': 2142, 'notch': 2143, 'presum': 2144, 'identifi': 2145, 'cant': 2146, 'dude': 2147, 'forgett': 2148, 'method': 2149, 'closer': 2150, 'character': 2151, 'guest': 2152, 'crude': 2153, 'plagu': 2154, 'ear': 2155, 'foster': 2156, 'lion': 2157, 'beast': 2158, 'landscap': 2159, 'princess': 2160, 'border': 2161, 'bound': 2162, 'jungl': 2163, 'aunt': 2164, 'urban': 2165, 'damag': 2166, 'birth': 2167, 'storytel': 2168, 'accus': 2169, 'previous': 2170, 'pacino': 2171, 'jess': 2172, 'doll': 2173, 'chose': 2174, 'nude': 2175, 'guid': 2176, 'thirti': 2177, 'emma': 2178, 'propaganda': 2179, 'warrior': 2180, '25': 2181, 'whoever': 2182, 'pet': 2183, 'mate': 2184, 'mainstream': 2185, 'gritti': 2186, 'deadli': 2187, 'poster': 2188, 'cooper': 2189, 'exact': 2190, 'latest': 2191, 'merit': 2192, 'size': 2193, 'upset': 2194, 'friday': 2195, 'sun': 2196, 'contact': 2197, 'rough': 2198, 'warner': 2199, 'corps': 2200, 'popul': 2201, 'buff': 2202, 'settl': 2203, 'blend': 2204, 'wilson': 2205, '1990': 2206, 'citizen': 2207, 'ton': 2208, 'contest': 2209, 'select': 2210, 'overcom': 2211, 'bu': 2212, 'metal': 2213, 'mgm': 2214, 'environ': 2215, 'rat': 2216, 'alic': 2217, 'pitt': 2218, 'widow': 2219, 'lift': 2220, 'link': 2221, 'revolut': 2222, 'guilti': 2223, 'particip': 2224, 'ted': 2225, 'prostitut': 2226, 'accompani': 2227, 'corner': 2228, 'afternoon': 2229, 'johnson': 2230, 'matrix': 2231, 'exagger': 2232, '1960': 2233, 'corpor': 2234, 'moron': 2235, 'hood': 2236, 'friendli': 2237, 'holm': 2238, 'leagu': 2239, 'instal': 2240, 'clair': 2241, 'doom': 2242, 'multipl': 2243, 'sincer': 2244, 'blah': 2245, 'aka': 2246, 'string': 2247, 'defend': 2248, 'examin': 2249, 'grim': 2250, 'advis': 2251, 'irish': 2252, 'hip': 2253, 'sunday': 2254, 'campi': 2255, 'junk': 2256, 'lugosi': 2257, 'icon': 2258, 'tight': 2259, 'varieti': 2260, 'shut': 2261, 'confid': 2262, 'pro': 2263, 'shake': 2264, 'rachel': 2265, 'medic': 2266, 'attach': 2267, 'jaw': 2268, 'directli': 2269, 'sullivan': 2270, 'mexican': 2271, 'goal': 2272, 'denni': 2273, 'dean': 2274, 'courag': 2275, 'truck': 2276, 'duke': 2277, 'legendari': 2278, 'sarah': 2279, 'sentenc': 2280, 'breast': 2281, 'vietnam': 2282, 'bourn': 2283, 'prior': 2284, 'terrorist': 2285, 'yell': 2286, 'hong': 2287, 'behav': 2288, 'split': 2289, 'un': 2290, 'entri': 2291, 'donald': 2292, 'proceed': 2293, 'nose': 2294, 'stolen': 2295, 'buri': 2296, 'jerk': 2297, 'borrow': 2298, 'crush': 2299, 'unconvinc': 2300, 'everywher': 2301, 'gather': 2302, 'forth': 2303, 'swim': 2304, 'concentr': 2305, 'confess': 2306, 'lifetim': 2307, 'california': 2308, 'turkey': 2309, 'pan': 2310, 'lip': 2311, 'spite': 2312, 'deliveri': 2313, 'julia': 2314, 'freeman': 2315, 'proud': 2316, 'reward': 2317, 'quest': 2318, 'flight': 2319, 'downright': 2320, 'offici': 2321, 'hoffman': 2322, 'china': 2323, 'jon': 2324, 'fabul': 2325, 'fade': 2326, 'inept': 2327, 'betray': 2328, 'encourag': 2329, 'notori': 2330, 'worthwhil': 2331, 'lazi': 2332, 'jail': 2333, 'sink': 2334, 'sir': 2335, 'bell': 2336, 'lisa': 2337, 'bag': 2338, 'storm': 2339, 'shower': 2340, 'cousin': 2341, 'imageri': 2342, 'survivor': 2343, 'teeth': 2344, 'retard': 2345, 'susan': 2346, 'branagh': 2347, 'relev': 2348, 'summari': 2349, 'trade': 2350, 'alright': 2351, 'stab': 2352, 'mexico': 2353, 'quirki': 2354, 'toler': 2355, 'tremend': 2356, 'facial': 2357, 'finger': 2358, 'shark': 2359, 'bride': 2360, 'hugh': 2361, 'bitter': 2362, 'blown': 2363, 'pose': 2364, 'ha': 2365, 'hyster': 2366, 'von': 2367, 'bone': 2368, 'address': 2369, 'christ': 2370, 'scheme': 2371, 'afterward': 2372, 'cruel': 2373, 'ron': 2374, 'larri': 2375, 'ned': 2376, 'pursu': 2377, 'thumb': 2378, 'screw': 2379, 'swear': 2380, 'distinct': 2381, 'feed': 2382, 'snake': 2383, 'beg': 2384, 'traci': 2385, 'tour': 2386, 'chair': 2387, 'obscur': 2388, 'stomach': 2389, 'mechan': 2390, 'occas': 2391, 'raw': 2392, 'photo': 2393, 'argument': 2394, 'sidney': 2395, 'holiday': 2396, 'chain': 2397, 'cabin': 2398, 'heavili': 2399, 'gruesom': 2400, 'resist': 2401, 'render': 2402, 'necessarili': 2403, 'southern': 2404, 'hardi': 2405, 'understood': 2406, 'india': 2407, 'racist': 2408, 'philip': 2409, 'satan': 2410, 'indulg': 2411, 'tongu': 2412, 'fourth': 2413, 'belov': 2414, 'forgot': 2415, 'obnoxi': 2416, 'integr': 2417, 'pregnant': 2418, 'lay': 2419, 'stalk': 2420, 'midnight': 2421, 'outfit': 2422, 'inhabit': 2423, '17': 2424, 'magazin': 2425, 'carol': 2426, 'deeper': 2427, 'slapstick': 2428, 'ticket': 2429, 'restor': 2430, 'garden': 2431, 'devot': 2432, 'shoe': 2433, 'incid': 2434, 'brad': 2435, 'lincoln': 2436, 'underground': 2437, 'lili': 2438, 'guarante': 2439, 'benefit': 2440, 'maria': 2441, 'divorc': 2442, 'disbelief': 2443, 'sandler': 2444, 'anticip': 2445, 'elizabeth': 2446, 'capit': 2447, 'bbc': 2448, 'mildli': 2449, 'cring': 2450, 'greater': 2451, 'princip': 2452, 'creation': 2453, 'slave': 2454, 'amazingli': 2455, 'explod': 2456, 'lesli': 2457, 'halfway': 2458, 'extraordinari': 2459, 'introduct': 2460, 'funnier': 2461, 'extent': 2462, 'text': 2463, 'enhanc': 2464, 'punish': 2465, 'wreck': 2466, 'transfer': 2467, 'advantag': 2468, 'overwhelm': 2469, 'tap': 2470, 'plant': 2471, 'lo': 2472, 'deliber': 2473, 'horrif': 2474, 'jessica': 2475, 'error': 2476, 'lane': 2477, 'dynam': 2478, 'preview': 2479, 'east': 2480, '2000': 2481, 'homosexu': 2482, 'basi': 2483, 'vacat': 2484, 'ensu': 2485, 'miscast': 2486, 'sophist': 2487, 'appli': 2488, 'vincent': 2489, 'miller': 2490, 'extend': 2491, 'sleazi': 2492, 'bollywood': 2493, 'measur': 2494, 'elev': 2495, 'uncomfort': 2496, 'reed': 2497, 'via': 2498, 'spoken': 2499, 'mansion': 2500, 'steel': 2501, 'beer': 2502, 'alter': 2503, 'conceiv': 2504, 'assign': 2505, 'cathol': 2506, 'fix': 2507, 'melt': 2508, 'daili': 2509, 'stanley': 2510, 'savag': 2511, 'mous': 2512, 'overact': 2513, 'breathtak': 2514, 'goofi': 2515, 'blair': 2516, 'hippi': 2517, 'dentist': 2518, 'everyday': 2519, 'sacrific': 2520, 'oppos': 2521, 'burt': 2522, 'properli': 2523, 'carpent': 2524, 'inspector': 2525, 'succe': 2526, 'subsequ': 2527, 'nowaday': 2528, 'neck': 2529, 'circl': 2530, 'laura': 2531, 'block': 2532, 'massacr': 2533, 'lesser': 2534, 'seagal': 2535, 'mob': 2536, 'access': 2537, 'fay': 2538, 'grey': 2539, 'fallen': 2540, 'concert': 2541, 'pool': 2542, 'portrait': 2543, 'christi': 2544, 'jake': 2545, 'jewish': 2546, 'relax': 2547, 'competit': 2548, 'chees': 2549, 'usa': 2550, 'isol': 2551, 'sinist': 2552, 'react': 2553, 'nonetheless': 2554, 'ironi': 2555, '2006': 2556, 'stink': 2557, 'chop': 2558, 'appal': 2559, 'spiritu': 2560, 'suitabl': 2561, 'creep': 2562, 'nine': 2563, 'immens': 2564, 'lyric': 2565, 'showcas': 2566, 'adopt': 2567, 'franchis': 2568, 'rage': 2569, 'shirt': 2570, 'user': 2571, 'needless': 2572, 'spring': 2573, 'nut': 2574, 'navi': 2575, 'sold': 2576, 'retir': 2577, 'reduc': 2578, 'luci': 2579, 'bath': 2580, 'bulli': 2581, 'uninspir': 2582, 'zone': 2583, 'jay': 2584, 'digit': 2585, 'per': 2586, 'nurs': 2587, 'asham': 2588, 'stanwyck': 2589, 'amongst': 2590, 'laid': 2591, 'oddli': 2592, 'illustr': 2593, 'sutherland': 2594, '1940': 2595, 'upper': 2596, 'broadcast': 2597, '2001': 2598, 'stylish': 2599, 'brando': 2600, 'fulfil': 2601, 'disguis': 2602, 'aspir': 2603, 'throat': 2604, 'baker': 2605, 'neighborhood': 2606, 'pride': 2607, 'thief': 2608, '18': 2609, 'pound': 2610, 'nobl': 2611, 'em': 2612, 'impli': 2613, 'wanna': 2614, 'endear': 2615, 'wwii': 2616, 'tens': 2617, 'shoulder': 2618, 'dawn': 2619, 'bo': 2620, 'cinematograph': 2621, 'albeit': 2622, 'coher': 2623, 'shift': 2624, 'distribut': 2625, 'dinner': 2626, 'diseas': 2627, 'bett': 2628, 'prop': 2629, '16': 2630, 'rochest': 2631, 'wash': 2632, 'function': 2633, 'silenc': 2634, 'matthau': 2635, 'shout': 2636, 'surf': 2637, 'contract': 2638, 'rebel': 2639, 'poignant': 2640, 'snow': 2641, 'forti': 2642, 'knife': 2643, 'cancel': 2644, 'duti': 2645, 'silver': 2646, 'heat': 2647, 'eeri': 2648, 'derek': 2649, 'henc': 2650, 'instinct': 2651, 'chuck': 2652, 'horrend': 2653, 'internet': 2654, 'elvira': 2655, 'reunion': 2656, 'proof': 2657, 'height': 2658, 'mindless': 2659, 'widmark': 2660, 'cannib': 2661, 'repetit': 2662, 'mill': 2663, 'spielberg': 2664, 'torn': 2665, 'musician': 2666, 'incoher': 2667, 'greatli': 2668, 'neat': 2669, 'etern': 2670, 'innov': 2671, 'premier': 2672, 'glori': 2673, 'alik': 2674, 'elvi': 2675, 'pie': 2676, 'absorb': 2677, 'redempt': 2678, 'nelson': 2679, 'homag': 2680, 'trite': 2681, 'itali': 2682, 'racism': 2683, 'britain': 2684, 'bang': 2685, 'announc': 2686, 'lovabl': 2687, 'crisi': 2688, 'diamond': 2689, 'wealthi': 2690, 'infam': 2691, 'fbi': 2692, 'blank': 2693, 'precis': 2694, 'horrifi': 2695, 'burton': 2696, 'helen': 2697, 'dedic': 2698, 'hammer': 2699, 'flop': 2700, 'ensembl': 2701, 'parallel': 2702, 'pat': 2703, 'wilder': 2704, 'chaplin': 2705, 'happili': 2706, 'resolut': 2707, 'streisand': 2708, 'conclud': 2709, 'cube': 2710, 'oil': 2711, 'factori': 2712, 'triumph': 2713, 'mar': 2714, 'plastic': 2715, 'broke': 2716, 'disagre': 2717, 'st': 2718, 'carter': 2719, 'vega': 2720, 'march': 2721, 'fighter': 2722, 'rocket': 2723, 'climb': 2724, 'own': 2725, 'weight': 2726, 'bush': 2727, 'chuckl': 2728, 'row': 2729, 'sensibl': 2730, 'spare': 2731, 'lust': 2732, 'unforgett': 2733, 'boot': 2734, 'meaning': 2735, 'kurt': 2736, 'enorm': 2737, 'wherea': 2738, 'luca': 2739, 'dump': 2740, 'dane': 2741, 'thug': 2742, 'mst3k': 2743, 'arnold': 2744, 'caricatur': 2745, 'bobbi': 2746, 'rap': 2747, 'adequ': 2748, 'fifti': 2749, 'butt': 2750, 'brand': 2751, 'stress': 2752, 'dear': 2753, 'difficulti': 2754, 'engin': 2755, 'threat': 2756, 'karloff': 2757, 'swing': 2758, 'ego': 2759, 'elabor': 2760, 'barri': 2761, 'arrog': 2762, 'journalist': 2763, 'homeless': 2764, 'ralph': 2765, 'secretari': 2766, 'polish': 2767, 'fest': 2768, 'flynn': 2769, 'hamlet': 2770, 'induc': 2771, 'spike': 2772, 'simpson': 2773, 'grate': 2774, 'unbear': 2775, 'puppet': 2776, 'float': 2777, 'tool': 2778, 'fanci': 2779, 'conspiraci': 2780, 'arrang': 2781, 'resort': 2782, 'guilt': 2783, 'exercis': 2784, 'basement': 2785, 'tribut': 2786, 'choreograph': 2787, 'pig': 2788, 'muppet': 2789, 'phillip': 2790, 'cruis': 2791, 'boll': 2792, 'item': 2793, 'fianc': 2794, 'file': 2795, 'ham': 2796, 'toilet': 2797, 'document': 2798, 'babe': 2799, 'layer': 2800, 'puzzl': 2801, 'medium': 2802, '24': 2803, 'tower': 2804, 'ward': 2805, 'slip': 2806, 'korean': 2807, 'editor': 2808, 'scarecrow': 2809, 'stan': 2810, 'persona': 2811, 'glover': 2812, 'assur': 2813, 'minim': 2814, 'librari': 2815, 'territori': 2816, 'larger': 2817, 'superfici': 2818, 'denzel': 2819, 'transit': 2820, 'doc': 2821, 'inexplic': 2822, 'portion': 2823, 'slaughter': 2824, 'philosoph': 2825, 'spark': 2826, 'catherin': 2827, 'orient': 2828, 'shi': 2829, 'owe': 2830, 'boredom': 2831, 'walken': 2832, 'ban': 2833, 'jeremi': 2834, 'pg': 2835, 'curti': 2836, 'wolf': 2837, 'financi': 2838, 'sneak': 2839, 'dorothi': 2840, 'jet': 2841, 'backdrop': 2842, 'metaphor': 2843, 'multi': 2844, 'whale': 2845, 'ambigu': 2846, 'eleph': 2847, 'profound': 2848, 'hudson': 2849, 'cusack': 2850, 'birthday': 2851, 'ultra': 2852, '2005': 2853, 'elsewher': 2854, 'notion': 2855, 'stiff': 2856, 'implaus': 2857, 'hack': 2858, 'viru': 2859, 'union': 2860, 'rave': 2861, 'gadget': 2862, 'eastwood': 2863, 'bibl': 2864, 'superhero': 2865, 'squar': 2866, 'urg': 2867, 'afford': 2868, 'disc': 2869, 'reader': 2870, 'distanc': 2871, 'deriv': 2872, 'pad': 2873, 'newspap': 2874, 'canada': 2875, 'lloyd': 2876, 'slight': 2877, 'hawk': 2878, 'poison': 2879, 'eva': 2880, '1st': 2881, 'essenc': 2882, 'button': 2883, 'health': 2884, 'spread': 2885, 'drown': 2886, 'charisma': 2887, 'montag': 2888, 'cure': 2889, 'skit': 2890, 'restaur': 2891, 'sadist': 2892, 'huh': 2893, 'heston': 2894, 'gradual': 2895, 'companion': 2896, 'peak': 2897, 'fetch': 2898, 'lab': 2899, 'dealt': 2900, 'invest': 2901, 'scoobi': 2902, 'maniac': 2903, 'godfath': 2904, 'estat': 2905, 'muslim': 2906, 'subtleti': 2907, 'alli': 2908, 'gothic': 2909, 'cup': 2910, 'miik': 2911, 'kane': 2912, 'tea': 2913, 'countless': 2914, 'ritter': 2915, 'servant': 2916, 'iii': 2917, 'elect': 2918, 'briefli': 2919, 'salli': 2920, 'heroic': 2921, 'charismat': 2922, 'electr': 2923, 'cole': 2924, 'grandmoth': 2925, 'bud': 2926, 'resourc': 2927, 'admittedli': 2928, 'toss': 2929, 'reel': 2930, 'ingredi': 2931, 'tender': 2932, 'nuanc': 2933, 'neil': 2934, 'wannab': 2935, 'dawson': 2936, 'gate': 2937, 'reev': 2938, 'mild': 2939, 'poverti': 2940, 'pit': 2941, 'carrey': 2942, 'stronger': 2943, 'stood': 2944, 'label': 2945, 'shall': 2946, 'mafia': 2947, 'punk': 2948, 'kubrick': 2949, 'pauli': 2950, 'tag': 2951, 'terri': 2952, 'cardboard': 2953, 'burst': 2954, 'assault': 2955, 'updat': 2956, 'outcom': 2957, 'smooth': 2958, 'useless': 2959, 'ian': 2960, 'smash': 2961, 'cox': 2962, 'astair': 2963, 'fond': 2964, 'easier': 2965, 'bakshi': 2966, 'exchang': 2967, 'melodramat': 2968, 'vulner': 2969, 'divers': 2970, '2002': 2971, 'qualifi': 2972, 'rex': 2973, 'increasingli': 2974, 'sketch': 2975, 'fist': 2976, 'coincid': 2977, 'resolv': 2978, 'samurai': 2979, 'vari': 2980, 'reynold': 2981, 'luckili': 2982, 'brillianc': 2983, 'blast': 2984, 'conveni': 2985, 'templ': 2986, 'insert': 2987, 'tame': 2988, 'be': 2989, 'suspend': 2990, 'scratch': 2991, 'coach': 2992, 'seventi': 2993, 'walker': 2994, 'pin': 2995, 'hamilton': 2996, 'gotta': 2997, 'soprano': 2998, 'meat': 2999, 'matthew': 3000, 'strictli': 3001, 'ambiti': 3002, 'farm': 3003, 'nuclear': 3004, 'jami': 3005, 'fisher': 3006, 'joey': 3007, 'closet': 3008, 'timeless': 3009, 'butcher': 3010, 'instantli': 3011, 'monk': 3012, 'struck': 3013, 'grasp': 3014, 'empir': 3015, 'spooki': 3016, 'eccentr': 3017, 'discoveri': 3018, 'ninja': 3019, 'worthless': 3020, 'recreat': 3021, 'kudo': 3022, 'convolut': 3023, 'cave': 3024, 'brosnan': 3025, 'revers': 3026, 'clock': 3027, 'mitchel': 3028, 'inconsist': 3029, 'pal': 3030, 'norman': 3031, 'evok': 3032, 'gray': 3033, 'miracl': 3034, 'clown': 3035, 'selfish': 3036, 'wipe': 3037, 'fifteen': 3038, 'cliff': 3039, 'sloppi': 3040, 'importantli': 3041, 'bleak': 3042, 'seller': 3043, 'partli': 3044, 'eighti': 3045, 'communist': 3046, 'declar': 3047, 'sidekick': 3048, 'superbl': 3049, 'piano': 3050, 'aforement': 3051, 'cheek': 3052, 'websit': 3053, 'ho': 3054, 'farc': 3055, 'chew': 3056, 'psychiatrist': 3057, 'flawless': 3058, 'destin': 3059, '45': 3060, 'debat': 3061, 'australia': 3062, 'stoog': 3063, 'seed': 3064, 'enthusiast': 3065, 'lifestyl': 3066, 'drivel': 3067, 'akshay': 3068, 'bash': 3069, 'splatter': 3070, 'directori': 3071, 'wrestl': 3072, 'abc': 3073, 'kitchen': 3074, 'slice': 3075, 'soviet': 3076, 'dire': 3077, 'incompet': 3078, 'emili': 3079, 'dash': 3080, 'regardless': 3081, 'wick': 3082, 'anni': 3083, 'pressur': 3084, 'prize': 3085, 'mann': 3086, 'beaten': 3087, 'increas': 3088, 'duo': 3089, 'flower': 3090, 'pleasantli': 3091, 'recov': 3092, 'blob': 3093, 'glow': 3094, 'judi': 3095, 'boil': 3096, 'cia': 3097, 'helicopt': 3098, 'artifici': 3099, 'suppli': 3100, 'curios': 3101, 'cameron': 3102, 'jar': 3103, 'doo': 3104, 'chapter': 3105, 'distant': 3106, 'lou': 3107, 'ken': 3108, 'seduc': 3109, 'dave': 3110, 'cagney': 3111, 'hop': 3112, 'turner': 3113, 'goldberg': 3114, 'ranger': 3115, 'combat': 3116, 'francisco': 3117, 'perri': 3118, 'splendid': 3119, 'psychot': 3120, 'drunken': 3121, 'ellen': 3122, 'favour': 3123, 'laurel': 3124, 'craig': 3125, 'craven': 3126, 'glenn': 3127, 'eleg': 3128, 'panic': 3129, 'web': 3130, 'graduat': 3131, 'hatr': 3132, 'fx': 3133, 'wizard': 3134, 'plausibl': 3135, 'gandhi': 3136, 'philosophi': 3137, 'flip': 3138, 'alexand': 3139, '20th': 3140, 'ruth': 3141, 'rid': 3142, 'slightest': 3143, 'gentl': 3144, 'shortli': 3145, 'greek': 3146, 'min': 3147, 'falk': 3148, 'modesti': 3149, 'ocean': 3150, 'holi': 3151, 'lend': 3152, 'tall': 3153, 'unpleas': 3154, 'felix': 3155, 'manhattan': 3156, 'preciou': 3157, 'fund': 3158, 'futurist': 3159, 'legal': 3160, 'we': 3161, 'dracula': 3162, 'knight': 3163, 'harm': 3164, 'jealou': 3165, 'childish': 3166, 'bless': 3167, 'nod': 3168, 'reviv': 3169, 'mock': 3170, 'digniti': 3171, 'forbidden': 3172, 'thread': 3173, 'giallo': 3174, 'explicit': 3175, 'ami': 3176, 'scientif': 3177, 'tank': 3178, 'overdon': 3179, 'repeatedli': 3180, '2004': 3181, 'verhoeven': 3182, 'elderli': 3183, 'margaret': 3184, 'thick': 3185, 'broad': 3186, 'nerv': 3187, 'fever': 3188, 'awe': 3189, '99': 3190, 'pirat': 3191, 'awaken': 3192, 'yesterday': 3193, 'eve': 3194, 'unwatch': 3195, 'mel': 3196, 'torment': 3197, 'custom': 3198, 'publish': 3199, 'launch': 3200, 'romero': 3201, 'eas': 3202, 'lean': 3203, 'acclaim': 3204, 'bin': 3205, 'automat': 3206, 'stiller': 3207, 'politician': 3208, 'kay': 3209, 'roman': 3210, 'royal': 3211, 'ah': 3212, 'uniform': 3213, 'griffith': 3214, 'absenc': 3215, 'ambit': 3216, 'timothi': 3217, 'rivet': 3218, 'pierc': 3219, 'gabriel': 3220, 'foul': 3221, 'sunshin': 3222, 'tomato': 3223, 'pulp': 3224, 'homicid': 3225, 'phrase': 3226, 'purpl': 3227, 'termin': 3228, 'darker': 3229, 'stinker': 3230, 'bathroom': 3231, 'wallac': 3232, 'antic': 3233, 'warren': 3234, 'transport': 3235, 'crook': 3236, 'awak': 3237, 'pray': 3238, 'prom': 3239, 'donna': 3240, 'brazil': 3241, '2003': 3242, 'contrari': 3243, 'hollow': 3244, 'ought': 3245, 'horrid': 3246, 'coloni': 3247, 'evolv': 3248, 'karen': 3249, 'viciou': 3250, 'choreographi': 3251, 'marin': 3252, 'sixti': 3253, 'li': 3254, 'album': 3255, 'q': 3256, 'rambo': 3257, 'juvenil': 3258, 'kenneth': 3259, 'saint': 3260, 'packag': 3261, 'revolutionari': 3262, 'eyr': 3263, 'mummi': 3264, 'kapoor': 3265, 'nerd': 3266, 'boast': 3267, 'dose': 3268, 'defi': 3269, 'ireland': 3270, 'twelv': 3271, 'overr': 3272, 'candid': 3273, 'conserv': 3274, 'blade': 3275, 'ramon': 3276, 'option': 3277, 'stole': 3278, 'mildr': 3279, 'beatti': 3280, 'trio': 3281, 'astonish': 3282, 'collabor': 3283, 'flame': 3284, 'fulci': 3285, 'jazz': 3286, 'altman': 3287, 'detract': 3288, 'protest': 3289, 'confirm': 3290, 'kirk': 3291, 'natali': 3292, 'global': 3293, 'funer': 3294, 'bull': 3295, 'delici': 3296, 'leap': 3297, 'tommi': 3298, 'bottl': 3299, 'blake': 3300, 'mystic': 3301, 'nicholson': 3302, 'yellow': 3303, 'audio': 3304, 'whip': 3305, 'racial': 3306, 'destini': 3307, 'shade': 3308, 'spit': 3309, 'enterpris': 3310, 'popcorn': 3311, 'inherit': 3312, 'harder': 3313, 'adolesc': 3314, 'vivid': 3315, 'visibl': 3316, 'enchant': 3317, 'pseudo': 3318, 'swedish': 3319, 'todd': 3320, 'altogeth': 3321, 'staff': 3322, 'threw': 3323, 'meaningless': 3324, 'merci': 3325, 'reunit': 3326, 'bedroom': 3327, 'fonda': 3328, 'neo': 3329, 'befriend': 3330, 'leonard': 3331, 'atlanti': 3332, 'madonna': 3333, 'roommat': 3334, 'bust': 3335, 'suspici': 3336, 'lemmon': 3337, 'crocodil': 3338, 'moodi': 3339, 'tip': 3340, 'await': 3341, 'fanat': 3342, 'synopsi': 3343, 'respond': 3344, 'edi': 3345, 'lawrenc': 3346, 'reserv': 3347, 'kennedi': 3348, 'ruthless': 3349, 'uneven': 3350, 'voight': 3351, 'wire': 3352, 'jew': 3353, 'decor': 3354, 'exhibit': 3355, 'audit': 3356, 'clint': 3357, 'abysm': 3358, 'bradi': 3359, 'centr': 3360, 'chao': 3361, 'dimens': 3362, 'bargain': 3363, 'incident': 3364, 'carl': 3365, 'garner': 3366, 'voyag': 3367, 'rural': 3368, 'bold': 3369, 'unsettl': 3370, 'clumsi': 3371, '2007': 3372, 'holli': 3373, 'ventur': 3374, 'palma': 3375, 'versu': 3376, 'neglect': 3377, 'poetic': 3378, 'lit': 3379, '2nd': 3380, 'trail': 3381, 'characterist': 3382, 'tiger': 3383, 'cuba': 3384, 'wealth': 3385, 'mall': 3386, 'humili': 3387, 'echo': 3388, 'ant': 3389, 'acknowledg': 3390, 'troop': 3391, 'cari': 3392, 'nearbi': 3393, 'imperson': 3394, 'elimin': 3395, 'cd': 3396, 'daddi': 3397, 'hart': 3398, 'timon': 3399, 'immigr': 3400, 'repuls': 3401, 'homer': 3402, 'domest': 3403, 'mistaken': 3404, 'prejudic': 3405, 'celluloid': 3406, 'collaps': 3407, 'mickey': 3408, 'solo': 3409, 'marshal': 3410, 'infect': 3411, 'paus': 3412, 'jeffrey': 3413, 'saga': 3414, 'pun': 3415, '1996': 3416, 'sore': 3417, 'milk': 3418, 'inappropri': 3419, 'interrupt': 3420, 'coat': 3421, 'inan': 3422, 'leon': 3423, 'hbo': 3424, 'gear': 3425, 'equip': 3426, 'harvey': 3427, 'apolog': 3428, 'coffe': 3429, 'chest': 3430, 'ginger': 3431, 'undoubtedli': 3432, 'assembl': 3433, 'pant': 3434, 'promin': 3435, 'tribe': 3436, 'olivi': 3437, 'cake': 3438, 'institut': 3439, 'airplan': 3440, 'devast': 3441, 'pot': 3442, 'brooklyn': 3443, 'retain': 3444, 'trace': 3445, 'humbl': 3446, 'aveng': 3447, 'vulgar': 3448, 'colonel': 3449, 'consum': 3450, 'solut': 3451, 'florida': 3452, 'colleagu': 3453, 'furthermor': 3454, 'highest': 3455, 'embrac': 3456, 'instant': 3457, 'exot': 3458, 'pen': 3459, 'polanski': 3460, 'maggi': 3461, 'primari': 3462, 'jenni': 3463, 'dutch': 3464, '3rd': 3465, 'ya': 3466, 'linda': 3467, 'strain': 3468, 'principl': 3469, '1999': 3470, 'smaller': 3471, 'poke': 3472, 'outer': 3473, 'descend': 3474, 'gender': 3475, 'illog': 3476, 'dian': 3477, 'rick': 3478, 'wive': 3479, 'disabl': 3480, 'sale': 3481, 'seduct': 3482, 'cope': 3483, 'bowl': 3484, 'godzilla': 3485, 'predecessor': 3486, 'mixtur': 3487, 'gloriou': 3488, 'secondli': 3489, 'devoid': 3490, 'dive': 3491, 'lol': 3492, 'scope': 3493, 'blatant': 3494, 'vast': 3495, 'dud': 3496, 'hal': 3497, 'yard': 3498, 'rabbit': 3499, 'primarili': 3500, 'inferior': 3501, 'cue': 3502, 'beneath': 3503, 'glamor': 3504, 'bubbl': 3505, 'gundam': 3506, 'z': 3507, 'streep': 3508, 'shelf': 3509, 'april': 3510, 'disjoint': 3511, 'alfr': 3512, 'domino': 3513, 'invas': 3514, 'pearl': 3515, 'et': 3516, 'garbo': 3517, 'shirley': 3518, 'arab': 3519, 'breed': 3520, 'simplist': 3521, 'museum': 3522, 'casual': 3523, 'senseless': 3524, 'myer': 3525, 'hideou': 3526, 'alert': 3527, 'countrysid': 3528, 'talki': 3529, 'trademark': 3530, 'aggress': 3531, 'grinch': 3532, 'loyal': 3533, 'stir': 3534, 'oz': 3535, 'robberi': 3536, 'hardcor': 3537, 'unhappi': 3538, 'khan': 3539, 'obtain': 3540, 'boom': 3541, 'robinson': 3542, 'sh': 3543, 'stellar': 3544, 'acid': 3545, 'hopeless': 3546, 'vanish': 3547, 'disgrac': 3548, 'rendit': 3549, 'illeg': 3550, 'applaud': 3551, 'experiment': 3552, 'defens': 3553, 'stack': 3554, 'maci': 3555, 'slide': 3556, 'mail': 3557, 'uwe': 3558, 'mayor': 3559, 'rifl': 3560, 'craze': 3561, 'tenant': 3562, 'diana': 3563, 'span': 3564, 'blew': 3565, 'topless': 3566, 'grandfath': 3567, 'incomprehens': 3568, 'tempt': 3569, 'berlin': 3570, 'dismiss': 3571, 'fri': 3572, 'psychic': 3573, 'spider': 3574, 'counter': 3575, 'wont': 3576, 'declin': 3577, 'dicken': 3578, 'scroog': 3579, 'recruit': 3580, 'emphasi': 3581, 'hartley': 3582, 'soccer': 3583, 'amanda': 3584, 'porno': 3585, 'trashi': 3586, 'sibl': 3587, 'bitch': 3588, 'sympath': 3589, 'woo': 3590, 'justin': 3591, 'parad': 3592, 'ration': 3593, 'ethnic': 3594, 'intim': 3595, 'goer': 3596, 'resurrect': 3597, 'lumet': 3598, 'shed': 3599, 'faster': 3600, 'revolt': 3601, 'riot': 3602, 'niro': 3603, 'wet': 3604, 'shaw': 3605, 'nephew': 3606, 'unreal': 3607, 'commend': 3608, 'hesit': 3609, 'choru': 3610, 'rider': 3611, 'honesti': 3612, '00': 3613, 'gap': 3614, 'region': 3615, 'enlighten': 3616, 'immort': 3617, 'andr': 3618, 'weakest': 3619, 'wheel': 3620, 'biographi': 3621, 'ensur': 3622, 'jonathan': 3623, 'dealer': 3624, 'mario': 3625, 'feminist': 3626, 'slick': 3627, 'farmer': 3628, 'ballet': 3629, 'eager': 3630, 'worm': 3631, 'partial': 3632, 'steam': 3633, 'patriot': 3634, 'wendi': 3635, 'lena': 3636, 'hopper': 3637, 'leo': 3638, 'blunt': 3639, 'repress': 3640, 'safeti': 3641, 'vice': 3642, 'nostalg': 3643, 'skull': 3644, 'composit': 3645, 'victori': 3646, 'charlott': 3647, 'kingdom': 3648, 'wore': 3649, 'franco': 3650, 'util': 3651, 'confin': 3652, 'mutant': 3653, 'morri': 3654, 'owen': 3655, 'snap': 3656, 'prequel': 3657, 'sappi': 3658, 'similarli': 3659, 'hung': 3660, 'sandra': 3661, 'properti': 3662, 'macarthur': 3663, 'psychopath': 3664, 'strand': 3665, 'thru': 3666, 'bonu': 3667, 'recycl': 3668, 'hyde': 3669, 'dust': 3670, 'acquir': 3671, 'whoopi': 3672, 'despair': 3673, 'valuabl': 3674, 'tad': 3675, 'deed': 3676, 'cg': 3677, 'repli': 3678, 'bumbl': 3679, 'compens': 3680, 'latin': 3681, 'exit': 3682, 'emperor': 3683, 'speci': 3684, 'nervou': 3685, 'snl': 3686, 'rocki': 3687, 'miseri': 3688, 'rope': 3689, 'bow': 3690, 'rambl': 3691, 'tail': 3692, 'pattern': 3693, 'campbel': 3694, 'drain': 3695, 'bergman': 3696, 'heartbreak': 3697, 'drum': 3698, '1972': 3699, 'farrel': 3700, 'montana': 3701, 'kyle': 3702, 'del': 3703, 'compass': 3704, 'dalton': 3705, 'rotten': 3706, 'downhil': 3707, 'roth': 3708, 'radic': 3709, 'percept': 3710, 'wacki': 3711, 'contempl': 3712, 'rapist': 3713, 'oppress': 3714, 'tonight': 3715, 'pour': 3716, 'gimmick': 3717, 'airport': 3718, 'da': 3719, 'slug': 3720, '35': 3721, 'carradin': 3722, 'martian': 3723, 'bleed': 3724, 'gal': 3725, 'orson': 3726, 'romp': 3727, 'chess': 3728, 'mistress': 3729, 'olli': 3730, 'stilt': 3731, 'pervers': 3732, 'arguabl': 3733, 'heal': 3734, 'edgar': 3735, 'tackl': 3736, 'pursuit': 3737, 'melodi': 3738, 'preach': 3739, 'taught': 3740, 'pervert': 3741, 'arc': 3742, '1983': 3743, 'banal': 3744, 'programm': 3745, 'mislead': 3746, 'attorney': 3747, 'paltrow': 3748, 'slash': 3749, 'shelley': 3750, 'belt': 3751, 'dazzl': 3752, 'tooth': 3753, 'unpredict': 3754, 'champion': 3755, 'dixon': 3756, 'vengeanc': 3757, 'tiresom': 3758, 'sensat': 3759, 'orang': 3760, 'poem': 3761, 'uplift': 3762, 'conneri': 3763, 'plight': 3764, 'closest': 3765, 'chicken': 3766, 'gambl': 3767, 'virginia': 3768, 'maid': 3769, 'franki': 3770, 'graham': 3771, 'cleverli': 3772, 'marti': 3773, 'mesmer': 3774, 'duval': 3775, 'employe': 3776, 'raymond': 3777, 'vocal': 3778, 'bela': 3779, 'passeng': 3780, 'rubi': 3781, 'profan': 3782, 'extens': 3783, 'swallow': 3784, 'calm': 3785, 'volum': 3786, 'numb': 3787, 'habit': 3788, 'whine': 3789, 'giggl': 3790, '1968': 3791, 'lundgren': 3792, 'scottish': 3793, 'climact': 3794, 'convincingli': 3795, 'suffic': 3796, 'quarter': 3797, 'clone': 3798, 'bay': 3799, 'secretli': 3800, 'tube': 3801, 'mute': 3802, 'outing': 3803, 'sirk': 3804, 'paranoia': 3805, 'engross': 3806, 'gerard': 3807, 'inject': 3808, 'monologu': 3809, 'abraham': 3810, 'amitabh': 3811, 'crystal': 3812, 'yawn': 3813, 'iran': 3814, 'pokemon': 3815, 'underst': 3816, 'plod': 3817, 'chicago': 3818, 'franci': 3819, 'linger': 3820, 'earl': 3821, 'poetri': 3822, 'junior': 3823, 'fed': 3824, 'trend': 3825, 'grotesqu': 3826, 'austen': 3827, 'ethan': 3828, 'lowest': 3829, 'bend': 3830, 'surpass': 3831, 'im': 3832, 'meander': 3833, 'septemb': 3834, 'abort': 3835, 'richardson': 3836, 'spock': 3837, 'dispos': 3838, 'expand': 3839, 'backward': 3840, 'taxi': 3841, 'profess': 3842, 'nichola': 3843, 'frankenstein': 3844, 'dysfunct': 3845, 'descent': 3846, 'waitress': 3847, 'rubber': 3848, 'rant': 3849, 'catchi': 3850, 'instrument': 3851, 'mundan': 3852, 'nostalgia': 3853, 'muddl': 3854, 'spoke': 3855, 'hum': 3856, 'econom': 3857, 'greedi': 3858, 'sue': 3859, 'cannon': 3860, 'der': 3861, 'literatur': 3862, 'myth': 3863, 'lure': 3864, 'simplic': 3865, 'tourist': 3866, 'compliment': 3867, 'stallon': 3868, 'household': 3869, 'eugen': 3870, 'equival': 3871, 'recognit': 3872, 'phantom': 3873, 'carel': 3874, 'molli': 3875, 'irrelev': 3876, 'occupi': 3877, 'firstli': 3878, 'dement': 3879, 'recognis': 3880, 'lang': 3881, 'damon': 3882, 'randi': 3883, 'stale': 3884, 'cent': 3885, 'june': 3886, 'mankind': 3887, 'dictat': 3888, 'flee': 3889, 'crucial': 3890, 'sissi': 3891, 'coast': 3892, 'alongsid': 3893, 'furi': 3894, 'bacal': 3895, 'hello': 3896, 'eaten': 3897, 'louis': 3898, 'duck': 3899, 'insur': 3900, 'phoni': 3901, 'map': 3902, 'mortal': 3903, 'deaf': 3904, 'omen': 3905, 'wisdom': 3906, 'blackmail': 3907, 'likewis': 3908, 'labor': 3909, 'dreari': 3910, 'daisi': 3911, 'drake': 3912, 'heel': 3913, 'freez': 3914, 'lengthi': 3915, 'rooney': 3916, 'loyalti': 3917, 'buffalo': 3918, 'bump': 3919, 'rude': 3920, 'newli': 3921, 'bike': 3922, 'distinguish': 3923, 'reign': 3924, 'ashley': 3925, 'twilight': 3926, 'damm': 3927, 'cyborg': 3928, 'antwon': 3929, 'onlin': 3930, '1973': 3931, 'grayson': 3932, 'biko': 3933, 'ridden': 3934, 'boxer': 3935, 'prey': 3936, 'proce': 3937, 'keith': 3938, 'pink': 3939, 'worn': 3940, 'provoc': 3941, 'inher': 3942, 'interior': 3943, 'barrymor': 3944, 'basketbal': 3945, 'approv': 3946, 'emphas': 3947, 'chronicl': 3948, 'incorpor': 3949, 'unorigin': 3950, 'attribut': 3951, 'startl': 3952, 'analysi': 3953, 'butler': 3954, 'baddi': 3955, 'nineti': 3956, 'sailor': 3957, 'tunnel': 3958, 'exposur': 3959, 'vein': 3960, 'undeni': 3961, 'degrad': 3962, 'simmon': 3963, 'barrel': 3964, 'indiffer': 3965, 'improvis': 3966, 'predat': 3967, 'robbin': 3968, 'drift': 3969, 'bunni': 3970, 'substitut': 3971, 'underli': 3972, 'er': 3973, 'mighti': 3974, 'stalker': 3975, 'hypnot': 3976, 'unrel': 3977, 'fleet': 3978, 'millionair': 3979, 'mormon': 3980, 'julian': 3981, 'nicol': 3982, 'condemn': 3983, 'meyer': 3984, 'meg': 3985, 'othello': 3986, 'elm': 3987, 'belushi': 3988, 'carla': 3989, 'walsh': 3990, 'shove': 3991, 'exquisit': 3992, 'greed': 3993, 'mtv': 3994, 'alarm': 3995, 'marion': 3996, 'nyc': 3997, 'palac': 3998, 'firm': 3999, '3d': 4000, 'dolph': 4001, 'vital': 4002, 'reid': 4003, 'roof': 4004, 'disord': 4005, 'edgi': 4006, 'novak': 4007, 'priceless': 4008, 'lampoon': 4009, 'alison': 4010, 'watson': 4011, 'agenda': 4012, 'warmth': 4013, 'unawar': 4014, 'enthusiasm': 4015, 'errol': 4016, 'hay': 4017, 'rukh': 4018, 'cassidi': 4019, 'peril': 4020, 'campaign': 4021, 'distort': 4022, 'angela': 4023, 'orlean': 4024, 'eastern': 4025, 'profit': 4026, 'coup': 4027, 'sergeant': 4028, 'spain': 4029, 'randomli': 4030, 'session': 4031, 'minimum': 4032, 'drip': 4033, 'zizek': 4034, 'pamela': 4035, 'preserv': 4036, 'unleash': 4037, 'peck': 4038, 'testament': 4039, 'nun': 4040, 'crown': 4041, 'championship': 4042, 'iraq': 4043, '13th': 4044, 'showdown': 4045, 'ponder': 4046, 'petti': 4047, 'simultan': 4048, 'beatl': 4049, 'what': 4050, 'israel': 4051, 'thompson': 4052, '1933': 4053, 'glanc': 4054, 'gestur': 4055, 'valentin': 4056, 'sabrina': 4057, 'kurosawa': 4058, 'restrain': 4059, 'calib': 4060, 'bro': 4061, 'fido': 4062, 'stroke': 4063, 'empathi': 4064, 'represent': 4065, 'jan': 4066, 'stake': 4067, 'cooki': 4068, 'buster': 4069, 'regist': 4070, 'crow': 4071, 'mon': 4072, 'wig': 4073, 'contradict': 4074, 'shootout': 4075, 'rout': 4076, 'brenda': 4077, 'exposit': 4078, 'crawl': 4079, 'valley': 4080, 'climat': 4081, '1984': 4082, 'travesti': 4083, 'quinn': 4084, 'scotland': 4085, 'han': 4086, 'reson': 4087, 'perpetu': 4088, 'cream': 4089, 'din': 4090, 'realm': 4091, 'gentleman': 4092, 'miyazaki': 4093, 'unimagin': 4094, 'distress': 4095, 'absent': 4096, 'businessman': 4097, 'femm': 4098, 'meryl': 4099, 'monoton': 4100, 'tacki': 4101, 'compromis': 4102, 'spacey': 4103, 'traumat': 4104, 'shaki': 4105, 'pole': 4106, 'demis': 4107, 'sucker': 4108, 'pretens': 4109, 'crawford': 4110, 'abomin': 4111, 'cloud': 4112, 'passabl': 4113, 'soderbergh': 4114, 'shoddi': 4115, 'derang': 4116, '1987': 4117, 'darren': 4118, 'stargat': 4119, 'mclaglen': 4120, 'ustinov': 4121, 'censor': 4122, 'dana': 4123, '1997': 4124, 'perceiv': 4125, 'greg': 4126, 'delic': 4127, 'warrant': 4128, 'unseen': 4129, 'ross': 4130, 'geek': 4131, 'baldwin': 4132, 'josh': 4133, 'unsatisfi': 4134, 'painter': 4135, 'fuller': 4136, 'sammi': 4137, 'wax': 4138, 'polici': 4139, 'jewel': 4140, 'valid': 4141, 'click': 4142, 'correctli': 4143, 'verbal': 4144, 'judgment': 4145, 'deniro': 4146, 'reluct': 4147, 'accuraci': 4148, 'furiou': 4149, '1993': 4150, 'tech': 4151, 'sid': 4152, 'fog': 4153, 'primit': 4154, 'uncov': 4155, 'wholli': 4156, 'anchor': 4157, 'dee': 4158, 'exclus': 4159, 'norm': 4160, 'expedit': 4161, 'clash': 4162, 'unravel': 4163, 'fenc': 4164, 'nathan': 4165, 'seal': 4166, 'antonioni': 4167, 'deceas': 4168, 'tarantino': 4169, 'kumar': 4170, 'austin': 4171, '1995': 4172, 'dreck': 4173, 'sheet': 4174, 'ritual': 4175, 'wretch': 4176, '2008': 4177, 'sustain': 4178, 'conduct': 4179, 'enforc': 4180, 'pocket': 4181, 'wang': 4182, '3000': 4183, 'trait': 4184, 'tax': 4185, 'fabric': 4186, 'mode': 4187, 'darn': 4188, 'temper': 4189, 'patienc': 4190, 'bake': 4191, 'sunni': 4192, 'fought': 4193, '1971': 4194, 'slam': 4195, 'seldom': 4196, 'unfair': 4197, 'sand': 4198, 'murray': 4199, 'clerk': 4200, 'malon': 4201, 'debt': 4202, 'alec': 4203, 'joel': 4204, 'logan': 4205, 'fart': 4206, 'roller': 4207, 'crippl': 4208, 'hallucin': 4209, 'behold': 4210, 'vanc': 4211, 'nicola': 4212, 'shanghai': 4213, 'preston': 4214, 'outlin': 4215, 'phil': 4216, 'scriptwrit': 4217, 'guitar': 4218, 'critiqu': 4219, 'conscious': 4220, 'fundament': 4221, 'exhaust': 4222, 'tactic': 4223, 'penni': 4224, 'isabel': 4225, 'legaci': 4226, 'robber': 4227, 'despis': 4228, 'preposter': 4229, 'soup': 4230, 'helpless': 4231, 'squad': 4232, 'shell': 4233, 'bridget': 4234, 'sweep': 4235, 'technicolor': 4236, 'stuart': 4237, 'bias': 4238, 'rita': 4239, 'schedul': 4240, 'runner': 4241, 'clau': 4242, 'grief': 4243, 'stark': 4244, 'pete': 4245, 'canyon': 4246, 'divid': 4247, 'boyl': 4248, 'consciou': 4249, 'jacket': 4250, 'jodi': 4251, 'culmin': 4252, 'drove': 4253, 'restrict': 4254, 'marc': 4255, 'connor': 4256, 'delv': 4257, 'passag': 4258, 'rear': 4259, 'kansa': 4260, 'lacklust': 4261, 'rehash': 4262, 'newman': 4263, 'agenc': 4264, 'unexpectedli': 4265, 'implic': 4266, 'flair': 4267, 'liberti': 4268, 'propos': 4269, 'vomit': 4270, 'sentinel': 4271, 'inabl': 4272, 'sugar': 4273, 'alicia': 4274, 'bloom': 4275, 'sniper': 4276, 'russia': 4277, 'gregori': 4278, 'downey': 4279, 'alley': 4280, 'invad': 4281, 'cigarett': 4282, 'palanc': 4283, 'feat': 4284, 'asylum': 4285, '1936': 4286, 'tendenc': 4287, 'ladder': 4288, 'foxx': 4289, 'pale': 4290, 'improb': 4291, 'lush': 4292, 'sharon': 4293, 'rampag': 4294, 'aesthet': 4295, 'wrench': 4296, 'karl': 4297, 'vet': 4298, 'chainsaw': 4299, 'tripe': 4300, '22': 4301, 'mccoy': 4302, 'cap': 4303, 'rehears': 4304, 'rod': 4305, 'bacon': 4306, 'awhil': 4307, 'behaviour': 4308, 'delet': 4309, 'arrow': 4310, 'kolchak': 4311, 'horn': 4312, 'yeti': 4313, 'fright': 4314, 'wagner': 4315, 'lurk': 4316, 'hulk': 4317, 'amazon': 4318, 'rumor': 4319, 'aristocrat': 4320, 'hackney': 4321, 'loneli': 4322, 'shortcom': 4323, 'financ': 4324, 'newcom': 4325, 'tasteless': 4326, 'suffici': 4327, 'hungri': 4328, '19th': 4329, 'underneath': 4330, 'visitor': 4331, '1978': 4332, 'rhythm': 4333, 'el': 4334, 'conscienc': 4335, '1920': 4336, 'scoop': 4337, 'paramount': 4338, 'wildli': 4339, 'elit': 4340, 'basing': 4341, 'minu': 4342, '1988': 4343, 'spice': 4344, 'prank': 4345, 'suspicion': 4346, 'weav': 4347, 'filler': 4348, 'coaster': 4349, 'paradis': 4350, 'sung': 4351, 'stream': 4352, 'tomorrow': 4353, 'thunderbird': 4354, 'globe': 4355, 'entranc': 4356, 'abrupt': 4357, 'beverli': 4358, 'choppi': 4359, 'lectur': 4360, 'secondari': 4361, 'counterpart': 4362, 'chavez': 4363, 'immers': 4364, '75': 4365, 'bread': 4366, 'inmat': 4367, 'impos': 4368, 'wwe': 4369, 'literari': 4370, 'en': 4371, 'brit': 4372, 'dirt': 4373, 'springer': 4374, 'naughti': 4375, 'quietli': 4376, 'rub': 4377, 'chamberlain': 4378, 'heist': 4379, 'straightforward': 4380, 'smell': 4381, 'grudg': 4382, 'worship': 4383, 'ram': 4384, 'leigh': 4385, 'cancer': 4386, 'standout': 4387, '1989': 4388, 'posey': 4389, 'teas': 4390, 'couch': 4391, 'iv': 4392, 'penn': 4393, '1939': 4394, 'hopkin': 4395, 'recogniz': 4396, 'atroc': 4397, 'curli': 4398, 'minist': 4399, 'ingeni': 4400, 'tierney': 4401, 'paxton': 4402, 'yearn': 4403, 'entitl': 4404, 'geni': 4405, 'convert': 4406, 'transcend': 4407, 'attenborough': 4408, 'watcher': 4409, 'laurenc': 4410, 'net': 4411, 'bernard': 4412, 'heartfelt': 4413, 'policeman': 4414, 'cattl': 4415, 'lindsay': 4416, 'misguid': 4417, 'ace': 4418, '1986': 4419, 'sassi': 4420, 'skeptic': 4421, 'morbid': 4422, 'variat': 4423, 'sublim': 4424, 'moreov': 4425, 'nemesi': 4426, 'nolan': 4427, 'ratso': 4428, 'missil': 4429, 'injuri': 4430, 'clan': 4431, 'duel': 4432, 'enthral': 4433, 'quaid': 4434, 'esther': 4435, 'mytholog': 4436, 'steadi': 4437, 'facil': 4438, 'unexplain': 4439, 'hk': 4440, 'grin': 4441, 'uncut': 4442, 'obstacl': 4443, 'dont': 4444, 'enabl': 4445, 'setup': 4446, 'bye': 4447, 'spiral': 4448, 'moder': 4449, 'bean': 4450, 'vader': 4451, 'characteris': 4452, 'poe': 4453, 'youngest': 4454, 'tyler': 4455, 'cruelti': 4456, 'kidman': 4457, '1979': 4458, 'carlito': 4459, 'brood': 4460, 'rosemari': 4461, 'buzz': 4462, 'reliabl': 4463, 'graini': 4464, 'hopelessli': 4465, 'kitti': 4466, 'egg': 4467, 'diari': 4468, 'artsi': 4469, 'puppi': 4470, 'out': 4471, 'bewar': 4472, 'martha': 4473, 'bounc': 4474, 'sweat': 4475, 'exterior': 4476, 'bronson': 4477, 'spontan': 4478, 'acquaint': 4479, 'underworld': 4480, 'gina': 4481, 'disastr': 4482, '1969': 4483, 'narrow': 4484, 'effici': 4485, 'fuel': 4486, 'hammi': 4487, 'heap': 4488, 'patricia': 4489, 'athlet': 4490, 'clueless': 4491, 'gillian': 4492, 'despic': 4493, 'baffl': 4494, 'weather': 4495, 'brendan': 4496, 'christin': 4497, 'decept': 4498, 'oblig': 4499, 'niec': 4500, 'preming': 4501, 'kline': 4502, 'hain': 4503, 'outlaw': 4504, '73': 4505, 'scar': 4506, 'trigger': 4507, 'harmless': 4508, 'injur': 4509, 'sooner': 4510, 'loi': 4511, 'suprem': 4512, 'candl': 4513, 'astound': 4514, 'dilemma': 4515, 'shatter': 4516, 'dandi': 4517, 'viewpoint': 4518, 'fontain': 4519, 'housewif': 4520, 'virtu': 4521, 'uh': 4522, 'headach': 4523, 'angst': 4524, 'goof': 4525, 'loath': 4526, 'enlist': 4527, 'taboo': 4528, 'mayhem': 4529, 'biker': 4530, 'sleepwalk': 4531, 'circu': 4532, 'insipid': 4533, 'mermaid': 4534, 'analyz': 4535, '19': 4536, 'preachi': 4537, 'tick': 4538, 'renaiss': 4539, 'hepburn': 4540, 'lester': 4541, 'rome': 4542, 'slimi': 4543, 'amor': 4544, 'foolish': 4545, 'bent': 4546, 'boston': 4547, 'stimul': 4548, 'stair': 4549, 'camcord': 4550, 'overlong': 4551, 'hokey': 4552, 'sox': 4553, 'intric': 4554, 'glorifi': 4555, 'steer': 4556, 'fluff': 4557, 'claustrophob': 4558, 'macho': 4559, 'contempt': 4560, 'whore': 4561, 'scorses': 4562, 'hooker': 4563, 'surgeri': 4564, 'tripl': 4565, 'immatur': 4566, 'zoom': 4567, 'hostag': 4568, 'filth': 4569, 'guin': 4570, 'salt': 4571, 'redund': 4572, 'dish': 4573, 'idol': 4574, 'cassavet': 4575, 'phenomenon': 4576, 'corbett': 4577, 'oldest': 4578, 'dismal': 4579, 'ebert': 4580, 'gere': 4581, 'spade': 4582, 'ariel': 4583, 'keen': 4584, 'flashi': 4585, 'shield': 4586, 'margin': 4587, 'transplant': 4588, 'down': 4589, '1976': 4590, 'cow': 4591, 'perman': 4592, 'zane': 4593, 'assert': 4594, 'muscl': 4595, 'alvin': 4596, 'obligatori': 4597, 'astronaut': 4598, 'rhyme': 4599, 'proport': 4600, 'mount': 4601, 'conquer': 4602, 'gasp': 4603, 'corman': 4604, 'schlock': 4605, 'harold': 4606, 'shred': 4607, 'trivia': 4608, 'flag': 4609, 'flirt': 4610, 'beard': 4611, 'antagonist': 4612, 'spinal': 4613, 'frantic': 4614, 'faint': 4615, 'nolt': 4616, '1981': 4617, 'radiat': 4618, 'spree': 4619, 'cohen': 4620, 'widescreen': 4621, 'messi': 4622, 'fascist': 4623, 'cush': 4624, 'strongest': 4625, 'joker': 4626, 'preced': 4627, 'mutual': 4628, 'gabl': 4629, 'remad': 4630, 'dwarf': 4631, 'naschi': 4632, 'vaniti': 4633, 'info': 4634, 'divin': 4635, 'danish': 4636, 'strive': 4637, 'discern': 4638, 'ritchi': 4639, 'fishburn': 4640, 'instruct': 4641, 'scandal': 4642, 'claud': 4643, 'neurot': 4644, 'sensual': 4645, 'persuad': 4646, 'resum': 4647, 'bachelor': 4648, 'inflict': 4649, 'carey': 4650, 'www': 4651, 'archiv': 4652, 'deer': 4653, 'mol': 4654, 'departur': 4655, 'repris': 4656, '95': 4657, 'off': 4658, 'brush': 4659, 'interestingli': 4660, '28': 4661, 'triangl': 4662, 'bitten': 4663, 'raj': 4664, 'mobil': 4665, 'wield': 4666, 'someday': 4667, 'aborigin': 4668, 'boob': 4669, 'flock': 4670, '1945': 4671, 'barn': 4672, 'hara': 4673, 'clad': 4674, 'europa': 4675, 'jade': 4676, 'recit': 4677, 'mobster': 4678, 'dame': 4679, 'neill': 4680, 'cycl': 4681, 'cliffhang': 4682, 'timberlak': 4683, 'parson': 4684, 'helm': 4685, 'frontier': 4686, 'heartwarm': 4687, 'hilar': 4688, 'cb': 4689, 'carlo': 4690, 'pixar': 4691, 'rot': 4692, 'wendigo': 4693, 'artwork': 4694, 'harrison': 4695, 'fragil': 4696, 'banter': 4697, 'melissa': 4698, 'miracul': 4699, 'pacif': 4700, 'hapless': 4701, 'vibrant': 4702, 'prophet': 4703, 'senior': 4704, 'submit': 4705, 'casino': 4706, 'proclaim': 4707, 'dylan': 4708, 'traffic': 4709, 'hug': 4710, 'ish': 4711, 'cher': 4712, 'earnest': 4713, 'dim': 4714, 'kathryn': 4715, 'anton': 4716, 'undermin': 4717, 'loretta': 4718, 'biblic': 4719, 'axe': 4720, 'colin': 4721, 'bate': 4722, 'pickford': 4723, 'luka': 4724, 'winchest': 4725, 'seedi': 4726, 'feast': 4727, 'jo': 4728, 'cerebr': 4729, 'static': 4730, 'electron': 4731, 'bikini': 4732, 'uma': 4733, 'aris': 4734, 'marlon': 4735, 'antholog': 4736, 'orphan': 4737, 'toronto': 4738, 'vanessa': 4739, 'flavor': 4740, 'nope': 4741, 'lui': 4742, 'http': 4743, 'holocaust': 4744, 'sicken': 4745, 'bondag': 4746, 'alexandr': 4747, 'mason': 4748, 'estrang': 4749, 'foil': 4750, 'vile': 4751, 'pc': 4752, 'token': 4753, 'akin': 4754, 'northern': 4755, 'isra': 4756, 'redneck': 4757, 'rooki': 4758, 'breakfast': 4759, 'legitim': 4760, 'misfortun': 4761, 'jordan': 4762, 'venom': 4763, 'lucil': 4764, 'wardrob': 4765, 'razor': 4766, 'shepherd': 4767, 'illus': 4768, 'mathieu': 4769, 'blatantli': 4770, 'eli': 4771, 'milo': 4772, 'trier': 4773, 'choke': 4774, 'articl': 4775, 'audrey': 4776, 'outdat': 4777, 'clinic': 4778, 'nightclub': 4779, 'glare': 4780, 'smack': 4781, 'retriev': 4782, 'ideolog': 4783, 'styliz': 4784, 'abund': 4785, 'psych': 4786, 'peer': 4787, 'knightley': 4788, 'howl': 4789, 'disregard': 4790, 'wrestler': 4791, 'magician': 4792, 'turd': 4793, 'ceremoni': 4794, 'shorter': 4795, 'comprehend': 4796, 'highway': 4797, 'deem': 4798, 'gilbert': 4799, 'dudley': 4800, 'frog': 4801, 'oppon': 4802, 'fifth': 4803, 'huston': 4804, 'linear': 4805, 'feminin': 4806, 'boyer': 4807, 'cartoonish': 4808, 'tack': 4809, 'gunga': 4810, 'affleck': 4811, 'charlton': 4812, 'swept': 4813, 'leather': 4814, 'uniformli': 4815, 'toe': 4816, '4th': 4817, '1991': 4818, 'phenomen': 4819, 'durat': 4820, 'monument': 4821, 'btw': 4822, 'cuban': 4823, 'newer': 4824, 'collector': 4825, '1994': 4826, 'conrad': 4827, 'breakdown': 4828, 'lifeless': 4829, 'boo': 4830, 'lavish': 4831, 'summar': 4832, 'sleaz': 4833, 'spawn': 4834, 'senat': 4835, 'chip': 4836, 'whack': 4837, 'goldsworthi': 4838, 'tara': 4839, 'spine': 4840, 'mitch': 4841, 'compris': 4842, 'snatch': 4843, 'lighter': 4844, 'client': 4845, 'einstein': 4846, 'greet': 4847, 'braveheart': 4848, 'bastard': 4849, 'deliver': 4850, 'bogu': 4851, 'energet': 4852, 'corn': 4853, 'potter': 4854, 'plate': 4855, 'cemeteri': 4856, 'moe': 4857, 'evolut': 4858, 'salman': 4859, 'undead': 4860, 'constitut': 4861, 'lex': 4862, '1977': 4863, 'creek': 4864, 'kent': 4865, 'capot': 4866, 'ie': 4867, 'clara': 4868, 'jam': 4869, 'historian': 4870, 'replay': 4871, '1974': 4872, 'embark': 4873, 'inaccuraci': 4874, 'outright': 4875, 'appl': 4876, 'nina': 4877, 'ol': 4878, 'gilliam': 4879, 'fluid': 4880, 'eleven': 4881, 'wtf': 4882, 'luxuri': 4883, 'alleg': 4884, 'evelyn': 4885, 'bulk': 4886, 'jare': 4887, 'cecil': 4888, 'spectacl': 4889, 'liu': 4890, 'occup': 4891, 'mcqueen': 4892, 'sorrow': 4893, 'judd': 4894, 'neatli': 4895, 'jule': 4896, 'armstrong': 4897, 'firmli': 4898, 'signal': 4899, 'randolph': 4900, 'healthi': 4901, 'trauma': 4902, 'bori': 4903, 'pronounc': 4904, 'undertak': 4905, 'belli': 4906, 'jedi': 4907, 'kazan': 4908, 'congratul': 4909, 'sidewalk': 4910, 'sacrif': 4911, 'inclus': 4912, 'rosario': 4913, 'pepper': 4914, 'pioneer': 4915, 'truman': 4916, 'kiddi': 4917, 'palm': 4918, 'tokyo': 4919, 'knee': 4920, 'groan': 4921, 'relentless': 4922, 'vain': 4923, 'curtain': 4924, 'blur': 4925, 'miami': 4926, 'mum': 4927, 'paula': 4928, 'unsuspect': 4929, 'meal': 4930, 'id': 4931, '1985': 4932, 'genet': 4933, 'roar': 4934, 'poker': 4935, 'walt': 4936, 'porter': 4937, 'bait': 4938, 'inaccur': 4939, 'lauren': 4940, 'comb': 4941, 'antonio': 4942, 'aussi': 4943, 'vignett': 4944, 'fruit': 4945, 'spray': 4946, 'forgiven': 4947, 'comprehens': 4948, 'galaxi': 4949, 'unattract': 4950, 'miniseri': 4951, 'decapit': 4952, 'propheci': 4953, 'lanc': 4954, 'bsg': 4955, 'subtli': 4956, 'abound': 4957, 'cape': 4958, 'goldblum': 4959, 'ash': 4960, 'conan': 4961, 'basket': 4962, 'carmen': 4963, 'omin': 4964, 'asset': 4965, 'casper': 4966, 'drone': 4967, 'ghetto': 4968, 'epitom': 4969, 'growth': 4970, 'playboy': 4971, 'scariest': 4972, 'reincarn': 4973, 'optimist': 4974, 'rapidli': 4975, 'weari': 4976, 'substanti': 4977, 'modest': 4978, 'frontal': 4979, 'vastli': 4980, 'detach': 4981, 'macabr': 4982, 'orchestr': 4983, '21st': 4984, 'spill': 4985, 'sophi': 4986, 'bach': 4987, 'monti': 4988, 'mice': 4989, 'hackman': 4990, 'motorcycl': 4991, 'hostil': 4992, 'cypher': 4993, 'assort': 4994, 'jill': 4995, 'verg': 4996, 'victorian': 4997, 'incorrect': 4998, 'bravo': 4999}\n"
     ]
    }
   ],
   "source": [
    "word_dict = build_dict(train_X)\n",
    "print(word_dict)"
   ]
  },
  {
   "cell_type": "markdown",
   "metadata": {},
   "source": [
    "**Question:** What are the five most frequently appearing (tokenized) words in the training set? Does it makes sense that these words appear frequently in the training set?"
   ]
  },
  {
   "cell_type": "markdown",
   "metadata": {},
   "source": [
    "**Answer:**\n",
    "\n",
    "I believe that it makes sense partialy. I was expecting \"good\" and \"watch\" or \"see\", instead of \"one\" and \"time\"."
   ]
  },
  {
   "cell_type": "code",
   "execution_count": 14,
   "metadata": {},
   "outputs": [
    {
     "name": "stdout",
     "output_type": "stream",
     "text": [
      "['movi', 'film', 'one', 'like', 'time']\n"
     ]
    }
   ],
   "source": [
    "# TODO: Use this space to determine the five most frequently appearing words in the training set.\n",
    "word_cnt = word_counter(train_X)\n",
    "sort_ranked_words = sorted(word_cnt, key=word_cnt.get, reverse=True)\n",
    "\n",
    "print(sort_ranked_words[:5])"
   ]
  },
  {
   "cell_type": "markdown",
   "metadata": {},
   "source": [
    "### Save `word_dict`\n",
    "\n",
    "Later on when we construct an endpoint which processes a submitted review we will need to make use of the `word_dict` which we have created. As such, we will save it to a file now for future use."
   ]
  },
  {
   "cell_type": "code",
   "execution_count": 15,
   "metadata": {},
   "outputs": [],
   "source": [
    "data_dir = '../data/pytorch' # The folder we will use for storing data\n",
    "if not os.path.exists(data_dir): # Make sure that the folder exists\n",
    "    os.makedirs(data_dir)"
   ]
  },
  {
   "cell_type": "code",
   "execution_count": 16,
   "metadata": {},
   "outputs": [],
   "source": [
    "with open(os.path.join(data_dir, 'word_dict.pkl'), \"wb\") as f:\n",
    "    pickle.dump(word_dict, f)"
   ]
  },
  {
   "cell_type": "markdown",
   "metadata": {},
   "source": [
    "### Transform the reviews\n",
    "\n",
    "Now that we have our word dictionary which allows us to transform the words appearing in the reviews into integers, it is time to make use of it and convert our reviews to their integer sequence representation, making sure to pad or truncate to a fixed length, which in our case is `500`."
   ]
  },
  {
   "cell_type": "code",
   "execution_count": 17,
   "metadata": {},
   "outputs": [],
   "source": [
    "def convert_and_pad(word_dict, sentence, pad=500):\n",
    "    NOWORD = 0 # We will use 0 to represent the 'no word' category\n",
    "    INFREQ = 1 # and we use 1 to represent the infrequent words, i.e., words not appearing in word_dict\n",
    "    \n",
    "    working_sentence = [NOWORD] * pad\n",
    "    \n",
    "    for word_index, word in enumerate(sentence[:pad]):\n",
    "        if word in word_dict:\n",
    "            working_sentence[word_index] = word_dict[word]\n",
    "        else:\n",
    "            working_sentence[word_index] = INFREQ\n",
    "            \n",
    "    return working_sentence, min(len(sentence), pad)\n",
    "\n",
    "def convert_and_pad_data(word_dict, data, pad=500):\n",
    "    result = []\n",
    "    lengths = []\n",
    "    \n",
    "    for sentence in data:\n",
    "        converted, leng = convert_and_pad(word_dict, sentence, pad)\n",
    "        result.append(converted)\n",
    "        lengths.append(leng)\n",
    "        \n",
    "    return np.array(result), np.array(lengths)"
   ]
  },
  {
   "cell_type": "code",
   "execution_count": 18,
   "metadata": {},
   "outputs": [],
   "source": [
    "train_X, train_X_len = convert_and_pad_data(word_dict, train_X)\n",
    "test_X, test_X_len = convert_and_pad_data(word_dict, test_X)"
   ]
  },
  {
   "cell_type": "markdown",
   "metadata": {},
   "source": [
    "As a quick check to make sure that things are working as intended, check to see what one of the reviews in the training set looks like after having been processeed. Does this look reasonable? What is the length of a review in the training set?"
   ]
  },
  {
   "cell_type": "code",
   "execution_count": 19,
   "metadata": {},
   "outputs": [
    {
     "name": "stdout",
     "output_type": "stream",
     "text": [
      "[ 254   11    1    2  517   65 1718 4917    1  704  139   93 2039    1\n",
      "    1  107  237   51 1426  270  356  132  426   31   36   11   54   61\n",
      "    1  261   66    5 1245  500  665    1    3 3565  202   14 2042 1759\n",
      "  651  244 1929   68  852 1160    4   86  254 4143  181   36  163   61\n",
      "   31   11   15  385 2774    0    0    0    0    0    0    0    0    0\n",
      "    0    0    0    0    0    0    0    0    0    0    0    0    0    0\n",
      "    0    0    0    0    0    0    0    0    0    0    0    0    0    0\n",
      "    0    0    0    0    0    0    0    0    0    0    0    0    0    0\n",
      "    0    0    0    0    0    0    0    0    0    0    0    0    0    0\n",
      "    0    0    0    0    0    0    0    0    0    0    0    0    0    0\n",
      "    0    0    0    0    0    0    0    0    0    0    0    0    0    0\n",
      "    0    0    0    0    0    0    0    0    0    0    0    0    0    0\n",
      "    0    0    0    0    0    0    0    0    0    0    0    0    0    0\n",
      "    0    0    0    0    0    0    0    0    0    0    0    0    0    0\n",
      "    0    0    0    0    0    0    0    0    0    0    0    0    0    0\n",
      "    0    0    0    0    0    0    0    0    0    0    0    0    0    0\n",
      "    0    0    0    0    0    0    0    0    0    0    0    0    0    0\n",
      "    0    0    0    0    0    0    0    0    0    0    0    0    0    0\n",
      "    0    0    0    0    0    0    0    0    0    0    0    0    0    0\n",
      "    0    0    0    0    0    0    0    0    0    0    0    0    0    0\n",
      "    0    0    0    0    0    0    0    0    0    0    0    0    0    0\n",
      "    0    0    0    0    0    0    0    0    0    0    0    0    0    0\n",
      "    0    0    0    0    0    0    0    0    0    0    0    0    0    0\n",
      "    0    0    0    0    0    0    0    0    0    0    0    0    0    0\n",
      "    0    0    0    0    0    0    0    0    0    0    0    0    0    0\n",
      "    0    0    0    0    0    0    0    0    0    0    0    0    0    0\n",
      "    0    0    0    0    0    0    0    0    0    0    0    0    0    0\n",
      "    0    0    0    0    0    0    0    0    0    0    0    0    0    0\n",
      "    0    0    0    0    0    0    0    0    0    0    0    0    0    0\n",
      "    0    0    0    0    0    0    0    0    0    0    0    0    0    0\n",
      "    0    0    0    0    0    0    0    0    0    0    0    0    0    0\n",
      "    0    0    0    0    0    0    0    0    0    0    0    0    0    0\n",
      "    0    0    0    0    0    0    0    0    0    0    0    0    0    0\n",
      "    0    0    0    0    0    0    0    0    0    0    0    0    0    0\n",
      "    0    0    0    0    0    0    0    0    0    0    0    0    0    0\n",
      "    0    0    0    0    0    0    0    0    0    0]\n",
      "[ 500  197  279    7  351   55 2945    3  105  900  105  173  673 2055\n",
      "    3  478 2010 1395   88  769    1  592 1409  668  643 1874 3802  678\n",
      " 1594   48  145 4100  719  895    1 2662    3  332   86  477   77  234\n",
      "  365    1    1 2010    5 1190    4  789    1   39    5 3261    3  105\n",
      "  898    1   23  443  552    3  146  224    6    0    0    0    0    0\n",
      "    0    0    0    0    0    0    0    0    0    0    0    0    0    0\n",
      "    0    0    0    0    0    0    0    0    0    0    0    0    0    0\n",
      "    0    0    0    0    0    0    0    0    0    0    0    0    0    0\n",
      "    0    0    0    0    0    0    0    0    0    0    0    0    0    0\n",
      "    0    0    0    0    0    0    0    0    0    0    0    0    0    0\n",
      "    0    0    0    0    0    0    0    0    0    0    0    0    0    0\n",
      "    0    0    0    0    0    0    0    0    0    0    0    0    0    0\n",
      "    0    0    0    0    0    0    0    0    0    0    0    0    0    0\n",
      "    0    0    0    0    0    0    0    0    0    0    0    0    0    0\n",
      "    0    0    0    0    0    0    0    0    0    0    0    0    0    0\n",
      "    0    0    0    0    0    0    0    0    0    0    0    0    0    0\n",
      "    0    0    0    0    0    0    0    0    0    0    0    0    0    0\n",
      "    0    0    0    0    0    0    0    0    0    0    0    0    0    0\n",
      "    0    0    0    0    0    0    0    0    0    0    0    0    0    0\n",
      "    0    0    0    0    0    0    0    0    0    0    0    0    0    0\n",
      "    0    0    0    0    0    0    0    0    0    0    0    0    0    0\n",
      "    0    0    0    0    0    0    0    0    0    0    0    0    0    0\n",
      "    0    0    0    0    0    0    0    0    0    0    0    0    0    0\n",
      "    0    0    0    0    0    0    0    0    0    0    0    0    0    0\n",
      "    0    0    0    0    0    0    0    0    0    0    0    0    0    0\n",
      "    0    0    0    0    0    0    0    0    0    0    0    0    0    0\n",
      "    0    0    0    0    0    0    0    0    0    0    0    0    0    0\n",
      "    0    0    0    0    0    0    0    0    0    0    0    0    0    0\n",
      "    0    0    0    0    0    0    0    0    0    0    0    0    0    0\n",
      "    0    0    0    0    0    0    0    0    0    0    0    0    0    0\n",
      "    0    0    0    0    0    0    0    0    0    0    0    0    0    0\n",
      "    0    0    0    0    0    0    0    0    0    0    0    0    0    0\n",
      "    0    0    0    0    0    0    0    0    0    0    0    0    0    0\n",
      "    0    0    0    0    0    0    0    0    0    0    0    0    0    0\n",
      "    0    0    0    0    0    0    0    0    0    0    0    0    0    0\n",
      "    0    0    0    0    0    0    0    0    0    0]\n"
     ]
    }
   ],
   "source": [
    "# Use this cell to examine one of the processed reviews to make sure everything is working as intended.\n",
    "print(train_X[100])\n",
    "print(test_X[100])"
   ]
  },
  {
   "cell_type": "markdown",
   "metadata": {},
   "source": [
    "**Question:** In the cells above we use the `preprocess_data` and `convert_and_pad_data` methods to process both the training and testing set. Why or why not might this be a problem?"
   ]
  },
  {
   "cell_type": "markdown",
   "metadata": {},
   "source": [
    "**Answer:**\n",
    "\n",
    "I believe that it might not be a problem, because we are handling in the same way both datasets."
   ]
  },
  {
   "cell_type": "markdown",
   "metadata": {},
   "source": [
    "## Step 3: Upload the data to S3\n",
    "\n",
    "As in the XGBoost notebook, we will need to upload the training dataset to S3 in order for our training code to access it. For now we will save it locally and we will upload to S3 later on.\n",
    "\n",
    "### Save the processed training dataset locally\n",
    "\n",
    "It is important to note the format of the data that we are saving as we will need to know it when we write the training code. In our case, each row of the dataset has the form `label`, `length`, `review[500]` where `review[500]` is a sequence of `500` integers representing the words in the review."
   ]
  },
  {
   "cell_type": "code",
   "execution_count": 20,
   "metadata": {},
   "outputs": [],
   "source": [
    "import pandas as pd\n",
    "    \n",
    "pd.concat([pd.DataFrame(train_y), pd.DataFrame(train_X_len), pd.DataFrame(train_X)], axis=1) \\\n",
    "        .to_csv(os.path.join(data_dir, 'train.csv'), header=False, index=False)"
   ]
  },
  {
   "cell_type": "markdown",
   "metadata": {},
   "source": [
    "### Uploading the training data\n",
    "\n",
    "\n",
    "Next, we need to upload the training data to the SageMaker default S3 bucket so that we can provide access to it while training our model."
   ]
  },
  {
   "cell_type": "code",
   "execution_count": 21,
   "metadata": {},
   "outputs": [],
   "source": [
    "import sagemaker\n",
    "\n",
    "sagemaker_session = sagemaker.Session()\n",
    "\n",
    "bucket = sagemaker_session.default_bucket()\n",
    "prefix = 'sagemaker/sentiment_rnn'\n",
    "\n",
    "role = sagemaker.get_execution_role()"
   ]
  },
  {
   "cell_type": "code",
   "execution_count": 22,
   "metadata": {},
   "outputs": [],
   "source": [
    "input_data = sagemaker_session.upload_data(path=data_dir, bucket=bucket, key_prefix=prefix)"
   ]
  },
  {
   "cell_type": "markdown",
   "metadata": {},
   "source": [
    "**NOTE:** The cell above uploads the entire contents of our data directory. This includes the `word_dict.pkl` file. This is fortunate as we will need this later on when we create an endpoint that accepts an arbitrary review. For now, we will just take note of the fact that it resides in the data directory (and so also in the S3 training bucket) and that we will need to make sure it gets saved in the model directory."
   ]
  },
  {
   "cell_type": "markdown",
   "metadata": {},
   "source": [
    "## Step 4: Build and Train the PyTorch Model\n",
    "\n",
    "In the XGBoost notebook we discussed what a model is in the SageMaker framework. In particular, a model comprises three objects\n",
    "\n",
    " - Model Artifacts,\n",
    " - Training Code, and\n",
    " - Inference Code,\n",
    " \n",
    "each of which interact with one another. In the XGBoost example we used training and inference code that was provided by Amazon. Here we will still be using containers provided by Amazon with the added benefit of being able to include our own custom code.\n",
    "\n",
    "We will start by implementing our own neural network in PyTorch along with a training script. For the purposes of this project we have provided the necessary model object in the `model.py` file, inside of the `train` folder. You can see the provided implementation by running the cell below."
   ]
  },
  {
   "cell_type": "code",
   "execution_count": 23,
   "metadata": {
    "scrolled": false
   },
   "outputs": [
    {
     "name": "stdout",
     "output_type": "stream",
     "text": [
      "\u001b[34mimport\u001b[39;49;00m \u001b[04m\u001b[36mtorch\u001b[39;49;00m\u001b[04m\u001b[36m.\u001b[39;49;00m\u001b[04m\u001b[36mnn\u001b[39;49;00m \u001b[34mas\u001b[39;49;00m \u001b[04m\u001b[36mnn\u001b[39;49;00m\r\n",
      "\r\n",
      "\u001b[34mclass\u001b[39;49;00m \u001b[04m\u001b[32mLSTMClassifier\u001b[39;49;00m(nn.Module):\r\n",
      "    \u001b[33m\"\"\"\u001b[39;49;00m\r\n",
      "\u001b[33m    This is the simple RNN model we will be using to perform Sentiment Analysis.\u001b[39;49;00m\r\n",
      "\u001b[33m    \"\"\"\u001b[39;49;00m\r\n",
      "\r\n",
      "    \u001b[34mdef\u001b[39;49;00m \u001b[32m__init__\u001b[39;49;00m(\u001b[36mself\u001b[39;49;00m, embedding_dim, hidden_dim, vocab_size):\r\n",
      "        \u001b[33m\"\"\"\u001b[39;49;00m\r\n",
      "\u001b[33m        Initialize the model by settingg up the various layers.\u001b[39;49;00m\r\n",
      "\u001b[33m        \"\"\"\u001b[39;49;00m\r\n",
      "        \u001b[36msuper\u001b[39;49;00m(LSTMClassifier, \u001b[36mself\u001b[39;49;00m).\u001b[32m__init__\u001b[39;49;00m()\r\n",
      "\r\n",
      "        \u001b[36mself\u001b[39;49;00m.embedding = nn.Embedding(vocab_size, embedding_dim, padding_idx=\u001b[34m0\u001b[39;49;00m)\r\n",
      "        \u001b[36mself\u001b[39;49;00m.lstm = nn.LSTM(embedding_dim, hidden_dim)\r\n",
      "        \u001b[36mself\u001b[39;49;00m.dense = nn.Linear(in_features=hidden_dim, out_features=\u001b[34m1\u001b[39;49;00m)\r\n",
      "        \u001b[36mself\u001b[39;49;00m.sig = nn.Sigmoid()\r\n",
      "        \r\n",
      "        \u001b[36mself\u001b[39;49;00m.word_dict = \u001b[34mNone\u001b[39;49;00m\r\n",
      "\r\n",
      "    \u001b[34mdef\u001b[39;49;00m \u001b[32mforward\u001b[39;49;00m(\u001b[36mself\u001b[39;49;00m, x):\r\n",
      "        \u001b[33m\"\"\"\u001b[39;49;00m\r\n",
      "\u001b[33m        Perform a forward pass of our model on some input.\u001b[39;49;00m\r\n",
      "\u001b[33m        \"\"\"\u001b[39;49;00m\r\n",
      "        x = x.t()\r\n",
      "        lengths = x[\u001b[34m0\u001b[39;49;00m,:]\r\n",
      "        reviews = x[\u001b[34m1\u001b[39;49;00m:,:]\r\n",
      "        embeds = \u001b[36mself\u001b[39;49;00m.embedding(reviews)\r\n",
      "        lstm_out, _ = \u001b[36mself\u001b[39;49;00m.lstm(embeds)\r\n",
      "        out = \u001b[36mself\u001b[39;49;00m.dense(lstm_out)\r\n",
      "        out = out[lengths - \u001b[34m1\u001b[39;49;00m, \u001b[36mrange\u001b[39;49;00m(\u001b[36mlen\u001b[39;49;00m(lengths))]\r\n",
      "        \u001b[34mreturn\u001b[39;49;00m \u001b[36mself\u001b[39;49;00m.sig(out.squeeze())\r\n"
     ]
    }
   ],
   "source": [
    "!pygmentize train/model.py"
   ]
  },
  {
   "cell_type": "markdown",
   "metadata": {},
   "source": [
    "The important takeaway from the implementation provided is that there are three parameters that we may wish to tweak to improve the performance of our model. These are the embedding dimension, the hidden dimension and the size of the vocabulary. We will likely want to make these parameters configurable in the training script so that if we wish to modify them we do not need to modify the script itself. We will see how to do this later on. To start we will write some of the training code in the notebook so that we can more easily diagnose any issues that arise.\n",
    "\n",
    "First we will load a small portion of the training data set to use as a sample. It would be very time consuming to try and train the model completely in the notebook as we do not have access to a gpu and the compute instance that we are using is not particularly powerful. However, we can work on a small bit of the data to get a feel for how our training script is behaving."
   ]
  },
  {
   "cell_type": "code",
   "execution_count": 24,
   "metadata": {},
   "outputs": [],
   "source": [
    "import torch\n",
    "import torch.utils.data\n",
    "\n",
    "# Read in only the first 250 rows\n",
    "train_sample = pd.read_csv(os.path.join(data_dir, 'train.csv'), header=None, names=None, nrows=250)\n",
    "\n",
    "# Turn the input pandas dataframe into tensors\n",
    "train_sample_y = torch.from_numpy(train_sample[[0]].values).float().squeeze()\n",
    "train_sample_X = torch.from_numpy(train_sample.drop([0], axis=1).values).long()\n",
    "\n",
    "# Build the dataset\n",
    "train_sample_ds = torch.utils.data.TensorDataset(train_sample_X, train_sample_y)\n",
    "# Build the dataloader\n",
    "train_sample_dl = torch.utils.data.DataLoader(train_sample_ds, batch_size=50)"
   ]
  },
  {
   "cell_type": "markdown",
   "metadata": {},
   "source": [
    "### (TODO) Writing the training method\n",
    "\n",
    "Next we need to write the training code itself. This should be very similar to training methods that you have written before to train PyTorch models. We will leave any difficult aspects such as model saving / loading and parameter loading until a little later."
   ]
  },
  {
   "cell_type": "code",
   "execution_count": 25,
   "metadata": {},
   "outputs": [],
   "source": [
    "def train(model, train_loader, epochs, optimizer, loss_fn, device):\n",
    "    for epoch in range(1, epochs + 1):\n",
    "        model.train()\n",
    "        total_loss = 0\n",
    "        for batch in train_loader:         \n",
    "            batch_X, batch_y = batch\n",
    "            \n",
    "            batch_X = batch_X.to(device)\n",
    "            batch_y = batch_y.to(device)\n",
    "            \n",
    "            # TODO: Complete this train method to train the model provided.\n",
    "            optimizer.zero_grad()\n",
    "            output = model.forward(batch_X)\n",
    "            loss = loss_fn(output, batch_y)\n",
    "            loss.backward()\n",
    "            optimizer.step()\n",
    "            \n",
    "            total_loss += loss.data.item()\n",
    "        print(\"Epoch: {}, BCELoss: {}\".format(epoch, total_loss / len(train_loader)))"
   ]
  },
  {
   "cell_type": "markdown",
   "metadata": {},
   "source": [
    "Supposing we have the training method above, we will test that it is working by writing a bit of code in the notebook that executes our training method on the small sample training set that we loaded earlier. The reason for doing this in the notebook is so that we have an opportunity to fix any errors that arise early when they are easier to diagnose."
   ]
  },
  {
   "cell_type": "code",
   "execution_count": 26,
   "metadata": {},
   "outputs": [
    {
     "name": "stdout",
     "output_type": "stream",
     "text": [
      "Epoch: 1, BCELoss: 0.6943324089050293\n",
      "Epoch: 2, BCELoss: 0.685295045375824\n",
      "Epoch: 3, BCELoss: 0.6775429129600525\n",
      "Epoch: 4, BCELoss: 0.668672239780426\n",
      "Epoch: 5, BCELoss: 0.6572099447250366\n"
     ]
    }
   ],
   "source": [
    "import torch.optim as optim\n",
    "from train.model import LSTMClassifier\n",
    "\n",
    "device = torch.device(\"cuda\" if torch.cuda.is_available() else \"cpu\")\n",
    "model = LSTMClassifier(32, 100, 5000).to(device)\n",
    "optimizer = optim.Adam(model.parameters())\n",
    "loss_fn = torch.nn.BCELoss()\n",
    "\n",
    "train(model, train_sample_dl, 5, optimizer, loss_fn, device)"
   ]
  },
  {
   "cell_type": "markdown",
   "metadata": {},
   "source": [
    "In order to construct a PyTorch model using SageMaker we must provide SageMaker with a training script. We may optionally include a directory which will be copied to the container and from which our training code will be run. When the training container is executed it will check the uploaded directory (if there is one) for a `requirements.txt` file and install any required Python libraries, after which the training script will be run."
   ]
  },
  {
   "cell_type": "markdown",
   "metadata": {},
   "source": [
    "### (TODO) Training the model\n",
    "\n",
    "When a PyTorch model is constructed in SageMaker, an entry point must be specified. This is the Python file which will be executed when the model is trained. Inside of the `train` directory is a file called `train.py` which has been provided and which contains most of the necessary code to train our model. The only thing that is missing is the implementation of the `train()` method which you wrote earlier in this notebook.\n",
    "\n",
    "**TODO**: Copy the `train()` method written above and paste it into the `train/train.py` file where required.\n",
    "\n",
    "The way that SageMaker passes hyperparameters to the training script is by way of arguments. These arguments can then be parsed and used in the training script. To see how this is done take a look at the provided `train/train.py` file."
   ]
  },
  {
   "cell_type": "code",
   "execution_count": 27,
   "metadata": {},
   "outputs": [],
   "source": [
    "from sagemaker.pytorch import PyTorch\n",
    "\n",
    "estimator = PyTorch(entry_point=\"train.py\",\n",
    "                    source_dir=\"train\",\n",
    "                    role=role,\n",
    "                    framework_version='0.4.0',\n",
    "                    train_instance_count=1,\n",
    "                    train_instance_type='ml.p2.xlarge',\n",
    "                    hyperparameters={\n",
    "                        'epochs': 10,\n",
    "                        'hidden_dim': 200,\n",
    "                    })"
   ]
  },
  {
   "cell_type": "code",
   "execution_count": 28,
   "metadata": {},
   "outputs": [
    {
     "name": "stderr",
     "output_type": "stream",
     "text": [
      "'create_image_uri' will be deprecated in favor of 'ImageURIProvider' class in SageMaker Python SDK v2.\n",
      "'s3_input' class will be renamed to 'TrainingInput' in SageMaker Python SDK v2.\n",
      "'create_image_uri' will be deprecated in favor of 'ImageURIProvider' class in SageMaker Python SDK v2.\n"
     ]
    },
    {
     "name": "stdout",
     "output_type": "stream",
     "text": [
      "2021-02-16 13:48:53 Starting - Starting the training job...\n",
      "2021-02-16 13:48:55 Starting - Launching requested ML instances......\n",
      "2021-02-16 13:50:17 Starting - Preparing the instances for training......\n",
      "2021-02-16 13:51:19 Downloading - Downloading input data......\n",
      "2021-02-16 13:52:02 Training - Downloading the training image..\u001b[34mbash: cannot set terminal process group (-1): Inappropriate ioctl for device\u001b[0m\n",
      "\u001b[34mbash: no job control in this shell\u001b[0m\n",
      "\u001b[34m2021-02-16 13:52:28,167 sagemaker-containers INFO     Imported framework sagemaker_pytorch_container.training\u001b[0m\n",
      "\u001b[34m2021-02-16 13:52:28,192 sagemaker_pytorch_container.training INFO     Block until all host DNS lookups succeed.\u001b[0m\n",
      "\u001b[34m2021-02-16 13:52:29,614 sagemaker_pytorch_container.training INFO     Invoking user training script.\u001b[0m\n",
      "\u001b[34m2021-02-16 13:52:29,857 sagemaker-containers INFO     Module train does not provide a setup.py. \u001b[0m\n",
      "\u001b[34mGenerating setup.py\u001b[0m\n",
      "\u001b[34m2021-02-16 13:52:29,858 sagemaker-containers INFO     Generating setup.cfg\u001b[0m\n",
      "\u001b[34m2021-02-16 13:52:29,858 sagemaker-containers INFO     Generating MANIFEST.in\u001b[0m\n",
      "\u001b[34m2021-02-16 13:52:29,858 sagemaker-containers INFO     Installing module with the following command:\u001b[0m\n",
      "\u001b[34m/usr/bin/python -m pip install -U . -r requirements.txt\u001b[0m\n",
      "\u001b[34mProcessing /opt/ml/code\u001b[0m\n",
      "\u001b[34mCollecting pandas (from -r requirements.txt (line 1))\n",
      "  Downloading https://files.pythonhosted.org/packages/74/24/0cdbf8907e1e3bc5a8da03345c23cbed7044330bb8f73bb12e711a640a00/pandas-0.24.2-cp35-cp35m-manylinux1_x86_64.whl (10.0MB)\u001b[0m\n",
      "\u001b[34mCollecting numpy (from -r requirements.txt (line 2))\n",
      "  Downloading https://files.pythonhosted.org/packages/b5/36/88723426b4ff576809fec7d73594fe17a35c27f8d01f93637637a29ae25b/numpy-1.18.5-cp35-cp35m-manylinux1_x86_64.whl (19.9MB)\u001b[0m\n",
      "\u001b[34mCollecting nltk (from -r requirements.txt (line 3))\n",
      "  Downloading https://files.pythonhosted.org/packages/92/75/ce35194d8e3022203cca0d2f896dbb88689f9b3fce8e9f9cff942913519d/nltk-3.5.zip (1.4MB)\u001b[0m\n",
      "\u001b[34mCollecting beautifulsoup4 (from -r requirements.txt (line 4))\n",
      "  Downloading https://files.pythonhosted.org/packages/d1/41/e6495bd7d3781cee623ce23ea6ac73282a373088fcd0ddc809a047b18eae/beautifulsoup4-4.9.3-py3-none-any.whl (115kB)\u001b[0m\n",
      "\u001b[34mCollecting html5lib (from -r requirements.txt (line 5))\n",
      "  Downloading https://files.pythonhosted.org/packages/6c/dd/a834df6482147d48e225a49515aabc28974ad5a4ca3215c18a882565b028/html5lib-1.1-py2.py3-none-any.whl (112kB)\u001b[0m\n",
      "\u001b[34mCollecting pytz>=2011k (from pandas->-r requirements.txt (line 1))\n",
      "  Downloading https://files.pythonhosted.org/packages/70/94/784178ca5dd892a98f113cdd923372024dc04b8d40abe77ca76b5fb90ca6/pytz-2021.1-py2.py3-none-any.whl (510kB)\u001b[0m\n",
      "\u001b[34mRequirement already satisfied, skipping upgrade: python-dateutil>=2.5.0 in /usr/local/lib/python3.5/dist-packages (from pandas->-r requirements.txt (line 1)) (2.7.5)\u001b[0m\n",
      "\u001b[34mRequirement already satisfied, skipping upgrade: click in /usr/local/lib/python3.5/dist-packages (from nltk->-r requirements.txt (line 3)) (7.0)\u001b[0m\n",
      "\u001b[34mCollecting joblib (from nltk->-r requirements.txt (line 3))\n",
      "  Downloading https://files.pythonhosted.org/packages/28/5c/cf6a2b65a321c4a209efcdf64c2689efae2cb62661f8f6f4bb28547cf1bf/joblib-0.14.1-py2.py3-none-any.whl (294kB)\u001b[0m\n",
      "\u001b[34mCollecting regex (from nltk->-r requirements.txt (line 3))\u001b[0m\n",
      "\u001b[34m  Downloading https://files.pythonhosted.org/packages/2e/e4/3447fed9ab29944333f48730ecff4dca92f0868c5b188d6ab2b2078e32c2/regex-2020.11.13.tar.gz (694kB)\u001b[0m\n",
      "\u001b[34mCollecting tqdm (from nltk->-r requirements.txt (line 3))\n",
      "  Downloading https://files.pythonhosted.org/packages/b3/db/dcda019790a8d989b8b0e7290f1c651a0aaef10bbe6af00032155e04858d/tqdm-4.56.2-py2.py3-none-any.whl (72kB)\u001b[0m\n",
      "\u001b[34mCollecting soupsieve>1.2; python_version >= \"3.0\" (from beautifulsoup4->-r requirements.txt (line 4))\u001b[0m\n",
      "\u001b[34m  Downloading https://files.pythonhosted.org/packages/02/fb/1c65691a9aeb7bd6ac2aa505b84cb8b49ac29c976411c6ab3659425e045f/soupsieve-2.1-py3-none-any.whl\u001b[0m\n",
      "\u001b[34mRequirement already satisfied, skipping upgrade: six>=1.9 in /usr/local/lib/python3.5/dist-packages (from html5lib->-r requirements.txt (line 5)) (1.11.0)\u001b[0m\n",
      "\u001b[34mCollecting webencodings (from html5lib->-r requirements.txt (line 5))\n",
      "  Downloading https://files.pythonhosted.org/packages/f4/24/2a3e3df732393fed8b3ebf2ec078f05546de641fe1b667ee316ec1dcf3b7/webencodings-0.5.1-py2.py3-none-any.whl\u001b[0m\n",
      "\u001b[34mBuilding wheels for collected packages: nltk, train, regex\n",
      "  Running setup.py bdist_wheel for nltk: started\n",
      "  Running setup.py bdist_wheel for nltk: finished with status 'done'\n",
      "  Stored in directory: /root/.cache/pip/wheels/ae/8c/3f/b1fe0ba04555b08b57ab52ab7f86023639a526d8bc8d384306\u001b[0m\n",
      "\u001b[34m  Running setup.py bdist_wheel for train: started\n",
      "  Running setup.py bdist_wheel for train: finished with status 'done'\n",
      "  Stored in directory: /tmp/pip-ephem-wheel-cache-3a94brj3/wheels/35/24/16/37574d11bf9bde50616c67372a334f94fa8356bc7164af8ca3\n",
      "  Running setup.py bdist_wheel for regex: started\u001b[0m\n",
      "\n",
      "2021-02-16 13:52:27 Training - Training image download completed. Training in progress.\u001b[34m  Running setup.py bdist_wheel for regex: finished with status 'done'\n",
      "  Stored in directory: /root/.cache/pip/wheels/27/f6/66/a4243e485a0ebc73dc59033ae26c48e82526f77dbfe158ac59\u001b[0m\n",
      "\u001b[34mSuccessfully built nltk train regex\u001b[0m\n",
      "\u001b[34mInstalling collected packages: pytz, numpy, pandas, joblib, regex, tqdm, nltk, soupsieve, beautifulsoup4, webencodings, html5lib, train\n",
      "  Found existing installation: numpy 1.15.4\u001b[0m\n",
      "\u001b[34m    Uninstalling numpy-1.15.4:\n",
      "      Successfully uninstalled numpy-1.15.4\u001b[0m\n",
      "\u001b[34mSuccessfully installed beautifulsoup4-4.9.3 html5lib-1.1 joblib-0.14.1 nltk-3.5 numpy-1.18.5 pandas-0.24.2 pytz-2021.1 regex-2020.11.13 soupsieve-2.1 tqdm-4.56.2 train-1.0.0 webencodings-0.5.1\u001b[0m\n",
      "\u001b[34mYou are using pip version 18.1, however version 20.3.4 is available.\u001b[0m\n",
      "\u001b[34mYou should consider upgrading via the 'pip install --upgrade pip' command.\u001b[0m\n",
      "\u001b[34m2021-02-16 13:52:54,075 sagemaker-containers INFO     Invoking user script\n",
      "\u001b[0m\n",
      "\u001b[34mTraining Env:\n",
      "\u001b[0m\n",
      "\u001b[34m{\n",
      "    \"network_interface_name\": \"eth0\",\n",
      "    \"resource_config\": {\n",
      "        \"network_interface_name\": \"eth0\",\n",
      "        \"current_host\": \"algo-1\",\n",
      "        \"hosts\": [\n",
      "            \"algo-1\"\n",
      "        ]\n",
      "    },\n",
      "    \"hyperparameters\": {\n",
      "        \"epochs\": 10,\n",
      "        \"hidden_dim\": 200\n",
      "    },\n",
      "    \"hosts\": [\n",
      "        \"algo-1\"\n",
      "    ],\n",
      "    \"num_gpus\": 1,\n",
      "    \"output_intermediate_dir\": \"/opt/ml/output/intermediate\",\n",
      "    \"model_dir\": \"/opt/ml/model\",\n",
      "    \"framework_module\": \"sagemaker_pytorch_container.training:main\",\n",
      "    \"input_data_config\": {\n",
      "        \"training\": {\n",
      "            \"TrainingInputMode\": \"File\",\n",
      "            \"RecordWrapperType\": \"None\",\n",
      "            \"S3DistributionType\": \"FullyReplicated\"\n",
      "        }\n",
      "    },\n",
      "    \"module_dir\": \"s3://sagemaker-us-east-2-628865527165/sagemaker-pytorch-2021-02-16-13-48-53-196/source/sourcedir.tar.gz\",\n",
      "    \"current_host\": \"algo-1\",\n",
      "    \"user_entry_point\": \"train.py\",\n",
      "    \"output_data_dir\": \"/opt/ml/output/data\",\n",
      "    \"output_dir\": \"/opt/ml/output\",\n",
      "    \"input_dir\": \"/opt/ml/input\",\n",
      "    \"job_name\": \"sagemaker-pytorch-2021-02-16-13-48-53-196\",\n",
      "    \"num_cpus\": 4,\n",
      "    \"channel_input_dirs\": {\n",
      "        \"training\": \"/opt/ml/input/data/training\"\n",
      "    },\n",
      "    \"input_config_dir\": \"/opt/ml/input/config\",\n",
      "    \"log_level\": 20,\n",
      "    \"module_name\": \"train\",\n",
      "    \"additional_framework_parameters\": {}\u001b[0m\n",
      "\u001b[34m}\n",
      "\u001b[0m\n",
      "\u001b[34mEnvironment variables:\n",
      "\u001b[0m\n",
      "\u001b[34mSM_CURRENT_HOST=algo-1\u001b[0m\n",
      "\u001b[34mSM_CHANNEL_TRAINING=/opt/ml/input/data/training\u001b[0m\n",
      "\u001b[34mSM_USER_ARGS=[\"--epochs\",\"10\",\"--hidden_dim\",\"200\"]\u001b[0m\n",
      "\u001b[34mSM_FRAMEWORK_PARAMS={}\u001b[0m\n",
      "\u001b[34mSM_LOG_LEVEL=20\u001b[0m\n",
      "\u001b[34mSM_NETWORK_INTERFACE_NAME=eth0\u001b[0m\n",
      "\u001b[34mSM_CHANNELS=[\"training\"]\u001b[0m\n",
      "\u001b[34mSM_HPS={\"epochs\":10,\"hidden_dim\":200}\u001b[0m\n",
      "\u001b[34mSM_INPUT_CONFIG_DIR=/opt/ml/input/config\u001b[0m\n",
      "\u001b[34mSM_TRAINING_ENV={\"additional_framework_parameters\":{},\"channel_input_dirs\":{\"training\":\"/opt/ml/input/data/training\"},\"current_host\":\"algo-1\",\"framework_module\":\"sagemaker_pytorch_container.training:main\",\"hosts\":[\"algo-1\"],\"hyperparameters\":{\"epochs\":10,\"hidden_dim\":200},\"input_config_dir\":\"/opt/ml/input/config\",\"input_data_config\":{\"training\":{\"RecordWrapperType\":\"None\",\"S3DistributionType\":\"FullyReplicated\",\"TrainingInputMode\":\"File\"}},\"input_dir\":\"/opt/ml/input\",\"job_name\":\"sagemaker-pytorch-2021-02-16-13-48-53-196\",\"log_level\":20,\"model_dir\":\"/opt/ml/model\",\"module_dir\":\"s3://sagemaker-us-east-2-628865527165/sagemaker-pytorch-2021-02-16-13-48-53-196/source/sourcedir.tar.gz\",\"module_name\":\"train\",\"network_interface_name\":\"eth0\",\"num_cpus\":4,\"num_gpus\":1,\"output_data_dir\":\"/opt/ml/output/data\",\"output_dir\":\"/opt/ml/output\",\"output_intermediate_dir\":\"/opt/ml/output/intermediate\",\"resource_config\":{\"current_host\":\"algo-1\",\"hosts\":[\"algo-1\"],\"network_interface_name\":\"eth0\"},\"user_entry_point\":\"train.py\"}\u001b[0m\n",
      "\u001b[34mSM_OUTPUT_DIR=/opt/ml/output\u001b[0m\n",
      "\u001b[34mSM_NUM_GPUS=1\u001b[0m\n",
      "\u001b[34mSM_USER_ENTRY_POINT=train.py\u001b[0m\n",
      "\u001b[34mSM_INPUT_DATA_CONFIG={\"training\":{\"RecordWrapperType\":\"None\",\"S3DistributionType\":\"FullyReplicated\",\"TrainingInputMode\":\"File\"}}\u001b[0m\n",
      "\u001b[34mSM_HP_HIDDEN_DIM=200\u001b[0m\n",
      "\u001b[34mSM_MODULE_DIR=s3://sagemaker-us-east-2-628865527165/sagemaker-pytorch-2021-02-16-13-48-53-196/source/sourcedir.tar.gz\u001b[0m\n",
      "\u001b[34mSM_OUTPUT_INTERMEDIATE_DIR=/opt/ml/output/intermediate\u001b[0m\n",
      "\u001b[34mSM_HP_EPOCHS=10\u001b[0m\n",
      "\u001b[34mSM_OUTPUT_DATA_DIR=/opt/ml/output/data\u001b[0m\n",
      "\u001b[34mSM_MODULE_NAME=train\u001b[0m\n",
      "\u001b[34mSM_MODEL_DIR=/opt/ml/model\u001b[0m\n",
      "\u001b[34mSM_INPUT_DIR=/opt/ml/input\u001b[0m\n",
      "\u001b[34mSM_NUM_CPUS=4\u001b[0m\n",
      "\u001b[34mPYTHONPATH=/usr/local/bin:/usr/lib/python35.zip:/usr/lib/python3.5:/usr/lib/python3.5/plat-x86_64-linux-gnu:/usr/lib/python3.5/lib-dynload:/usr/local/lib/python3.5/dist-packages:/usr/lib/python3/dist-packages\u001b[0m\n",
      "\u001b[34mSM_RESOURCE_CONFIG={\"current_host\":\"algo-1\",\"hosts\":[\"algo-1\"],\"network_interface_name\":\"eth0\"}\u001b[0m\n",
      "\u001b[34mSM_FRAMEWORK_MODULE=sagemaker_pytorch_container.training:main\u001b[0m\n",
      "\u001b[34mSM_HOSTS=[\"algo-1\"]\n",
      "\u001b[0m\n",
      "\u001b[34mInvoking script with the following command:\n",
      "\u001b[0m\n",
      "\u001b[34m/usr/bin/python -m train --epochs 10 --hidden_dim 200\n",
      "\n",
      "\u001b[0m\n",
      "\u001b[34mUsing device cuda.\u001b[0m\n",
      "\u001b[34mGet train data loader.\u001b[0m\n"
     ]
    },
    {
     "name": "stdout",
     "output_type": "stream",
     "text": [
      "\u001b[34mModel loaded with embedding_dim 32, hidden_dim 200, vocab_size 5000.\u001b[0m\n",
      "\u001b[34mEpoch: 1, BCELoss: 0.67067993295436\u001b[0m\n",
      "\u001b[34mEpoch: 2, BCELoss: 0.59699012673631\u001b[0m\n",
      "\u001b[34mEpoch: 3, BCELoss: 0.4991484691902083\u001b[0m\n",
      "\u001b[34mEpoch: 4, BCELoss: 0.4346178295660992\u001b[0m\n",
      "\u001b[34mEpoch: 5, BCELoss: 0.3737112897999433\u001b[0m\n",
      "\u001b[34mEpoch: 6, BCELoss: 0.34149162380062803\u001b[0m\n",
      "\u001b[34mEpoch: 7, BCELoss: 0.32596027060430877\u001b[0m\n",
      "\u001b[34mEpoch: 8, BCELoss: 0.29256049072255896\u001b[0m\n",
      "\u001b[34mEpoch: 9, BCELoss: 0.27429455914059464\u001b[0m\n",
      "\n",
      "2021-02-16 13:55:52 Uploading - Uploading generated training model\u001b[34mEpoch: 10, BCELoss: 0.277137816864617\u001b[0m\n",
      "\u001b[34m2021-02-16 13:55:51,884 sagemaker-containers INFO     Reporting training SUCCESS\u001b[0m\n",
      "\n",
      "2021-02-16 13:55:59 Completed - Training job completed\n",
      "Training seconds: 280\n",
      "Billable seconds: 280\n"
     ]
    }
   ],
   "source": [
    "estimator.fit({'training': input_data})"
   ]
  },
  {
   "cell_type": "markdown",
   "metadata": {},
   "source": [
    "## Step 5: Testing the model\n",
    "\n",
    "As mentioned at the top of this notebook, we will be testing this model by first deploying it and then sending the testing data to the deployed endpoint. We will do this so that we can make sure that the deployed model is working correctly.\n",
    "\n",
    "## Step 6: Deploy the model for testing\n",
    "\n",
    "Now that we have trained our model, we would like to test it to see how it performs. Currently our model takes input of the form `review_length, review[500]` where `review[500]` is a sequence of `500` integers which describe the words present in the review, encoded using `word_dict`. Fortunately for us, SageMaker provides built-in inference code for models with simple inputs such as this.\n",
    "\n",
    "There is one thing that we need to provide, however, and that is a function which loads the saved model. This function must be called `model_fn()` and takes as its only parameter a path to the directory where the model artifacts are stored. This function must also be present in the python file which we specified as the entry point. In our case the model loading function has been provided and so no changes need to be made.\n",
    "\n",
    "**NOTE**: When the built-in inference code is run it must import the `model_fn()` method from the `train.py` file. This is why the training code is wrapped in a main guard ( ie, `if __name__ == '__main__':` )\n",
    "\n",
    "Since we don't need to change anything in the code that was uploaded during training, we can simply deploy the current model as-is.\n",
    "\n",
    "**NOTE:** When deploying a model you are asking SageMaker to launch an compute instance that will wait for data to be sent to it. As a result, this compute instance will continue to run until *you* shut it down. This is important to know since the cost of a deployed endpoint depends on how long it has been running for.\n",
    "\n",
    "In other words **If you are no longer using a deployed endpoint, shut it down!**\n",
    "\n",
    "**TODO:** Deploy the trained model."
   ]
  },
  {
   "cell_type": "code",
   "execution_count": 45,
   "metadata": {
    "scrolled": false
   },
   "outputs": [
    {
     "name": "stderr",
     "output_type": "stream",
     "text": [
      "Parameter image will be renamed to image_uri in SageMaker Python SDK v2.\n",
      "'create_image_uri' will be deprecated in favor of 'ImageURIProvider' class in SageMaker Python SDK v2.\n",
      "Using already existing model: sagemaker-pytorch-2021-02-16-13-48-53-196\n"
     ]
    },
    {
     "name": "stdout",
     "output_type": "stream",
     "text": [
      "---------------!"
     ]
    }
   ],
   "source": [
    "# TODO: Deploy the trained model\n",
    "predictor = estimator.deploy(initial_instance_count=1, instance_type='ml.m4.xlarge')"
   ]
  },
  {
   "cell_type": "markdown",
   "metadata": {},
   "source": [
    "## Step 7 - Use the model for testing\n",
    "\n",
    "Once deployed, we can read in the test data and send it off to our deployed model to get some results. Once we collect all of the results we can determine how accurate our model is."
   ]
  },
  {
   "cell_type": "code",
   "execution_count": 46,
   "metadata": {},
   "outputs": [],
   "source": [
    "test_X = pd.concat([pd.DataFrame(test_X_len), pd.DataFrame(test_X)], axis=1)"
   ]
  },
  {
   "cell_type": "code",
   "execution_count": 47,
   "metadata": {},
   "outputs": [],
   "source": [
    "# We split the data into chunks and send each chunk seperately, accumulating the results.\n",
    "\n",
    "def predict(data, rows=512):\n",
    "    split_array = np.array_split(data, int(data.shape[0] / float(rows) + 1))\n",
    "    predictions = np.array([])\n",
    "    for array in split_array:\n",
    "        predictions = np.append(predictions, predictor.predict(array))\n",
    "    \n",
    "    return predictions"
   ]
  },
  {
   "cell_type": "code",
   "execution_count": 48,
   "metadata": {},
   "outputs": [],
   "source": [
    "predictions = predict(test_X.values)\n",
    "predictions = [round(num) for num in predictions]"
   ]
  },
  {
   "cell_type": "code",
   "execution_count": 49,
   "metadata": {},
   "outputs": [
    {
     "data": {
      "text/plain": [
       "0.84328"
      ]
     },
     "execution_count": 49,
     "metadata": {},
     "output_type": "execute_result"
    }
   ],
   "source": [
    "from sklearn.metrics import accuracy_score\n",
    "accuracy_score(test_y, predictions)"
   ]
  },
  {
   "cell_type": "markdown",
   "metadata": {},
   "source": [
    "**Question:** How does this model compare to the XGBoost model you created earlier? Why might these two models perform differently on this dataset? Which do *you* think is better for sentiment analysis?"
   ]
  },
  {
   "cell_type": "markdown",
   "metadata": {},
   "source": [
    "**Answer:**\n",
    "\n",
    "LSTM and XGBoost model performed similarly. In my opinion, LSTM model may perform better for sentment analysis, increasing the epochs and the batch size.\n",
    "\n",
    "I believe that LSTM models can learn more from the datasets than XGBoost model, because it has the ability of \"remember\" how a negative or posistive review should looks like, giving us more accurate results."
   ]
  },
  {
   "cell_type": "markdown",
   "metadata": {},
   "source": [
    "### (TODO) More testing\n",
    "\n",
    "We now have a trained model which has been deployed and which we can send processed reviews to and which returns the predicted sentiment. However, ultimately we would like to be able to send our model an unprocessed review. That is, we would like to send the review itself as a string. For example, suppose we wish to send the following review to our model."
   ]
  },
  {
   "cell_type": "code",
   "execution_count": 50,
   "metadata": {},
   "outputs": [],
   "source": [
    "test_review = 'The simplest pleasures in life are the best, and this film is one of them. Combining a rather basic storyline of love and adventure this movie transcends the usual weekend fair with wit and unmitigated charm.'"
   ]
  },
  {
   "cell_type": "markdown",
   "metadata": {},
   "source": [
    "The question we now need to answer is, how do we send this review to our model?\n",
    "\n",
    "Recall in the first section of this notebook we did a bunch of data processing to the IMDb dataset. In particular, we did two specific things to the provided reviews.\n",
    " - Removed any html tags and stemmed the input\n",
    " - Encoded the review as a sequence of integers using `word_dict`\n",
    " \n",
    "In order process the review we will need to repeat these two steps.\n",
    "\n",
    "**TODO**: Using the `review_to_words` and `convert_and_pad` methods from section one, convert `test_review` into a numpy array `test_data` suitable to send to our model. Remember that our model expects input of the form `review_length, review[500]`."
   ]
  },
  {
   "cell_type": "code",
   "execution_count": 51,
   "metadata": {},
   "outputs": [],
   "source": [
    "# TODO: Convert test_review into a form usable by the model and save the results in test_data\n",
    "test_data = review_to_words(test_review)\n",
    "test_data = [np.array(convert_and_pad(word_dict, test_data)[0])]"
   ]
  },
  {
   "cell_type": "markdown",
   "metadata": {},
   "source": [
    "Now that we have processed the review, we can send the resulting array to our model to predict the sentiment of the review."
   ]
  },
  {
   "cell_type": "code",
   "execution_count": 52,
   "metadata": {},
   "outputs": [
    {
     "data": {
      "text/plain": [
       "array(0.5672157, dtype=float32)"
      ]
     },
     "execution_count": 52,
     "metadata": {},
     "output_type": "execute_result"
    }
   ],
   "source": [
    "predictor.predict(test_data)"
   ]
  },
  {
   "cell_type": "markdown",
   "metadata": {},
   "source": [
    "Since the return value of our model is close to `1`, we can be certain that the review we submitted is positive."
   ]
  },
  {
   "cell_type": "markdown",
   "metadata": {},
   "source": [
    "### Delete the endpoint\n",
    "\n",
    "Of course, just like in the XGBoost notebook, once we've deployed an endpoint it continues to run until we tell it to shut down. Since we are done using our endpoint for now, we can delete it."
   ]
  },
  {
   "cell_type": "code",
   "execution_count": 55,
   "metadata": {
    "scrolled": true
   },
   "outputs": [
    {
     "name": "stderr",
     "output_type": "stream",
     "text": [
      "estimator.delete_endpoint() will be deprecated in SageMaker Python SDK v2. Please use the delete_endpoint() function on your predictor instead.\n"
     ]
    }
   ],
   "source": [
    "estimator.delete_endpoint()"
   ]
  },
  {
   "cell_type": "markdown",
   "metadata": {},
   "source": [
    "## Step 6 (again) - Deploy the model for the web app\n",
    "\n",
    "Now that we know that our model is working, it's time to create some custom inference code so that we can send the model a review which has not been processed and have it determine the sentiment of the review.\n",
    "\n",
    "As we saw above, by default the estimator which we created, when deployed, will use the entry script and directory which we provided when creating the model. However, since we now wish to accept a string as input and our model expects a processed review, we need to write some custom inference code.\n",
    "\n",
    "We will store the code that we write in the `serve` directory. Provided in this directory is the `model.py` file that we used to construct our model, a `utils.py` file which contains the `review_to_words` and `convert_and_pad` pre-processing functions which we used during the initial data processing, and `predict.py`, the file which will contain our custom inference code. Note also that `requirements.txt` is present which will tell SageMaker what Python libraries are required by our custom inference code.\n",
    "\n",
    "When deploying a PyTorch model in SageMaker, you are expected to provide four functions which the SageMaker inference container will use.\n",
    " - `model_fn`: This function is the same function that we used in the training script and it tells SageMaker how to load our model.\n",
    " - `input_fn`: This function receives the raw serialized input that has been sent to the model's endpoint and its job is to de-serialize and make the input available for the inference code.\n",
    " - `output_fn`: This function takes the output of the inference code and its job is to serialize this output and return it to the caller of the model's endpoint.\n",
    " - `predict_fn`: The heart of the inference script, this is where the actual prediction is done and is the function which you will need to complete.\n",
    "\n",
    "For the simple website that we are constructing during this project, the `input_fn` and `output_fn` methods are relatively straightforward. We only require being able to accept a string as input and we expect to return a single value as output. You might imagine though that in a more complex application the input or output may be image data or some other binary data which would require some effort to serialize.\n",
    "\n",
    "### (TODO) Writing inference code\n",
    "\n",
    "Before writing our custom inference code, we will begin by taking a look at the code which has been provided."
   ]
  },
  {
   "cell_type": "code",
   "execution_count": 63,
   "metadata": {
    "scrolled": true
   },
   "outputs": [
    {
     "name": "stdout",
     "output_type": "stream",
     "text": [
      "\u001b[34mimport\u001b[39;49;00m \u001b[04m\u001b[36margparse\u001b[39;49;00m\r\n",
      "\u001b[34mimport\u001b[39;49;00m \u001b[04m\u001b[36mjson\u001b[39;49;00m\r\n",
      "\u001b[34mimport\u001b[39;49;00m \u001b[04m\u001b[36mos\u001b[39;49;00m\r\n",
      "\u001b[34mimport\u001b[39;49;00m \u001b[04m\u001b[36mpickle\u001b[39;49;00m\r\n",
      "\u001b[34mimport\u001b[39;49;00m \u001b[04m\u001b[36msys\u001b[39;49;00m\r\n",
      "\u001b[34mimport\u001b[39;49;00m \u001b[04m\u001b[36msagemaker_containers\u001b[39;49;00m\r\n",
      "\u001b[34mimport\u001b[39;49;00m \u001b[04m\u001b[36mpandas\u001b[39;49;00m \u001b[34mas\u001b[39;49;00m \u001b[04m\u001b[36mpd\u001b[39;49;00m\r\n",
      "\u001b[34mimport\u001b[39;49;00m \u001b[04m\u001b[36mnumpy\u001b[39;49;00m \u001b[34mas\u001b[39;49;00m \u001b[04m\u001b[36mnp\u001b[39;49;00m\r\n",
      "\u001b[34mimport\u001b[39;49;00m \u001b[04m\u001b[36mtorch\u001b[39;49;00m\r\n",
      "\u001b[34mimport\u001b[39;49;00m \u001b[04m\u001b[36mtorch\u001b[39;49;00m\u001b[04m\u001b[36m.\u001b[39;49;00m\u001b[04m\u001b[36mnn\u001b[39;49;00m \u001b[34mas\u001b[39;49;00m \u001b[04m\u001b[36mnn\u001b[39;49;00m\r\n",
      "\u001b[34mimport\u001b[39;49;00m \u001b[04m\u001b[36mtorch\u001b[39;49;00m\u001b[04m\u001b[36m.\u001b[39;49;00m\u001b[04m\u001b[36moptim\u001b[39;49;00m \u001b[34mas\u001b[39;49;00m \u001b[04m\u001b[36moptim\u001b[39;49;00m\r\n",
      "\u001b[34mimport\u001b[39;49;00m \u001b[04m\u001b[36mtorch\u001b[39;49;00m\u001b[04m\u001b[36m.\u001b[39;49;00m\u001b[04m\u001b[36mutils\u001b[39;49;00m\u001b[04m\u001b[36m.\u001b[39;49;00m\u001b[04m\u001b[36mdata\u001b[39;49;00m\r\n",
      "\r\n",
      "\u001b[34mfrom\u001b[39;49;00m \u001b[04m\u001b[36mmodel\u001b[39;49;00m \u001b[34mimport\u001b[39;49;00m LSTMClassifier\r\n",
      "\r\n",
      "\u001b[34mfrom\u001b[39;49;00m \u001b[04m\u001b[36mutils\u001b[39;49;00m \u001b[34mimport\u001b[39;49;00m review_to_words, convert_and_pad\r\n",
      "\r\n",
      "\u001b[34mdef\u001b[39;49;00m \u001b[32mmodel_fn\u001b[39;49;00m(model_dir):\r\n",
      "    \u001b[33m\"\"\"Load the PyTorch model from the `model_dir` directory.\"\"\"\u001b[39;49;00m\r\n",
      "    \u001b[36mprint\u001b[39;49;00m(\u001b[33m\"\u001b[39;49;00m\u001b[33mLoading model.\u001b[39;49;00m\u001b[33m\"\u001b[39;49;00m)\r\n",
      "\r\n",
      "    \u001b[37m# First, load the parameters used to create the model.\u001b[39;49;00m\r\n",
      "    model_info = {}\r\n",
      "    model_info_path = os.path.join(model_dir, \u001b[33m'\u001b[39;49;00m\u001b[33mmodel_info.pth\u001b[39;49;00m\u001b[33m'\u001b[39;49;00m)\r\n",
      "    \u001b[34mwith\u001b[39;49;00m \u001b[36mopen\u001b[39;49;00m(model_info_path, \u001b[33m'\u001b[39;49;00m\u001b[33mrb\u001b[39;49;00m\u001b[33m'\u001b[39;49;00m) \u001b[34mas\u001b[39;49;00m f:\r\n",
      "        model_info = torch.load(f)\r\n",
      "\r\n",
      "    \u001b[36mprint\u001b[39;49;00m(\u001b[33m\"\u001b[39;49;00m\u001b[33mmodel_info: \u001b[39;49;00m\u001b[33m{}\u001b[39;49;00m\u001b[33m\"\u001b[39;49;00m.format(model_info))\r\n",
      "\r\n",
      "    \u001b[37m# Determine the device and construct the model.\u001b[39;49;00m\r\n",
      "    device = torch.device(\u001b[33m\"\u001b[39;49;00m\u001b[33mcuda\u001b[39;49;00m\u001b[33m\"\u001b[39;49;00m \u001b[34mif\u001b[39;49;00m torch.cuda.is_available() \u001b[34melse\u001b[39;49;00m \u001b[33m\"\u001b[39;49;00m\u001b[33mcpu\u001b[39;49;00m\u001b[33m\"\u001b[39;49;00m)\r\n",
      "    model = LSTMClassifier(model_info[\u001b[33m'\u001b[39;49;00m\u001b[33membedding_dim\u001b[39;49;00m\u001b[33m'\u001b[39;49;00m], model_info[\u001b[33m'\u001b[39;49;00m\u001b[33mhidden_dim\u001b[39;49;00m\u001b[33m'\u001b[39;49;00m], model_info[\u001b[33m'\u001b[39;49;00m\u001b[33mvocab_size\u001b[39;49;00m\u001b[33m'\u001b[39;49;00m])\r\n",
      "\r\n",
      "    \u001b[37m# Load the store model parameters.\u001b[39;49;00m\r\n",
      "    model_path = os.path.join(model_dir, \u001b[33m'\u001b[39;49;00m\u001b[33mmodel.pth\u001b[39;49;00m\u001b[33m'\u001b[39;49;00m)\r\n",
      "    \u001b[34mwith\u001b[39;49;00m \u001b[36mopen\u001b[39;49;00m(model_path, \u001b[33m'\u001b[39;49;00m\u001b[33mrb\u001b[39;49;00m\u001b[33m'\u001b[39;49;00m) \u001b[34mas\u001b[39;49;00m f:\r\n",
      "        model.load_state_dict(torch.load(f))\r\n",
      "\r\n",
      "    \u001b[37m# Load the saved word_dict.\u001b[39;49;00m\r\n",
      "    word_dict_path = os.path.join(model_dir, \u001b[33m'\u001b[39;49;00m\u001b[33mword_dict.pkl\u001b[39;49;00m\u001b[33m'\u001b[39;49;00m)\r\n",
      "    \u001b[34mwith\u001b[39;49;00m \u001b[36mopen\u001b[39;49;00m(word_dict_path, \u001b[33m'\u001b[39;49;00m\u001b[33mrb\u001b[39;49;00m\u001b[33m'\u001b[39;49;00m) \u001b[34mas\u001b[39;49;00m f:\r\n",
      "        model.word_dict = pickle.load(f)\r\n",
      "\r\n",
      "    model.to(device).eval()\r\n",
      "\r\n",
      "    \u001b[36mprint\u001b[39;49;00m(\u001b[33m\"\u001b[39;49;00m\u001b[33mDone loading model.\u001b[39;49;00m\u001b[33m\"\u001b[39;49;00m)\r\n",
      "    \u001b[34mreturn\u001b[39;49;00m model\r\n",
      "\r\n",
      "\u001b[34mdef\u001b[39;49;00m \u001b[32minput_fn\u001b[39;49;00m(serialized_input_data, content_type):\r\n",
      "    \u001b[36mprint\u001b[39;49;00m(\u001b[33m'\u001b[39;49;00m\u001b[33mDeserializing the input data.\u001b[39;49;00m\u001b[33m'\u001b[39;49;00m)\r\n",
      "    \u001b[34mif\u001b[39;49;00m content_type == \u001b[33m'\u001b[39;49;00m\u001b[33mtext/plain\u001b[39;49;00m\u001b[33m'\u001b[39;49;00m:\r\n",
      "        data = serialized_input_data.decode(\u001b[33m'\u001b[39;49;00m\u001b[33mutf-8\u001b[39;49;00m\u001b[33m'\u001b[39;49;00m)\r\n",
      "        \u001b[34mreturn\u001b[39;49;00m data\r\n",
      "    \u001b[34mraise\u001b[39;49;00m \u001b[36mException\u001b[39;49;00m(\u001b[33m'\u001b[39;49;00m\u001b[33mRequested unsupported ContentType in content_type: \u001b[39;49;00m\u001b[33m'\u001b[39;49;00m + content_type)\r\n",
      "\r\n",
      "\u001b[34mdef\u001b[39;49;00m \u001b[32moutput_fn\u001b[39;49;00m(prediction_output, accept):\r\n",
      "    \u001b[36mprint\u001b[39;49;00m(\u001b[33m'\u001b[39;49;00m\u001b[33mSerializing the generated output.\u001b[39;49;00m\u001b[33m'\u001b[39;49;00m)\r\n",
      "    \u001b[34mreturn\u001b[39;49;00m \u001b[36mstr\u001b[39;49;00m(prediction_output)\r\n",
      "\r\n",
      "\u001b[34mdef\u001b[39;49;00m \u001b[32mpredict_fn\u001b[39;49;00m(input_data, model):\r\n",
      "    \u001b[36mprint\u001b[39;49;00m(\u001b[33m'\u001b[39;49;00m\u001b[33mInferring sentiment of input data.\u001b[39;49;00m\u001b[33m'\u001b[39;49;00m)\r\n",
      "\r\n",
      "    device = torch.device(\u001b[33m\"\u001b[39;49;00m\u001b[33mcuda\u001b[39;49;00m\u001b[33m\"\u001b[39;49;00m \u001b[34mif\u001b[39;49;00m torch.cuda.is_available() \u001b[34melse\u001b[39;49;00m \u001b[33m\"\u001b[39;49;00m\u001b[33mcpu\u001b[39;49;00m\u001b[33m\"\u001b[39;49;00m)\r\n",
      "    \r\n",
      "    \u001b[34mif\u001b[39;49;00m model.word_dict \u001b[35mis\u001b[39;49;00m \u001b[34mNone\u001b[39;49;00m:\r\n",
      "        \u001b[34mraise\u001b[39;49;00m \u001b[36mException\u001b[39;49;00m(\u001b[33m'\u001b[39;49;00m\u001b[33mModel has not been loaded properly, no word_dict.\u001b[39;49;00m\u001b[33m'\u001b[39;49;00m)\r\n",
      "    \r\n",
      "    \u001b[37m# TODO: Process input_data so that it is ready to be sent to our model.\u001b[39;49;00m\r\n",
      "    \u001b[37m#       You should produce two variables:\u001b[39;49;00m\r\n",
      "    \u001b[37m#         data_X   - A sequence of length 500 which represents the converted review\u001b[39;49;00m\r\n",
      "    \u001b[37m#         data_len - The length of the review\u001b[39;49;00m\r\n",
      "\r\n",
      "    review_converted = review_to_words(input_data)\r\n",
      "    data_X, data_len = convert_and_pad(model.word_dict, review_converted )\r\n",
      "\r\n",
      "    \u001b[37m# Using data_X and data_len we construct an appropriate input tensor. Remember\u001b[39;49;00m\r\n",
      "    \u001b[37m# that our model expects input data of the form 'len, review[500]'.\u001b[39;49;00m\r\n",
      "    data_pack = np.hstack((data_len, data_X))\r\n",
      "    data_pack = data_pack.reshape(\u001b[34m1\u001b[39;49;00m, -\u001b[34m1\u001b[39;49;00m)\r\n",
      "    \r\n",
      "    data = torch.from_numpy(data_pack)\r\n",
      "    data = data.to(device)\r\n",
      "\r\n",
      "    \u001b[37m# Make sure to put the model into evaluation mode\u001b[39;49;00m\r\n",
      "    model.eval()\r\n",
      "\r\n",
      "    \u001b[37m# TODO: Compute the result of applying the model to the input data. The variable `result` should\u001b[39;49;00m\r\n",
      "    \u001b[37m#       be a numpy array which contains a single integer which is either 1 or 0\u001b[39;49;00m\r\n",
      "    \u001b[34mwith\u001b[39;49;00m torch.no_grad():\r\n",
      "        output = model.forward(data)\r\n",
      "        \r\n",
      "    result = np.round(output.numpy())\r\n",
      "\r\n",
      "    \u001b[34mreturn\u001b[39;49;00m result\r\n"
     ]
    }
   ],
   "source": [
    "!pygmentize serve/predict.py"
   ]
  },
  {
   "cell_type": "markdown",
   "metadata": {},
   "source": [
    "As mentioned earlier, the `model_fn` method is the same as the one provided in the training code and the `input_fn` and `output_fn` methods are very simple and your task will be to complete the `predict_fn` method. Make sure that you save the completed file as `predict.py` in the `serve` directory.\n",
    "\n",
    "**TODO**: Complete the `predict_fn()` method in the `serve/predict.py` file."
   ]
  },
  {
   "cell_type": "markdown",
   "metadata": {},
   "source": [
    "### Deploying the model\n",
    "\n",
    "Now that the custom inference code has been written, we will create and deploy our model. To begin with, we need to construct a new PyTorchModel object which points to the model artifacts created during training and also points to the inference code that we wish to use. Then we can call the deploy method to launch the deployment container.\n",
    "\n",
    "**NOTE**: The default behaviour for a deployed PyTorch model is to assume that any input passed to the predictor is a `numpy` array. In our case we want to send a string so we need to construct a simple wrapper around the `RealTimePredictor` class to accomodate simple strings. In a more complicated situation you may want to provide a serialization object, for example if you wanted to sent image data."
   ]
  },
  {
   "cell_type": "code",
   "execution_count": 64,
   "metadata": {},
   "outputs": [
    {
     "name": "stderr",
     "output_type": "stream",
     "text": [
      "Parameter image will be renamed to image_uri in SageMaker Python SDK v2.\n",
      "'create_image_uri' will be deprecated in favor of 'ImageURIProvider' class in SageMaker Python SDK v2.\n"
     ]
    },
    {
     "name": "stdout",
     "output_type": "stream",
     "text": [
      "---------------!"
     ]
    }
   ],
   "source": [
    "from sagemaker.predictor import RealTimePredictor\n",
    "from sagemaker.pytorch import PyTorchModel\n",
    "\n",
    "class StringPredictor(RealTimePredictor):\n",
    "    def __init__(self, endpoint_name, sagemaker_session):\n",
    "        super(StringPredictor, self).__init__(endpoint_name, sagemaker_session, content_type='text/plain')\n",
    "\n",
    "model = PyTorchModel(model_data=estimator.model_data,\n",
    "                     role = role,\n",
    "                     framework_version='0.4.0',\n",
    "                     entry_point='predict.py',\n",
    "                     source_dir='serve',\n",
    "                     predictor_cls=StringPredictor)\n",
    "predictor = model.deploy(initial_instance_count=1, instance_type='ml.m4.xlarge')"
   ]
  },
  {
   "cell_type": "markdown",
   "metadata": {},
   "source": [
    "### Testing the model\n",
    "\n",
    "Now that we have deployed our model with the custom inference code, we should test to see if everything is working. Here we test our model by loading the first `250` positive and negative reviews and send them to the endpoint, then collect the results. The reason for only sending some of the data is that the amount of time it takes for our model to process the input and then perform inference is quite long and so testing the entire data set would be prohibitive."
   ]
  },
  {
   "cell_type": "code",
   "execution_count": 65,
   "metadata": {},
   "outputs": [],
   "source": [
    "import glob\n",
    "\n",
    "def test_reviews(data_dir='../data/aclImdb', stop=250):\n",
    "    \n",
    "    results = []\n",
    "    ground = []\n",
    "    \n",
    "    # We make sure to test both positive and negative reviews    \n",
    "    for sentiment in ['pos', 'neg']:\n",
    "        \n",
    "        path = os.path.join(data_dir, 'test', sentiment, '*.txt')\n",
    "        files = glob.glob(path)\n",
    "        \n",
    "        files_read = 0\n",
    "        \n",
    "        print('Starting ', sentiment, ' files')\n",
    "        \n",
    "        # Iterate through the files and send them to the predictor\n",
    "        for f in files:\n",
    "            with open(f) as review:\n",
    "                # First, we store the ground truth (was the review positive or negative)\n",
    "                if sentiment == 'pos':\n",
    "                    ground.append(1)\n",
    "                else:\n",
    "                    ground.append(0)\n",
    "                # Read in the review and convert to 'utf-8' for transmission via HTTP\n",
    "                review_input = review.read().encode('utf-8')\n",
    "                # Send the review to the predictor and store the results\n",
    "                results.append(float(predictor.predict(review_input)))\n",
    "                \n",
    "            # Sending reviews to our endpoint one at a time takes a while so we\n",
    "            # only send a small number of reviews\n",
    "            files_read += 1\n",
    "            if files_read == stop:\n",
    "                break\n",
    "            \n",
    "    return ground, results"
   ]
  },
  {
   "cell_type": "code",
   "execution_count": 66,
   "metadata": {},
   "outputs": [
    {
     "name": "stdout",
     "output_type": "stream",
     "text": [
      "Starting  pos  files\n",
      "Starting  neg  files\n"
     ]
    }
   ],
   "source": [
    "ground, results = test_reviews()"
   ]
  },
  {
   "cell_type": "code",
   "execution_count": 67,
   "metadata": {},
   "outputs": [
    {
     "data": {
      "text/plain": [
       "0.858"
      ]
     },
     "execution_count": 67,
     "metadata": {},
     "output_type": "execute_result"
    }
   ],
   "source": [
    "from sklearn.metrics import accuracy_score\n",
    "accuracy_score(ground, results)"
   ]
  },
  {
   "cell_type": "markdown",
   "metadata": {},
   "source": [
    "As an additional test, we can try sending the `test_review` that we looked at earlier."
   ]
  },
  {
   "cell_type": "code",
   "execution_count": 68,
   "metadata": {},
   "outputs": [
    {
     "data": {
      "text/plain": [
       "b'1.0'"
      ]
     },
     "execution_count": 68,
     "metadata": {},
     "output_type": "execute_result"
    }
   ],
   "source": [
    "predictor.predict(test_review)"
   ]
  },
  {
   "cell_type": "markdown",
   "metadata": {},
   "source": [
    "Now that we know our endpoint is working as expected, we can set up the web page that will interact with it. If you don't have time to finish the project now, make sure to skip down to the end of this notebook and shut down your endpoint. You can deploy it again when you come back."
   ]
  },
  {
   "cell_type": "markdown",
   "metadata": {},
   "source": [
    "## Step 7 (again): Use the model for the web app\n",
    "\n",
    "> **TODO:** This entire section and the next contain tasks for you to complete, mostly using the AWS console.\n",
    "\n",
    "So far we have been accessing our model endpoint by constructing a predictor object which uses the endpoint and then just using the predictor object to perform inference. What if we wanted to create a web app which accessed our model? The way things are set up currently makes that not possible since in order to access a SageMaker endpoint the app would first have to authenticate with AWS using an IAM role which included access to SageMaker endpoints. However, there is an easier way! We just need to use some additional AWS services.\n",
    "\n",
    "<img src=\"Web App Diagram.svg\">\n",
    "\n",
    "The diagram above gives an overview of how the various services will work together. On the far right is the model which we trained above and which is deployed using SageMaker. On the far left is our web app that collects a user's movie review, sends it off and expects a positive or negative sentiment in return.\n",
    "\n",
    "In the middle is where some of the magic happens. We will construct a Lambda function, which you can think of as a straightforward Python function that can be executed whenever a specified event occurs. We will give this function permission to send and recieve data from a SageMaker endpoint.\n",
    "\n",
    "Lastly, the method we will use to execute the Lambda function is a new endpoint that we will create using API Gateway. This endpoint will be a url that listens for data to be sent to it. Once it gets some data it will pass that data on to the Lambda function and then return whatever the Lambda function returns. Essentially it will act as an interface that lets our web app communicate with the Lambda function.\n",
    "\n",
    "### Setting up a Lambda function\n",
    "\n",
    "The first thing we are going to do is set up a Lambda function. This Lambda function will be executed whenever our public API has data sent to it. When it is executed it will receive the data, perform any sort of processing that is required, send the data (the review) to the SageMaker endpoint we've created and then return the result.\n",
    "\n",
    "#### Part A: Create an IAM Role for the Lambda function\n",
    "\n",
    "Since we want the Lambda function to call a SageMaker endpoint, we need to make sure that it has permission to do so. To do this, we will construct a role that we can later give the Lambda function.\n",
    "\n",
    "Using the AWS Console, navigate to the **IAM** page and click on **Roles**. Then, click on **Create role**. Make sure that the **AWS service** is the type of trusted entity selected and choose **Lambda** as the service that will use this role, then click **Next: Permissions**.\n",
    "\n",
    "In the search box type `sagemaker` and select the check box next to the **AmazonSageMakerFullAccess** policy. Then, click on **Next: Review**.\n",
    "\n",
    "Lastly, give this role a name. Make sure you use a name that you will remember later on, for example `LambdaSageMakerRole`. Then, click on **Create role**.\n",
    "\n",
    "#### Part B: Create a Lambda function\n",
    "\n",
    "Now it is time to actually create the Lambda function.\n",
    "\n",
    "Using the AWS Console, navigate to the AWS Lambda page and click on **Create a function**. When you get to the next page, make sure that **Author from scratch** is selected. Now, name your Lambda function, using a name that you will remember later on, for example `sentiment_analysis_func`. Make sure that the **Python 3.6** runtime is selected and then choose the role that you created in the previous part. Then, click on **Create Function**.\n",
    "\n",
    "On the next page you will see some information about the Lambda function you've just created. If you scroll down you should see an editor in which you can write the code that will be executed when your Lambda function is triggered. In our example, we will use the code below. \n",
    "\n",
    "```python\n",
    "# We need to use the low-level library to interact with SageMaker since the SageMaker API\n",
    "# is not available natively through Lambda.\n",
    "import boto3\n",
    "\n",
    "def lambda_handler(event, context):\n",
    "\n",
    "    # The SageMaker runtime is what allows us to invoke the endpoint that we've created.\n",
    "    runtime = boto3.Session().client('sagemaker-runtime')\n",
    "\n",
    "    # Now we use the SageMaker runtime to invoke our endpoint, sending the review we were given\n",
    "    response = runtime.invoke_endpoint(EndpointName = '**ENDPOINT NAME HERE**',    # The name of the endpoint we created\n",
    "                                       ContentType = 'text/plain',                 # The data format that is expected\n",
    "                                       Body = event['body'])                       # The actual review\n",
    "\n",
    "    # The response is an HTTP response whose body contains the result of our inference\n",
    "    result = response['Body'].read().decode('utf-8')\n",
    "\n",
    "    return {\n",
    "        'statusCode' : 200,\n",
    "        'headers' : { 'Content-Type' : 'text/plain', 'Access-Control-Allow-Origin' : '*' },\n",
    "        'body' : result\n",
    "    }\n",
    "```\n",
    "\n",
    "Once you have copy and pasted the code above into the Lambda code editor, replace the `**ENDPOINT NAME HERE**` portion with the name of the endpoint that we deployed earlier. You can determine the name of the endpoint using the code cell below."
   ]
  },
  {
   "cell_type": "code",
   "execution_count": 69,
   "metadata": {},
   "outputs": [
    {
     "data": {
      "text/plain": [
       "'sagemaker-pytorch-2021-02-16-18-23-17-578'"
      ]
     },
     "execution_count": 69,
     "metadata": {},
     "output_type": "execute_result"
    }
   ],
   "source": [
    "predictor.endpoint"
   ]
  },
  {
   "cell_type": "markdown",
   "metadata": {},
   "source": [
    "Once you have added the endpoint name to the Lambda function, click on **Save**. Your Lambda function is now up and running. Next we need to create a way for our web app to execute the Lambda function.\n",
    "\n",
    "### Setting up API Gateway\n",
    "\n",
    "Now that our Lambda function is set up, it is time to create a new API using API Gateway that will trigger the Lambda function we have just created.\n",
    "\n",
    "Using AWS Console, navigate to **Amazon API Gateway** and then click on **Get started**.\n",
    "\n",
    "On the next page, make sure that **New API** is selected and give the new api a name, for example, `sentiment_analysis_api`. Then, click on **Create API**.\n",
    "\n",
    "Now we have created an API, however it doesn't currently do anything. What we want it to do is to trigger the Lambda function that we created earlier.\n",
    "\n",
    "Select the **Actions** dropdown menu and click **Create Method**. A new blank method will be created, select its dropdown menu and select **POST**, then click on the check mark beside it.\n",
    "\n",
    "For the integration point, make sure that **Lambda Function** is selected and click on the **Use Lambda Proxy integration**. This option makes sure that the data that is sent to the API is then sent directly to the Lambda function with no processing. It also means that the return value must be a proper response object as it will also not be processed by API Gateway.\n",
    "\n",
    "Type the name of the Lambda function you created earlier into the **Lambda Function** text entry box and then click on **Save**. Click on **OK** in the pop-up box that then appears, giving permission to API Gateway to invoke the Lambda function you created.\n",
    "\n",
    "The last step in creating the API Gateway is to select the **Actions** dropdown and click on **Deploy API**. You will need to create a new Deployment stage and name it anything you like, for example `prod`.\n",
    "\n",
    "You have now successfully set up a public API to access your SageMaker model. Make sure to copy or write down the URL provided to invoke your newly created public API as this will be needed in the next step. This URL can be found at the top of the page, highlighted in blue next to the text **Invoke URL**."
   ]
  },
  {
   "cell_type": "markdown",
   "metadata": {},
   "source": [
    "## Step 4: Deploying our web app\n",
    "\n",
    "Now that we have a publicly available API, we can start using it in a web app. For our purposes, we have provided a simple static html file which can make use of the public api you created earlier.\n",
    "\n",
    "In the `website` folder there should be a file called `index.html`. Download the file to your computer and open that file up in a text editor of your choice. There should be a line which contains **\\*\\*REPLACE WITH PUBLIC API URL\\*\\***. Replace this string with the url that you wrote down in the last step and then save the file.\n",
    "\n",
    "Now, if you open `index.html` on your local computer, your browser will behave as a local web server and you can use the provided site to interact with your SageMaker model.\n",
    "\n",
    "If you'd like to go further, you can host this html file anywhere you'd like, for example using github or hosting a static site on Amazon's S3. Once you have done this you can share the link with anyone you'd like and have them play with it too!\n",
    "\n",
    "> **Important Note** In order for the web app to communicate with the SageMaker endpoint, the endpoint has to actually be deployed and running. This means that you are paying for it. Make sure that the endpoint is running when you want to use the web app but that you shut it down when you don't need it, otherwise you will end up with a surprisingly large AWS bill.\n",
    "\n",
    "**TODO:** Make sure that you include the edited `index.html` file in your project submission."
   ]
  },
  {
   "cell_type": "markdown",
   "metadata": {},
   "source": [
    "Now that your web app is working, trying playing around with it and see how well it works.\n",
    "\n",
    "**Question**: Give an example of a review that you entered into your web app. What was the predicted sentiment of your example review?"
   ]
  },
  {
   "cell_type": "markdown",
   "metadata": {},
   "source": [
    "**Answer:**\n",
    "\n",
    "I got some reviews from Pixar's movie \"Soul\" in the IMDB website. The model outputs are in the cells below."
   ]
  },
  {
   "cell_type": "markdown",
   "metadata": {},
   "source": [
    "<img src = results/1_star_review_negative.jpg>"
   ]
  },
  {
   "cell_type": "markdown",
   "metadata": {},
   "source": [
    "<img src = results/1_star_review_positive.jpg>"
   ]
  },
  {
   "cell_type": "markdown",
   "metadata": {},
   "source": [
    "<img src = results/3_star_review_positive.jpg>"
   ]
  },
  {
   "cell_type": "markdown",
   "metadata": {},
   "source": [
    "<img src = results/6_star_review_negative.jpg>"
   ]
  },
  {
   "cell_type": "markdown",
   "metadata": {},
   "source": [
    "### Delete the endpoint\n",
    "\n",
    "Remember to always shut down your endpoint if you are no longer using it. You are charged for the length of time that the endpoint is running so if you forget and leave it on you could end up with an unexpectedly large bill."
   ]
  },
  {
   "cell_type": "code",
   "execution_count": 70,
   "metadata": {},
   "outputs": [],
   "source": [
    "predictor.delete_endpoint()"
   ]
  }
 ],
 "metadata": {
  "kernelspec": {
   "display_name": "Python 3",
   "language": "python",
   "name": "python3"
  },
  "language_info": {
   "codemirror_mode": {
    "name": "ipython",
    "version": 3
   },
   "file_extension": ".py",
   "mimetype": "text/x-python",
   "name": "python",
   "nbconvert_exporter": "python",
   "pygments_lexer": "ipython3",
   "version": "3.8.3"
  }
 },
 "nbformat": 4,
 "nbformat_minor": 2
}
